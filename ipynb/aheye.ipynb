{
  "cells": [
    {
      "cell_type": "markdown",
      "metadata": {
        "id": "YUMy2KR_UO7d"
      },
      "source": [
        "import pandas เพื่อวิเคราะห์ข้อมูลสถิติ"
      ]
    },
    {
      "cell_type": "code",
      "execution_count": 127,
      "metadata": {
        "id": "b3EoIQn6UO7h"
      },
      "outputs": [],
      "source": [
        "import pandas as pd\n",
        "import matplotlib.pyplot as plt\n",
        "import numpy as np\n",
        "import matplotlib.font_manager as fm\n",
        "\n",
        "# เลือกฟอนต์ที่รองรับภาษาไทย เช่น TH Sarabun\n",
        "plt.rcParams['font.family'] = ''"
      ]
    },
    {
      "cell_type": "code",
      "execution_count": 128,
      "metadata": {
        "id": "MYgGFa3PUO7j"
      },
      "outputs": [],
      "source": [
        "#copy path ของไฟล์data index.csv แล้วเอามาวาง\n",
        "coff = pd.read_csv(\"/home/gamgamgam/Documents/Term1SecondYear/204203/coffee_sale/data/index.csv\")"
      ]
    },
    {
      "cell_type": "markdown",
      "metadata": {
        "id": "OnIYjjCSUO7k"
      },
      "source": [
        "ข้อมูลสรุปเชิงสถิติและการกระจายตัวของข้อมูล\n",
        "1.ยอดขายในแต่ละเดือนที่ขายกาแฟได้\n",
        "2.ในแต่ละเดือนกาแฟในแต่ละเดื่อน\n",
        "3.ในแต่ละเดือนผู้คนส่วนใหญ่ใช้อะไรในการจ่ายค่ากาแฟ\n",
        "3.ช่วงเวลาที่ขายกาแฟได้มากที่สุดในแต่ละเดือน\n",
        "4.หายอดขายกาแฟอะไรมากที่สุดในแต่ละเดือน\n",
        "5.จำนวนลูกค้าในแต่ละวัน"
      ]
    },
    {
      "cell_type": "code",
      "execution_count": 129,
      "metadata": {
        "colab": {
          "base_uri": "https://localhost:8080/",
          "height": 536
        },
        "id": "jr3fW8kwUO7m",
        "outputId": "50c03961-8eb2-4ee0-9577-db673c9d2d20"
      },
      "outputs": [
        {
          "data": {
            "text/html": [
              "<div>\n",
              "<style scoped>\n",
              "    .dataframe tbody tr th:only-of-type {\n",
              "        vertical-align: middle;\n",
              "    }\n",
              "\n",
              "    .dataframe tbody tr th {\n",
              "        vertical-align: top;\n",
              "    }\n",
              "\n",
              "    .dataframe thead th {\n",
              "        text-align: right;\n",
              "    }\n",
              "</style>\n",
              "<table border=\"1\" class=\"dataframe\">\n",
              "  <thead>\n",
              "    <tr style=\"text-align: right;\">\n",
              "      <th></th>\n",
              "      <th>date</th>\n",
              "      <th>datetime</th>\n",
              "      <th>cash_type</th>\n",
              "      <th>card</th>\n",
              "      <th>money</th>\n",
              "      <th>coffee_name</th>\n",
              "    </tr>\n",
              "  </thead>\n",
              "  <tbody>\n",
              "    <tr>\n",
              "      <th>0</th>\n",
              "      <td>2024-03-01</td>\n",
              "      <td>2024-03-01 10:15:50.520</td>\n",
              "      <td>card</td>\n",
              "      <td>ANON-0000-0000-0001</td>\n",
              "      <td>38.7</td>\n",
              "      <td>Latte</td>\n",
              "    </tr>\n",
              "    <tr>\n",
              "      <th>1</th>\n",
              "      <td>2024-03-01</td>\n",
              "      <td>2024-03-01 12:19:22.539</td>\n",
              "      <td>card</td>\n",
              "      <td>ANON-0000-0000-0002</td>\n",
              "      <td>38.7</td>\n",
              "      <td>Hot Chocolate</td>\n",
              "    </tr>\n",
              "    <tr>\n",
              "      <th>2</th>\n",
              "      <td>2024-03-01</td>\n",
              "      <td>2024-03-01 12:20:18.089</td>\n",
              "      <td>card</td>\n",
              "      <td>ANON-0000-0000-0002</td>\n",
              "      <td>38.7</td>\n",
              "      <td>Hot Chocolate</td>\n",
              "    </tr>\n",
              "    <tr>\n",
              "      <th>3</th>\n",
              "      <td>2024-03-01</td>\n",
              "      <td>2024-03-01 13:46:33.006</td>\n",
              "      <td>card</td>\n",
              "      <td>ANON-0000-0000-0003</td>\n",
              "      <td>28.9</td>\n",
              "      <td>Americano</td>\n",
              "    </tr>\n",
              "    <tr>\n",
              "      <th>4</th>\n",
              "      <td>2024-03-01</td>\n",
              "      <td>2024-03-01 13:48:14.626</td>\n",
              "      <td>card</td>\n",
              "      <td>ANON-0000-0000-0004</td>\n",
              "      <td>38.7</td>\n",
              "      <td>Latte</td>\n",
              "    </tr>\n",
              "    <tr>\n",
              "      <th>5</th>\n",
              "      <td>2024-03-01</td>\n",
              "      <td>2024-03-01 15:39:47.726</td>\n",
              "      <td>card</td>\n",
              "      <td>ANON-0000-0000-0005</td>\n",
              "      <td>33.8</td>\n",
              "      <td>Americano with Milk</td>\n",
              "    </tr>\n",
              "    <tr>\n",
              "      <th>6</th>\n",
              "      <td>2024-03-01</td>\n",
              "      <td>2024-03-01 16:19:02.756</td>\n",
              "      <td>card</td>\n",
              "      <td>ANON-0000-0000-0006</td>\n",
              "      <td>38.7</td>\n",
              "      <td>Hot Chocolate</td>\n",
              "    </tr>\n",
              "    <tr>\n",
              "      <th>7</th>\n",
              "      <td>2024-03-01</td>\n",
              "      <td>2024-03-01 18:39:03.580</td>\n",
              "      <td>card</td>\n",
              "      <td>ANON-0000-0000-0007</td>\n",
              "      <td>33.8</td>\n",
              "      <td>Americano with Milk</td>\n",
              "    </tr>\n",
              "    <tr>\n",
              "      <th>8</th>\n",
              "      <td>2024-03-01</td>\n",
              "      <td>2024-03-01 19:22:01.762</td>\n",
              "      <td>card</td>\n",
              "      <td>ANON-0000-0000-0008</td>\n",
              "      <td>38.7</td>\n",
              "      <td>Cocoa</td>\n",
              "    </tr>\n",
              "    <tr>\n",
              "      <th>9</th>\n",
              "      <td>2024-03-01</td>\n",
              "      <td>2024-03-01 19:23:15.887</td>\n",
              "      <td>card</td>\n",
              "      <td>ANON-0000-0000-0008</td>\n",
              "      <td>33.8</td>\n",
              "      <td>Americano with Milk</td>\n",
              "    </tr>\n",
              "  </tbody>\n",
              "</table>\n",
              "</div>"
            ],
            "text/plain": [
              "         date                 datetime cash_type                 card  money  \\\n",
              "0  2024-03-01  2024-03-01 10:15:50.520      card  ANON-0000-0000-0001   38.7   \n",
              "1  2024-03-01  2024-03-01 12:19:22.539      card  ANON-0000-0000-0002   38.7   \n",
              "2  2024-03-01  2024-03-01 12:20:18.089      card  ANON-0000-0000-0002   38.7   \n",
              "3  2024-03-01  2024-03-01 13:46:33.006      card  ANON-0000-0000-0003   28.9   \n",
              "4  2024-03-01  2024-03-01 13:48:14.626      card  ANON-0000-0000-0004   38.7   \n",
              "5  2024-03-01  2024-03-01 15:39:47.726      card  ANON-0000-0000-0005   33.8   \n",
              "6  2024-03-01  2024-03-01 16:19:02.756      card  ANON-0000-0000-0006   38.7   \n",
              "7  2024-03-01  2024-03-01 18:39:03.580      card  ANON-0000-0000-0007   33.8   \n",
              "8  2024-03-01  2024-03-01 19:22:01.762      card  ANON-0000-0000-0008   38.7   \n",
              "9  2024-03-01  2024-03-01 19:23:15.887      card  ANON-0000-0000-0008   33.8   \n",
              "\n",
              "           coffee_name  \n",
              "0                Latte  \n",
              "1        Hot Chocolate  \n",
              "2        Hot Chocolate  \n",
              "3            Americano  \n",
              "4                Latte  \n",
              "5  Americano with Milk  \n",
              "6        Hot Chocolate  \n",
              "7  Americano with Milk  \n",
              "8                Cocoa  \n",
              "9  Americano with Milk  "
            ]
          },
          "execution_count": 129,
          "metadata": {},
          "output_type": "execute_result"
        }
      ],
      "source": [
        "coff.head(10)"
      ]
    },
    {
      "cell_type": "code",
      "execution_count": 130,
      "metadata": {
        "colab": {
          "base_uri": "https://localhost:8080/"
        },
        "id": "sy4xQ96IUO7o",
        "outputId": "5523fbf4-2d68-442d-fb13-f7e6d579c4f1"
      },
      "outputs": [
        {
          "name": "stdout",
          "output_type": "stream",
          "text": [
            "<class 'pandas.core.frame.DataFrame'>\n",
            "RangeIndex: 1464 entries, 0 to 1463\n",
            "Data columns (total 6 columns):\n",
            " #   Column       Non-Null Count  Dtype  \n",
            "---  ------       --------------  -----  \n",
            " 0   date         1464 non-null   object \n",
            " 1   datetime     1464 non-null   object \n",
            " 2   cash_type    1464 non-null   object \n",
            " 3   card         1375 non-null   object \n",
            " 4   money        1464 non-null   float64\n",
            " 5   coffee_name  1464 non-null   object \n",
            "dtypes: float64(1), object(5)\n",
            "memory usage: 68.8+ KB\n"
          ]
        }
      ],
      "source": [
        "coff.info()"
      ]
    },
    {
      "cell_type": "markdown",
      "metadata": {
        "id": "RqOCF-lhUO7p"
      },
      "source": [
        "เตรียมข้อมูล"
      ]
    },
    {
      "cell_type": "code",
      "execution_count": 131,
      "metadata": {
        "colab": {
          "base_uri": "https://localhost:8080/",
          "height": 486
        },
        "id": "BjiFeggtUO7q",
        "outputId": "251cb902-6b8d-4701-eb5f-4f67f72aa3d6"
      },
      "outputs": [
        {
          "data": {
            "text/html": [
              "<div>\n",
              "<style scoped>\n",
              "    .dataframe tbody tr th:only-of-type {\n",
              "        vertical-align: middle;\n",
              "    }\n",
              "\n",
              "    .dataframe tbody tr th {\n",
              "        vertical-align: top;\n",
              "    }\n",
              "\n",
              "    .dataframe thead th {\n",
              "        text-align: right;\n",
              "    }\n",
              "</style>\n",
              "<table border=\"1\" class=\"dataframe\">\n",
              "  <thead>\n",
              "    <tr style=\"text-align: right;\">\n",
              "      <th></th>\n",
              "      <th>date</th>\n",
              "      <th>datetime</th>\n",
              "      <th>cash_type</th>\n",
              "      <th>card</th>\n",
              "      <th>money</th>\n",
              "      <th>coffee_name</th>\n",
              "      <th>month</th>\n",
              "      <th>day</th>\n",
              "      <th>hour</th>\n",
              "      <th>money_THB</th>\n",
              "      <th>time_period</th>\n",
              "    </tr>\n",
              "  </thead>\n",
              "  <tbody>\n",
              "    <tr>\n",
              "      <th>0</th>\n",
              "      <td>2024-03-01</td>\n",
              "      <td>2024-03-01 10:15:50.520</td>\n",
              "      <td>card</td>\n",
              "      <td>ANON-0000-0000-0001</td>\n",
              "      <td>38.7</td>\n",
              "      <td>Latte</td>\n",
              "      <td>03</td>\n",
              "      <td>01</td>\n",
              "      <td>10</td>\n",
              "      <td>30.573</td>\n",
              "      <td>Morning</td>\n",
              "    </tr>\n",
              "    <tr>\n",
              "      <th>1</th>\n",
              "      <td>2024-03-01</td>\n",
              "      <td>2024-03-01 12:19:22.539</td>\n",
              "      <td>card</td>\n",
              "      <td>ANON-0000-0000-0002</td>\n",
              "      <td>38.7</td>\n",
              "      <td>Hot Chocolate</td>\n",
              "      <td>03</td>\n",
              "      <td>01</td>\n",
              "      <td>12</td>\n",
              "      <td>30.573</td>\n",
              "      <td>Afternoon</td>\n",
              "    </tr>\n",
              "    <tr>\n",
              "      <th>2</th>\n",
              "      <td>2024-03-01</td>\n",
              "      <td>2024-03-01 12:20:18.089</td>\n",
              "      <td>card</td>\n",
              "      <td>ANON-0000-0000-0002</td>\n",
              "      <td>38.7</td>\n",
              "      <td>Hot Chocolate</td>\n",
              "      <td>03</td>\n",
              "      <td>01</td>\n",
              "      <td>12</td>\n",
              "      <td>30.573</td>\n",
              "      <td>Afternoon</td>\n",
              "    </tr>\n",
              "    <tr>\n",
              "      <th>3</th>\n",
              "      <td>2024-03-01</td>\n",
              "      <td>2024-03-01 13:46:33.006</td>\n",
              "      <td>card</td>\n",
              "      <td>ANON-0000-0000-0003</td>\n",
              "      <td>28.9</td>\n",
              "      <td>Americano</td>\n",
              "      <td>03</td>\n",
              "      <td>01</td>\n",
              "      <td>13</td>\n",
              "      <td>22.831</td>\n",
              "      <td>Afternoon</td>\n",
              "    </tr>\n",
              "    <tr>\n",
              "      <th>4</th>\n",
              "      <td>2024-03-01</td>\n",
              "      <td>2024-03-01 13:48:14.626</td>\n",
              "      <td>card</td>\n",
              "      <td>ANON-0000-0000-0004</td>\n",
              "      <td>38.7</td>\n",
              "      <td>Latte</td>\n",
              "      <td>03</td>\n",
              "      <td>01</td>\n",
              "      <td>13</td>\n",
              "      <td>30.573</td>\n",
              "      <td>Afternoon</td>\n",
              "    </tr>\n",
              "  </tbody>\n",
              "</table>\n",
              "</div>"
            ],
            "text/plain": [
              "         date                 datetime cash_type                 card  money  \\\n",
              "0  2024-03-01  2024-03-01 10:15:50.520      card  ANON-0000-0000-0001   38.7   \n",
              "1  2024-03-01  2024-03-01 12:19:22.539      card  ANON-0000-0000-0002   38.7   \n",
              "2  2024-03-01  2024-03-01 12:20:18.089      card  ANON-0000-0000-0002   38.7   \n",
              "3  2024-03-01  2024-03-01 13:46:33.006      card  ANON-0000-0000-0003   28.9   \n",
              "4  2024-03-01  2024-03-01 13:48:14.626      card  ANON-0000-0000-0004   38.7   \n",
              "\n",
              "     coffee_name month day hour  money_THB time_period  \n",
              "0          Latte    03  01   10     30.573     Morning  \n",
              "1  Hot Chocolate    03  01   12     30.573   Afternoon  \n",
              "2  Hot Chocolate    03  01   12     30.573   Afternoon  \n",
              "3      Americano    03  01   13     22.831   Afternoon  \n",
              "4          Latte    03  01   13     30.573   Afternoon  "
            ]
          },
          "execution_count": 131,
          "metadata": {},
          "output_type": "execute_result"
        }
      ],
      "source": [
        "coff['month'] = coff['date'].apply(lambda x : x.split('-')[1])\n",
        "coff['day'] = coff['date'].apply(lambda x : x.split('-')[2])\n",
        "coff['hour'] = coff['datetime'].apply(lambda x : x.split(' ')[1][:2])\n",
        "#ค่าเงินจากยูเครนฮรีฟเนีย (UAH) 25 ก.ย. 17:02 UTC 1uah = 0.79 บาท\n",
        "#1 USD = 41.42  UAH\n",
        "coff['money_THB'] = coff['money']*0.79\n",
        "\n",
        "def get_time_period(hour):\n",
        "    if '07' <= hour < '12':\n",
        "        return 'Morning'\n",
        "    elif '12' <= hour < '18':\n",
        "        return 'Afternoon'\n",
        "    else:\n",
        "        return 'Evening'\n",
        "\n",
        "coff['time_period'] = coff['hour'].apply(get_time_period)\n",
        "coff.head()"
      ]
    },
    {
      "cell_type": "code",
      "execution_count": 132,
      "metadata": {
        "colab": {
          "base_uri": "https://localhost:8080/",
          "height": 300
        },
        "id": "YKcgJh-7UO7s",
        "outputId": "92c174c9-fe08-4260-ec69-773410ab3623"
      },
      "outputs": [
        {
          "data": {
            "text/html": [
              "<div>\n",
              "<style scoped>\n",
              "    .dataframe tbody tr th:only-of-type {\n",
              "        vertical-align: middle;\n",
              "    }\n",
              "\n",
              "    .dataframe tbody tr th {\n",
              "        vertical-align: top;\n",
              "    }\n",
              "\n",
              "    .dataframe thead th {\n",
              "        text-align: right;\n",
              "    }\n",
              "</style>\n",
              "<table border=\"1\" class=\"dataframe\">\n",
              "  <thead>\n",
              "    <tr style=\"text-align: right;\">\n",
              "      <th></th>\n",
              "      <th>money</th>\n",
              "      <th>money_THB</th>\n",
              "    </tr>\n",
              "  </thead>\n",
              "  <tbody>\n",
              "    <tr>\n",
              "      <th>count</th>\n",
              "      <td>1464.000000</td>\n",
              "      <td>1464.000000</td>\n",
              "    </tr>\n",
              "    <tr>\n",
              "      <th>mean</th>\n",
              "      <td>32.013661</td>\n",
              "      <td>25.290792</td>\n",
              "    </tr>\n",
              "    <tr>\n",
              "      <th>std</th>\n",
              "      <td>5.317022</td>\n",
              "      <td>4.200447</td>\n",
              "    </tr>\n",
              "    <tr>\n",
              "      <th>min</th>\n",
              "      <td>18.120000</td>\n",
              "      <td>14.314800</td>\n",
              "    </tr>\n",
              "    <tr>\n",
              "      <th>25%</th>\n",
              "      <td>27.920000</td>\n",
              "      <td>22.056800</td>\n",
              "    </tr>\n",
              "    <tr>\n",
              "      <th>50%</th>\n",
              "      <td>32.820000</td>\n",
              "      <td>25.927800</td>\n",
              "    </tr>\n",
              "    <tr>\n",
              "      <th>75%</th>\n",
              "      <td>37.720000</td>\n",
              "      <td>29.798800</td>\n",
              "    </tr>\n",
              "    <tr>\n",
              "      <th>max</th>\n",
              "      <td>40.000000</td>\n",
              "      <td>31.600000</td>\n",
              "    </tr>\n",
              "  </tbody>\n",
              "</table>\n",
              "</div>"
            ],
            "text/plain": [
              "             money    money_THB\n",
              "count  1464.000000  1464.000000\n",
              "mean     32.013661    25.290792\n",
              "std       5.317022     4.200447\n",
              "min      18.120000    14.314800\n",
              "25%      27.920000    22.056800\n",
              "50%      32.820000    25.927800\n",
              "75%      37.720000    29.798800\n",
              "max      40.000000    31.600000"
            ]
          },
          "execution_count": 132,
          "metadata": {},
          "output_type": "execute_result"
        }
      ],
      "source": [
        "coff.describe()"
      ]
    },
    {
      "cell_type": "markdown",
      "metadata": {
        "id": "sgZBWI1qUO7t"
      },
      "source": [
        "หาค่ากลางหรือค่ามัธยฐาน ค่าความแปรปรวน และค่าฐานนิยม"
      ]
    },
    {
      "cell_type": "code",
      "execution_count": 133,
      "metadata": {
        "colab": {
          "base_uri": "https://localhost:8080/"
        },
        "id": "daDeCsaKUO7u",
        "outputId": "e7312f2c-ad84-4496-de75-0efd5ba3fa5f"
      },
      "outputs": [
        {
          "name": "stdout",
          "output_type": "stream",
          "text": [
            "ฐานนิยม: 25.9278\n",
            "ค่าความแปรปรวน: 17.64375780921006\n",
            "ค่ามัธยฐาน: 25.9278\n"
          ]
        }
      ],
      "source": [
        "mode = coff['money_THB'].mode().iloc[0]\n",
        "var = coff['money_THB'].var()\n",
        "med = coff['money_THB'].median()\n",
        "\n",
        "print(f\"ฐานนิยม: {mode}\")\n",
        "print(f\"ค่าความแปรปรวน: {var}\")\n",
        "print(f\"ค่ามัธยฐาน: {med}\")"
      ]
    },
    {
      "cell_type": "code",
      "execution_count": 134,
      "metadata": {
        "colab": {
          "base_uri": "https://localhost:8080/"
        },
        "id": "QsVW9QcbUO7v",
        "outputId": "cfe7d506-8d72-4fda-f3b4-047288487590"
      },
      "outputs": [
        {
          "name": "stdout",
          "output_type": "stream",
          "text": [
            "จำนวนแถวของข้อมูล : 1464\n",
            "จำนวนแถวของข้อมูล : 11\n"
          ]
        }
      ],
      "source": [
        "print(f\"จำนวนแถวของข้อมูล : {coff.shape[0]}\")\n",
        "print(f\"จำนวนแถวของข้อมูล : {coff.shape[1]}\")"
      ]
    },
    {
      "cell_type": "markdown",
      "metadata": {
        "id": "VkKOYeJGUO7w"
      },
      "source": [
        "การกระจายตัวของข้อมูลนี้ (สร้างตารางควอไทล์)"
      ]
    },
    {
      "cell_type": "code",
      "execution_count": 135,
      "metadata": {
        "colab": {
          "base_uri": "https://localhost:8080/"
        },
        "id": "v0VUPgyAUO7x",
        "outputId": "0741922f-f25f-4eab-e529-4f60b28e5351"
      },
      "outputs": [
        {
          "name": "stdout",
          "output_type": "stream",
          "text": [
            "Q1 : 22.056800000000003\n",
            "Q3 : 29.7988\n",
            "IQR : 7.741999999999997\n",
            "ค่าเฉลี่ยของข้อมูล : 25.290792349726775\n",
            "lower_bound : 10.443800000000007\n",
            "upper_bound : 41.4118\n"
          ]
        }
      ],
      "source": [
        "Q1 = coff['money_THB'].quantile(0.25)\n",
        "Q3 = coff['money_THB'].quantile(0.75)\n",
        "#หา Q1 Q3 ด้วย เปอร์เซ็นพาย\n",
        "IQR = Q3 - Q1\n",
        "\n",
        "print(f\"Q1 : {Q1}\")\n",
        "print(f\"Q3 : {Q3}\")\n",
        "print(f\"IQR : {IQR}\")\n",
        "print(f\"ค่าเฉลี่ยของข้อมูล : {coff['money_THB'].mean()}\")\n",
        "\n",
        "# Define outlier range\n",
        "lower_bound = Q1 - 1.5 * IQR # ถ้าน้อยกว่าค่านี้จะเป็นค่าผิดปกติ\n",
        "upper_bound = Q3 + 1.5 * IQR # ถ้ามากกว่าจะเป็นค่าผิดปกติ\n",
        "\n",
        "print(f\"lower_bound : {lower_bound}\")\n",
        "print(f\"upper_bound : {upper_bound}\")\n",
        "coff2 = coff[(coff['money_THB'] >= lower_bound) & (coff['money_THB'] <= upper_bound)] # ลบ data ที่ผิดปกติออกทั้งแถว!"
      ]
    },
    {
      "cell_type": "markdown",
      "metadata": {
        "id": "9CrlihZNUO7y"
      },
      "source": [
        "จากการตรวจสอบการกระจายของข้อมูล พบว่ามีข้อมูลที่ผิดปกติอยู่หนึ่งค่าที่ไม่สามารถอธิบายได้ว่าเกิดจากอะไร เราได้ทำการเช็ควันที่ขายกาแฟวันนั้นแล้วก็มีค่ากาแฟชนิดนี้ซึ่งไม่เกิน30สิบ แล้วก็ดูค่าเฉลี่ยของกาแฟชนิดก็ไม่เกิน 30 เช่นกัน จากนั้นเราก็ได้ตรวจสอบการใข้บัตรของลูกค้าคนนี้ก็พบว่าการที่ลูกค่ามาซื้อของวันอื่นก็ไม่ได้มีค่าที่ผิดปกติอะไร เราจึงทำการดรอปข้อมูลนี้ทิ้งไป"
      ]
    },
    {
      "cell_type": "code",
      "execution_count": 136,
      "metadata": {
        "colab": {
          "base_uri": "https://localhost:8080/"
        },
        "id": "a5VYQLJmUO7y",
        "outputId": "b04beb49-03fb-485b-996a-9970fd929ec9"
      },
      "outputs": [
        {
          "name": "stdout",
          "output_type": "stream",
          "text": [
            "Empty DataFrame\n",
            "Columns: [date, datetime, cash_type, card, money, coffee_name, month, day, hour, money_THB, time_period]\n",
            "Index: []\n"
          ]
        }
      ],
      "source": [
        "ans2 = coff[(coff['money_THB'] <= lower_bound) | (coff['money_THB'] >= upper_bound)]\n",
        "print(ans2)"
      ]
    },
    {
      "cell_type": "markdown",
      "metadata": {
        "id": "mXq8CJMkUO7z"
      },
      "source": [
        "ข้อมูลของกาแฟที่สูงที่สุด (สร้างกราฟให้หน่อย)"
      ]
    },
    {
      "cell_type": "code",
      "execution_count": 137,
      "metadata": {
        "colab": {
          "base_uri": "https://localhost:8080/",
          "height": 1000
        },
        "id": "ALEoO7vBUO7z",
        "outputId": "6be68363-f70f-4d1b-d7fd-2a5bbcbba774"
      },
      "outputs": [
        {
          "data": {
            "text/html": [
              "<div>\n",
              "<style scoped>\n",
              "    .dataframe tbody tr th:only-of-type {\n",
              "        vertical-align: middle;\n",
              "    }\n",
              "\n",
              "    .dataframe tbody tr th {\n",
              "        vertical-align: top;\n",
              "    }\n",
              "\n",
              "    .dataframe thead th {\n",
              "        text-align: right;\n",
              "    }\n",
              "</style>\n",
              "<table border=\"1\" class=\"dataframe\">\n",
              "  <thead>\n",
              "    <tr style=\"text-align: right;\">\n",
              "      <th></th>\n",
              "      <th>date</th>\n",
              "      <th>datetime</th>\n",
              "      <th>cash_type</th>\n",
              "      <th>card</th>\n",
              "      <th>money</th>\n",
              "      <th>coffee_name</th>\n",
              "      <th>month</th>\n",
              "      <th>day</th>\n",
              "      <th>hour</th>\n",
              "      <th>money_THB</th>\n",
              "      <th>time_period</th>\n",
              "    </tr>\n",
              "  </thead>\n",
              "  <tbody>\n",
              "    <tr>\n",
              "      <th>12</th>\n",
              "      <td>2024-03-02</td>\n",
              "      <td>2024-03-02 10:30:35.668</td>\n",
              "      <td>cash</td>\n",
              "      <td>NaN</td>\n",
              "      <td>40.0</td>\n",
              "      <td>Latte</td>\n",
              "      <td>03</td>\n",
              "      <td>02</td>\n",
              "      <td>10</td>\n",
              "      <td>31.6</td>\n",
              "      <td>Morning</td>\n",
              "    </tr>\n",
              "    <tr>\n",
              "      <th>18</th>\n",
              "      <td>2024-03-03</td>\n",
              "      <td>2024-03-03 10:10:43.981</td>\n",
              "      <td>cash</td>\n",
              "      <td>NaN</td>\n",
              "      <td>40.0</td>\n",
              "      <td>Latte</td>\n",
              "      <td>03</td>\n",
              "      <td>03</td>\n",
              "      <td>10</td>\n",
              "      <td>31.6</td>\n",
              "      <td>Morning</td>\n",
              "    </tr>\n",
              "    <tr>\n",
              "      <th>46</th>\n",
              "      <td>2024-03-07</td>\n",
              "      <td>2024-03-07 10:08:58.945</td>\n",
              "      <td>cash</td>\n",
              "      <td>NaN</td>\n",
              "      <td>40.0</td>\n",
              "      <td>Latte</td>\n",
              "      <td>03</td>\n",
              "      <td>07</td>\n",
              "      <td>10</td>\n",
              "      <td>31.6</td>\n",
              "      <td>Morning</td>\n",
              "    </tr>\n",
              "    <tr>\n",
              "      <th>49</th>\n",
              "      <td>2024-03-07</td>\n",
              "      <td>2024-03-07 11:25:43.977</td>\n",
              "      <td>cash</td>\n",
              "      <td>NaN</td>\n",
              "      <td>40.0</td>\n",
              "      <td>Latte</td>\n",
              "      <td>03</td>\n",
              "      <td>07</td>\n",
              "      <td>11</td>\n",
              "      <td>31.6</td>\n",
              "      <td>Morning</td>\n",
              "    </tr>\n",
              "    <tr>\n",
              "      <th>60</th>\n",
              "      <td>2024-03-09</td>\n",
              "      <td>2024-03-09 11:49:37.292</td>\n",
              "      <td>cash</td>\n",
              "      <td>NaN</td>\n",
              "      <td>40.0</td>\n",
              "      <td>Hot Chocolate</td>\n",
              "      <td>03</td>\n",
              "      <td>09</td>\n",
              "      <td>11</td>\n",
              "      <td>31.6</td>\n",
              "      <td>Morning</td>\n",
              "    </tr>\n",
              "    <tr>\n",
              "      <th>76</th>\n",
              "      <td>2024-03-10</td>\n",
              "      <td>2024-03-10 10:06:02.960</td>\n",
              "      <td>cash</td>\n",
              "      <td>NaN</td>\n",
              "      <td>40.0</td>\n",
              "      <td>Latte</td>\n",
              "      <td>03</td>\n",
              "      <td>10</td>\n",
              "      <td>10</td>\n",
              "      <td>31.6</td>\n",
              "      <td>Morning</td>\n",
              "    </tr>\n",
              "    <tr>\n",
              "      <th>81</th>\n",
              "      <td>2024-03-11</td>\n",
              "      <td>2024-03-11 10:18:46.724</td>\n",
              "      <td>cash</td>\n",
              "      <td>NaN</td>\n",
              "      <td>40.0</td>\n",
              "      <td>Latte</td>\n",
              "      <td>03</td>\n",
              "      <td>11</td>\n",
              "      <td>10</td>\n",
              "      <td>31.6</td>\n",
              "      <td>Morning</td>\n",
              "    </tr>\n",
              "    <tr>\n",
              "      <th>82</th>\n",
              "      <td>2024-03-11</td>\n",
              "      <td>2024-03-11 11:24:15.022</td>\n",
              "      <td>cash</td>\n",
              "      <td>NaN</td>\n",
              "      <td>40.0</td>\n",
              "      <td>Cappuccino</td>\n",
              "      <td>03</td>\n",
              "      <td>11</td>\n",
              "      <td>11</td>\n",
              "      <td>31.6</td>\n",
              "      <td>Morning</td>\n",
              "    </tr>\n",
              "    <tr>\n",
              "      <th>89</th>\n",
              "      <td>2024-03-12</td>\n",
              "      <td>2024-03-12 10:15:00.297</td>\n",
              "      <td>cash</td>\n",
              "      <td>NaN</td>\n",
              "      <td>40.0</td>\n",
              "      <td>Latte</td>\n",
              "      <td>03</td>\n",
              "      <td>12</td>\n",
              "      <td>10</td>\n",
              "      <td>31.6</td>\n",
              "      <td>Morning</td>\n",
              "    </tr>\n",
              "    <tr>\n",
              "      <th>105</th>\n",
              "      <td>2024-03-14</td>\n",
              "      <td>2024-03-14 10:02:12.241</td>\n",
              "      <td>cash</td>\n",
              "      <td>NaN</td>\n",
              "      <td>40.0</td>\n",
              "      <td>Latte</td>\n",
              "      <td>03</td>\n",
              "      <td>14</td>\n",
              "      <td>10</td>\n",
              "      <td>31.6</td>\n",
              "      <td>Morning</td>\n",
              "    </tr>\n",
              "    <tr>\n",
              "      <th>117</th>\n",
              "      <td>2024-03-15</td>\n",
              "      <td>2024-03-15 10:02:16.533</td>\n",
              "      <td>cash</td>\n",
              "      <td>NaN</td>\n",
              "      <td>40.0</td>\n",
              "      <td>Latte</td>\n",
              "      <td>03</td>\n",
              "      <td>15</td>\n",
              "      <td>10</td>\n",
              "      <td>31.6</td>\n",
              "      <td>Morning</td>\n",
              "    </tr>\n",
              "    <tr>\n",
              "      <th>126</th>\n",
              "      <td>2024-03-17</td>\n",
              "      <td>2024-03-17 10:10:21.399</td>\n",
              "      <td>cash</td>\n",
              "      <td>NaN</td>\n",
              "      <td>40.0</td>\n",
              "      <td>Latte</td>\n",
              "      <td>03</td>\n",
              "      <td>17</td>\n",
              "      <td>10</td>\n",
              "      <td>31.6</td>\n",
              "      <td>Morning</td>\n",
              "    </tr>\n",
              "    <tr>\n",
              "      <th>137</th>\n",
              "      <td>2024-03-19</td>\n",
              "      <td>2024-03-19 19:26:32.677</td>\n",
              "      <td>cash</td>\n",
              "      <td>NaN</td>\n",
              "      <td>40.0</td>\n",
              "      <td>Hot Chocolate</td>\n",
              "      <td>03</td>\n",
              "      <td>19</td>\n",
              "      <td>19</td>\n",
              "      <td>31.6</td>\n",
              "      <td>Evening</td>\n",
              "    </tr>\n",
              "    <tr>\n",
              "      <th>139</th>\n",
              "      <td>2024-03-20</td>\n",
              "      <td>2024-03-20 12:21:07.728</td>\n",
              "      <td>cash</td>\n",
              "      <td>NaN</td>\n",
              "      <td>40.0</td>\n",
              "      <td>Latte</td>\n",
              "      <td>03</td>\n",
              "      <td>20</td>\n",
              "      <td>12</td>\n",
              "      <td>31.6</td>\n",
              "      <td>Afternoon</td>\n",
              "    </tr>\n",
              "    <tr>\n",
              "      <th>144</th>\n",
              "      <td>2024-03-21</td>\n",
              "      <td>2024-03-21 10:18:56.977</td>\n",
              "      <td>cash</td>\n",
              "      <td>NaN</td>\n",
              "      <td>40.0</td>\n",
              "      <td>Cappuccino</td>\n",
              "      <td>03</td>\n",
              "      <td>21</td>\n",
              "      <td>10</td>\n",
              "      <td>31.6</td>\n",
              "      <td>Morning</td>\n",
              "    </tr>\n",
              "    <tr>\n",
              "      <th>152</th>\n",
              "      <td>2024-03-22</td>\n",
              "      <td>2024-03-22 16:15:14.448</td>\n",
              "      <td>cash</td>\n",
              "      <td>NaN</td>\n",
              "      <td>40.0</td>\n",
              "      <td>Cappuccino</td>\n",
              "      <td>03</td>\n",
              "      <td>22</td>\n",
              "      <td>16</td>\n",
              "      <td>31.6</td>\n",
              "      <td>Afternoon</td>\n",
              "    </tr>\n",
              "    <tr>\n",
              "      <th>164</th>\n",
              "      <td>2024-03-24</td>\n",
              "      <td>2024-03-24 10:03:56.005</td>\n",
              "      <td>cash</td>\n",
              "      <td>NaN</td>\n",
              "      <td>40.0</td>\n",
              "      <td>Latte</td>\n",
              "      <td>03</td>\n",
              "      <td>24</td>\n",
              "      <td>10</td>\n",
              "      <td>31.6</td>\n",
              "      <td>Morning</td>\n",
              "    </tr>\n",
              "    <tr>\n",
              "      <th>190</th>\n",
              "      <td>2024-03-27</td>\n",
              "      <td>2024-03-27 19:31:12.442</td>\n",
              "      <td>cash</td>\n",
              "      <td>NaN</td>\n",
              "      <td>40.0</td>\n",
              "      <td>Latte</td>\n",
              "      <td>03</td>\n",
              "      <td>27</td>\n",
              "      <td>19</td>\n",
              "      <td>31.6</td>\n",
              "      <td>Evening</td>\n",
              "    </tr>\n",
              "    <tr>\n",
              "      <th>198</th>\n",
              "      <td>2024-03-29</td>\n",
              "      <td>2024-03-29 13:22:44.618</td>\n",
              "      <td>cash</td>\n",
              "      <td>NaN</td>\n",
              "      <td>40.0</td>\n",
              "      <td>Cappuccino</td>\n",
              "      <td>03</td>\n",
              "      <td>29</td>\n",
              "      <td>13</td>\n",
              "      <td>31.6</td>\n",
              "      <td>Afternoon</td>\n",
              "    </tr>\n",
              "    <tr>\n",
              "      <th>200</th>\n",
              "      <td>2024-03-30</td>\n",
              "      <td>2024-03-30 13:49:25.815</td>\n",
              "      <td>cash</td>\n",
              "      <td>NaN</td>\n",
              "      <td>40.0</td>\n",
              "      <td>Cappuccino</td>\n",
              "      <td>03</td>\n",
              "      <td>30</td>\n",
              "      <td>13</td>\n",
              "      <td>31.6</td>\n",
              "      <td>Afternoon</td>\n",
              "    </tr>\n",
              "    <tr>\n",
              "      <th>210</th>\n",
              "      <td>2024-04-01</td>\n",
              "      <td>2024-04-01 17:01:42.924</td>\n",
              "      <td>cash</td>\n",
              "      <td>NaN</td>\n",
              "      <td>40.0</td>\n",
              "      <td>Cappuccino</td>\n",
              "      <td>04</td>\n",
              "      <td>01</td>\n",
              "      <td>17</td>\n",
              "      <td>31.6</td>\n",
              "      <td>Afternoon</td>\n",
              "    </tr>\n",
              "    <tr>\n",
              "      <th>216</th>\n",
              "      <td>2024-04-02</td>\n",
              "      <td>2024-04-02 19:59:31.942</td>\n",
              "      <td>cash</td>\n",
              "      <td>NaN</td>\n",
              "      <td>40.0</td>\n",
              "      <td>Cappuccino</td>\n",
              "      <td>04</td>\n",
              "      <td>02</td>\n",
              "      <td>19</td>\n",
              "      <td>31.6</td>\n",
              "      <td>Evening</td>\n",
              "    </tr>\n",
              "    <tr>\n",
              "      <th>225</th>\n",
              "      <td>2024-04-04</td>\n",
              "      <td>2024-04-04 19:42:07.740</td>\n",
              "      <td>cash</td>\n",
              "      <td>NaN</td>\n",
              "      <td>40.0</td>\n",
              "      <td>Latte</td>\n",
              "      <td>04</td>\n",
              "      <td>04</td>\n",
              "      <td>19</td>\n",
              "      <td>31.6</td>\n",
              "      <td>Evening</td>\n",
              "    </tr>\n",
              "    <tr>\n",
              "      <th>232</th>\n",
              "      <td>2024-04-05</td>\n",
              "      <td>2024-04-05 15:30:50.383</td>\n",
              "      <td>cash</td>\n",
              "      <td>NaN</td>\n",
              "      <td>40.0</td>\n",
              "      <td>Latte</td>\n",
              "      <td>04</td>\n",
              "      <td>05</td>\n",
              "      <td>15</td>\n",
              "      <td>31.6</td>\n",
              "      <td>Afternoon</td>\n",
              "    </tr>\n",
              "    <tr>\n",
              "      <th>233</th>\n",
              "      <td>2024-04-05</td>\n",
              "      <td>2024-04-05 15:54:15.768</td>\n",
              "      <td>cash</td>\n",
              "      <td>NaN</td>\n",
              "      <td>40.0</td>\n",
              "      <td>Cappuccino</td>\n",
              "      <td>04</td>\n",
              "      <td>05</td>\n",
              "      <td>15</td>\n",
              "      <td>31.6</td>\n",
              "      <td>Afternoon</td>\n",
              "    </tr>\n",
              "    <tr>\n",
              "      <th>235</th>\n",
              "      <td>2024-04-05</td>\n",
              "      <td>2024-04-05 16:17:43.975</td>\n",
              "      <td>cash</td>\n",
              "      <td>NaN</td>\n",
              "      <td>40.0</td>\n",
              "      <td>Cocoa</td>\n",
              "      <td>04</td>\n",
              "      <td>05</td>\n",
              "      <td>16</td>\n",
              "      <td>31.6</td>\n",
              "      <td>Afternoon</td>\n",
              "    </tr>\n",
              "    <tr>\n",
              "      <th>258</th>\n",
              "      <td>2024-04-09</td>\n",
              "      <td>2024-04-09 10:22:27.359</td>\n",
              "      <td>cash</td>\n",
              "      <td>NaN</td>\n",
              "      <td>40.0</td>\n",
              "      <td>Cappuccino</td>\n",
              "      <td>04</td>\n",
              "      <td>09</td>\n",
              "      <td>10</td>\n",
              "      <td>31.6</td>\n",
              "      <td>Morning</td>\n",
              "    </tr>\n",
              "    <tr>\n",
              "      <th>264</th>\n",
              "      <td>2024-04-10</td>\n",
              "      <td>2024-04-10 17:55:07.018</td>\n",
              "      <td>cash</td>\n",
              "      <td>NaN</td>\n",
              "      <td>40.0</td>\n",
              "      <td>Hot Chocolate</td>\n",
              "      <td>04</td>\n",
              "      <td>10</td>\n",
              "      <td>17</td>\n",
              "      <td>31.6</td>\n",
              "      <td>Afternoon</td>\n",
              "    </tr>\n",
              "    <tr>\n",
              "      <th>277</th>\n",
              "      <td>2024-04-13</td>\n",
              "      <td>2024-04-13 15:06:52.292</td>\n",
              "      <td>cash</td>\n",
              "      <td>NaN</td>\n",
              "      <td>40.0</td>\n",
              "      <td>Hot Chocolate</td>\n",
              "      <td>04</td>\n",
              "      <td>13</td>\n",
              "      <td>15</td>\n",
              "      <td>31.6</td>\n",
              "      <td>Afternoon</td>\n",
              "    </tr>\n",
              "    <tr>\n",
              "      <th>278</th>\n",
              "      <td>2024-04-13</td>\n",
              "      <td>2024-04-13 15:07:55.966</td>\n",
              "      <td>cash</td>\n",
              "      <td>NaN</td>\n",
              "      <td>40.0</td>\n",
              "      <td>Hot Chocolate</td>\n",
              "      <td>04</td>\n",
              "      <td>13</td>\n",
              "      <td>15</td>\n",
              "      <td>31.6</td>\n",
              "      <td>Afternoon</td>\n",
              "    </tr>\n",
              "    <tr>\n",
              "      <th>283</th>\n",
              "      <td>2024-04-14</td>\n",
              "      <td>2024-04-14 10:55:27.406</td>\n",
              "      <td>cash</td>\n",
              "      <td>NaN</td>\n",
              "      <td>40.0</td>\n",
              "      <td>Latte</td>\n",
              "      <td>04</td>\n",
              "      <td>14</td>\n",
              "      <td>10</td>\n",
              "      <td>31.6</td>\n",
              "      <td>Morning</td>\n",
              "    </tr>\n",
              "    <tr>\n",
              "      <th>311</th>\n",
              "      <td>2024-04-17</td>\n",
              "      <td>2024-04-17 16:13:24.310</td>\n",
              "      <td>cash</td>\n",
              "      <td>NaN</td>\n",
              "      <td>40.0</td>\n",
              "      <td>Cappuccino</td>\n",
              "      <td>04</td>\n",
              "      <td>17</td>\n",
              "      <td>16</td>\n",
              "      <td>31.6</td>\n",
              "      <td>Afternoon</td>\n",
              "    </tr>\n",
              "  </tbody>\n",
              "</table>\n",
              "</div>"
            ],
            "text/plain": [
              "           date                 datetime cash_type card  money    coffee_name  \\\n",
              "12   2024-03-02  2024-03-02 10:30:35.668      cash  NaN   40.0          Latte   \n",
              "18   2024-03-03  2024-03-03 10:10:43.981      cash  NaN   40.0          Latte   \n",
              "46   2024-03-07  2024-03-07 10:08:58.945      cash  NaN   40.0          Latte   \n",
              "49   2024-03-07  2024-03-07 11:25:43.977      cash  NaN   40.0          Latte   \n",
              "60   2024-03-09  2024-03-09 11:49:37.292      cash  NaN   40.0  Hot Chocolate   \n",
              "76   2024-03-10  2024-03-10 10:06:02.960      cash  NaN   40.0          Latte   \n",
              "81   2024-03-11  2024-03-11 10:18:46.724      cash  NaN   40.0          Latte   \n",
              "82   2024-03-11  2024-03-11 11:24:15.022      cash  NaN   40.0     Cappuccino   \n",
              "89   2024-03-12  2024-03-12 10:15:00.297      cash  NaN   40.0          Latte   \n",
              "105  2024-03-14  2024-03-14 10:02:12.241      cash  NaN   40.0          Latte   \n",
              "117  2024-03-15  2024-03-15 10:02:16.533      cash  NaN   40.0          Latte   \n",
              "126  2024-03-17  2024-03-17 10:10:21.399      cash  NaN   40.0          Latte   \n",
              "137  2024-03-19  2024-03-19 19:26:32.677      cash  NaN   40.0  Hot Chocolate   \n",
              "139  2024-03-20  2024-03-20 12:21:07.728      cash  NaN   40.0          Latte   \n",
              "144  2024-03-21  2024-03-21 10:18:56.977      cash  NaN   40.0     Cappuccino   \n",
              "152  2024-03-22  2024-03-22 16:15:14.448      cash  NaN   40.0     Cappuccino   \n",
              "164  2024-03-24  2024-03-24 10:03:56.005      cash  NaN   40.0          Latte   \n",
              "190  2024-03-27  2024-03-27 19:31:12.442      cash  NaN   40.0          Latte   \n",
              "198  2024-03-29  2024-03-29 13:22:44.618      cash  NaN   40.0     Cappuccino   \n",
              "200  2024-03-30  2024-03-30 13:49:25.815      cash  NaN   40.0     Cappuccino   \n",
              "210  2024-04-01  2024-04-01 17:01:42.924      cash  NaN   40.0     Cappuccino   \n",
              "216  2024-04-02  2024-04-02 19:59:31.942      cash  NaN   40.0     Cappuccino   \n",
              "225  2024-04-04  2024-04-04 19:42:07.740      cash  NaN   40.0          Latte   \n",
              "232  2024-04-05  2024-04-05 15:30:50.383      cash  NaN   40.0          Latte   \n",
              "233  2024-04-05  2024-04-05 15:54:15.768      cash  NaN   40.0     Cappuccino   \n",
              "235  2024-04-05  2024-04-05 16:17:43.975      cash  NaN   40.0          Cocoa   \n",
              "258  2024-04-09  2024-04-09 10:22:27.359      cash  NaN   40.0     Cappuccino   \n",
              "264  2024-04-10  2024-04-10 17:55:07.018      cash  NaN   40.0  Hot Chocolate   \n",
              "277  2024-04-13  2024-04-13 15:06:52.292      cash  NaN   40.0  Hot Chocolate   \n",
              "278  2024-04-13  2024-04-13 15:07:55.966      cash  NaN   40.0  Hot Chocolate   \n",
              "283  2024-04-14  2024-04-14 10:55:27.406      cash  NaN   40.0          Latte   \n",
              "311  2024-04-17  2024-04-17 16:13:24.310      cash  NaN   40.0     Cappuccino   \n",
              "\n",
              "    month day hour  money_THB time_period  \n",
              "12     03  02   10       31.6     Morning  \n",
              "18     03  03   10       31.6     Morning  \n",
              "46     03  07   10       31.6     Morning  \n",
              "49     03  07   11       31.6     Morning  \n",
              "60     03  09   11       31.6     Morning  \n",
              "76     03  10   10       31.6     Morning  \n",
              "81     03  11   10       31.6     Morning  \n",
              "82     03  11   11       31.6     Morning  \n",
              "89     03  12   10       31.6     Morning  \n",
              "105    03  14   10       31.6     Morning  \n",
              "117    03  15   10       31.6     Morning  \n",
              "126    03  17   10       31.6     Morning  \n",
              "137    03  19   19       31.6     Evening  \n",
              "139    03  20   12       31.6   Afternoon  \n",
              "144    03  21   10       31.6     Morning  \n",
              "152    03  22   16       31.6   Afternoon  \n",
              "164    03  24   10       31.6     Morning  \n",
              "190    03  27   19       31.6     Evening  \n",
              "198    03  29   13       31.6   Afternoon  \n",
              "200    03  30   13       31.6   Afternoon  \n",
              "210    04  01   17       31.6   Afternoon  \n",
              "216    04  02   19       31.6     Evening  \n",
              "225    04  04   19       31.6     Evening  \n",
              "232    04  05   15       31.6   Afternoon  \n",
              "233    04  05   15       31.6   Afternoon  \n",
              "235    04  05   16       31.6   Afternoon  \n",
              "258    04  09   10       31.6     Morning  \n",
              "264    04  10   17       31.6   Afternoon  \n",
              "277    04  13   15       31.6   Afternoon  \n",
              "278    04  13   15       31.6   Afternoon  \n",
              "283    04  14   10       31.6     Morning  \n",
              "311    04  17   16       31.6   Afternoon  "
            ]
          },
          "execution_count": 137,
          "metadata": {},
          "output_type": "execute_result"
        }
      ],
      "source": [
        "result = coff2[coff2['money_THB'] == coff['money_THB'].max()]\n",
        "result"
      ]
    },
    {
      "cell_type": "markdown",
      "metadata": {
        "id": "gbn_roNCUO70"
      },
      "source": [
        "ข้อมูลของกาแฟที่น้อยที่สุด (สร้างกราฟให้หน่อย)"
      ]
    },
    {
      "cell_type": "code",
      "execution_count": 138,
      "metadata": {
        "colab": {
          "base_uri": "https://localhost:8080/",
          "height": 1000
        },
        "id": "e0NAtP84UO71",
        "outputId": "4b1aae48-d6b3-4537-9e65-ae161ed16846"
      },
      "outputs": [
        {
          "data": {
            "text/html": [
              "<div>\n",
              "<style scoped>\n",
              "    .dataframe tbody tr th:only-of-type {\n",
              "        vertical-align: middle;\n",
              "    }\n",
              "\n",
              "    .dataframe tbody tr th {\n",
              "        vertical-align: top;\n",
              "    }\n",
              "\n",
              "    .dataframe thead th {\n",
              "        text-align: right;\n",
              "    }\n",
              "</style>\n",
              "<table border=\"1\" class=\"dataframe\">\n",
              "  <thead>\n",
              "    <tr style=\"text-align: right;\">\n",
              "      <th></th>\n",
              "      <th>date</th>\n",
              "      <th>datetime</th>\n",
              "      <th>cash_type</th>\n",
              "      <th>card</th>\n",
              "      <th>money</th>\n",
              "      <th>coffee_name</th>\n",
              "      <th>month</th>\n",
              "      <th>day</th>\n",
              "      <th>hour</th>\n",
              "      <th>money_THB</th>\n",
              "      <th>time_period</th>\n",
              "    </tr>\n",
              "  </thead>\n",
              "  <tbody>\n",
              "    <tr>\n",
              "      <th>977</th>\n",
              "      <td>2024-07-18</td>\n",
              "      <td>2024-07-18 11:11:23.434</td>\n",
              "      <td>card</td>\n",
              "      <td>ANON-0000-0000-0381</td>\n",
              "      <td>18.12</td>\n",
              "      <td>Espresso</td>\n",
              "      <td>07</td>\n",
              "      <td>18</td>\n",
              "      <td>11</td>\n",
              "      <td>14.3148</td>\n",
              "      <td>Morning</td>\n",
              "    </tr>\n",
              "    <tr>\n",
              "      <th>1024</th>\n",
              "      <td>2024-07-24</td>\n",
              "      <td>2024-07-24 09:54:37.456</td>\n",
              "      <td>card</td>\n",
              "      <td>ANON-0000-0000-0402</td>\n",
              "      <td>18.12</td>\n",
              "      <td>Espresso</td>\n",
              "      <td>07</td>\n",
              "      <td>24</td>\n",
              "      <td>09</td>\n",
              "      <td>14.3148</td>\n",
              "      <td>Morning</td>\n",
              "    </tr>\n",
              "    <tr>\n",
              "      <th>1027</th>\n",
              "      <td>2024-07-24</td>\n",
              "      <td>2024-07-24 14:45:49.766</td>\n",
              "      <td>card</td>\n",
              "      <td>ANON-0000-0000-0012</td>\n",
              "      <td>18.12</td>\n",
              "      <td>Espresso</td>\n",
              "      <td>07</td>\n",
              "      <td>24</td>\n",
              "      <td>14</td>\n",
              "      <td>14.3148</td>\n",
              "      <td>Afternoon</td>\n",
              "    </tr>\n",
              "    <tr>\n",
              "      <th>1041</th>\n",
              "      <td>2024-07-25</td>\n",
              "      <td>2024-07-25 21:06:50.002</td>\n",
              "      <td>card</td>\n",
              "      <td>ANON-0000-0000-0404</td>\n",
              "      <td>18.12</td>\n",
              "      <td>Espresso</td>\n",
              "      <td>07</td>\n",
              "      <td>25</td>\n",
              "      <td>21</td>\n",
              "      <td>14.3148</td>\n",
              "      <td>Evening</td>\n",
              "    </tr>\n",
              "    <tr>\n",
              "      <th>1046</th>\n",
              "      <td>2024-07-26</td>\n",
              "      <td>2024-07-26 09:20:34.344</td>\n",
              "      <td>card</td>\n",
              "      <td>ANON-0000-0000-0059</td>\n",
              "      <td>18.12</td>\n",
              "      <td>Espresso</td>\n",
              "      <td>07</td>\n",
              "      <td>26</td>\n",
              "      <td>09</td>\n",
              "      <td>14.3148</td>\n",
              "      <td>Morning</td>\n",
              "    </tr>\n",
              "    <tr>\n",
              "      <th>1063</th>\n",
              "      <td>2024-07-27</td>\n",
              "      <td>2024-07-27 12:26:13.159</td>\n",
              "      <td>card</td>\n",
              "      <td>ANON-0000-0000-0040</td>\n",
              "      <td>18.12</td>\n",
              "      <td>Espresso</td>\n",
              "      <td>07</td>\n",
              "      <td>27</td>\n",
              "      <td>12</td>\n",
              "      <td>14.3148</td>\n",
              "      <td>Afternoon</td>\n",
              "    </tr>\n",
              "    <tr>\n",
              "      <th>1065</th>\n",
              "      <td>2024-07-27</td>\n",
              "      <td>2024-07-27 14:28:41.904</td>\n",
              "      <td>card</td>\n",
              "      <td>ANON-0000-0000-0225</td>\n",
              "      <td>18.12</td>\n",
              "      <td>Espresso</td>\n",
              "      <td>07</td>\n",
              "      <td>27</td>\n",
              "      <td>14</td>\n",
              "      <td>14.3148</td>\n",
              "      <td>Afternoon</td>\n",
              "    </tr>\n",
              "    <tr>\n",
              "      <th>1073</th>\n",
              "      <td>2024-07-28</td>\n",
              "      <td>2024-07-28 11:07:25.920</td>\n",
              "      <td>card</td>\n",
              "      <td>ANON-0000-0000-0012</td>\n",
              "      <td>18.12</td>\n",
              "      <td>Espresso</td>\n",
              "      <td>07</td>\n",
              "      <td>28</td>\n",
              "      <td>11</td>\n",
              "      <td>14.3148</td>\n",
              "      <td>Morning</td>\n",
              "    </tr>\n",
              "    <tr>\n",
              "      <th>1095</th>\n",
              "      <td>2024-07-30</td>\n",
              "      <td>2024-07-30 11:13:16.218</td>\n",
              "      <td>card</td>\n",
              "      <td>ANON-0000-0000-0426</td>\n",
              "      <td>18.12</td>\n",
              "      <td>Espresso</td>\n",
              "      <td>07</td>\n",
              "      <td>30</td>\n",
              "      <td>11</td>\n",
              "      <td>14.3148</td>\n",
              "      <td>Morning</td>\n",
              "    </tr>\n",
              "    <tr>\n",
              "      <th>1104</th>\n",
              "      <td>2024-07-30</td>\n",
              "      <td>2024-07-30 20:24:19.874</td>\n",
              "      <td>card</td>\n",
              "      <td>ANON-0000-0000-0434</td>\n",
              "      <td>18.12</td>\n",
              "      <td>Espresso</td>\n",
              "      <td>07</td>\n",
              "      <td>30</td>\n",
              "      <td>20</td>\n",
              "      <td>14.3148</td>\n",
              "      <td>Evening</td>\n",
              "    </tr>\n",
              "    <tr>\n",
              "      <th>1156</th>\n",
              "      <td>2024-08-03</td>\n",
              "      <td>2024-08-03 11:56:36.628</td>\n",
              "      <td>card</td>\n",
              "      <td>ANON-0000-0000-0040</td>\n",
              "      <td>18.12</td>\n",
              "      <td>Espresso</td>\n",
              "      <td>08</td>\n",
              "      <td>03</td>\n",
              "      <td>11</td>\n",
              "      <td>14.3148</td>\n",
              "      <td>Morning</td>\n",
              "    </tr>\n",
              "    <tr>\n",
              "      <th>1193</th>\n",
              "      <td>2024-08-07</td>\n",
              "      <td>2024-08-07 13:11:16.155</td>\n",
              "      <td>card</td>\n",
              "      <td>ANON-0000-0000-0469</td>\n",
              "      <td>18.12</td>\n",
              "      <td>Espresso</td>\n",
              "      <td>08</td>\n",
              "      <td>07</td>\n",
              "      <td>13</td>\n",
              "      <td>14.3148</td>\n",
              "      <td>Afternoon</td>\n",
              "    </tr>\n",
              "    <tr>\n",
              "      <th>1200</th>\n",
              "      <td>2024-08-08</td>\n",
              "      <td>2024-08-08 08:46:36.204</td>\n",
              "      <td>card</td>\n",
              "      <td>ANON-0000-0000-0141</td>\n",
              "      <td>18.12</td>\n",
              "      <td>Espresso</td>\n",
              "      <td>08</td>\n",
              "      <td>08</td>\n",
              "      <td>08</td>\n",
              "      <td>14.3148</td>\n",
              "      <td>Morning</td>\n",
              "    </tr>\n",
              "    <tr>\n",
              "      <th>1237</th>\n",
              "      <td>2024-08-11</td>\n",
              "      <td>2024-08-11 16:28:38.296</td>\n",
              "      <td>card</td>\n",
              "      <td>ANON-0000-0000-0485</td>\n",
              "      <td>18.12</td>\n",
              "      <td>Espresso</td>\n",
              "      <td>08</td>\n",
              "      <td>11</td>\n",
              "      <td>16</td>\n",
              "      <td>14.3148</td>\n",
              "      <td>Afternoon</td>\n",
              "    </tr>\n",
              "    <tr>\n",
              "      <th>1247</th>\n",
              "      <td>2024-08-12</td>\n",
              "      <td>2024-08-12 14:04:03.399</td>\n",
              "      <td>card</td>\n",
              "      <td>ANON-0000-0000-0492</td>\n",
              "      <td>18.12</td>\n",
              "      <td>Espresso</td>\n",
              "      <td>08</td>\n",
              "      <td>12</td>\n",
              "      <td>14</td>\n",
              "      <td>14.3148</td>\n",
              "      <td>Afternoon</td>\n",
              "    </tr>\n",
              "    <tr>\n",
              "      <th>1271</th>\n",
              "      <td>2024-08-14</td>\n",
              "      <td>2024-08-14 11:39:07.882</td>\n",
              "      <td>card</td>\n",
              "      <td>ANON-0000-0000-0095</td>\n",
              "      <td>18.12</td>\n",
              "      <td>Espresso</td>\n",
              "      <td>08</td>\n",
              "      <td>14</td>\n",
              "      <td>11</td>\n",
              "      <td>14.3148</td>\n",
              "      <td>Morning</td>\n",
              "    </tr>\n",
              "    <tr>\n",
              "      <th>1288</th>\n",
              "      <td>2024-08-15</td>\n",
              "      <td>2024-08-15 14:18:50.777</td>\n",
              "      <td>card</td>\n",
              "      <td>ANON-0000-0000-0012</td>\n",
              "      <td>18.12</td>\n",
              "      <td>Espresso</td>\n",
              "      <td>08</td>\n",
              "      <td>15</td>\n",
              "      <td>14</td>\n",
              "      <td>14.3148</td>\n",
              "      <td>Afternoon</td>\n",
              "    </tr>\n",
              "    <tr>\n",
              "      <th>1295</th>\n",
              "      <td>2024-08-15</td>\n",
              "      <td>2024-08-15 21:35:20.080</td>\n",
              "      <td>card</td>\n",
              "      <td>ANON-0000-0000-0040</td>\n",
              "      <td>18.12</td>\n",
              "      <td>Espresso</td>\n",
              "      <td>08</td>\n",
              "      <td>15</td>\n",
              "      <td>21</td>\n",
              "      <td>14.3148</td>\n",
              "      <td>Evening</td>\n",
              "    </tr>\n",
              "    <tr>\n",
              "      <th>1300</th>\n",
              "      <td>2024-08-16</td>\n",
              "      <td>2024-08-16 15:18:51.737</td>\n",
              "      <td>card</td>\n",
              "      <td>ANON-0000-0000-0012</td>\n",
              "      <td>18.12</td>\n",
              "      <td>Espresso</td>\n",
              "      <td>08</td>\n",
              "      <td>16</td>\n",
              "      <td>15</td>\n",
              "      <td>14.3148</td>\n",
              "      <td>Afternoon</td>\n",
              "    </tr>\n",
              "    <tr>\n",
              "      <th>1301</th>\n",
              "      <td>2024-08-16</td>\n",
              "      <td>2024-08-16 15:19:39.274</td>\n",
              "      <td>card</td>\n",
              "      <td>ANON-0000-0000-0012</td>\n",
              "      <td>18.12</td>\n",
              "      <td>Espresso</td>\n",
              "      <td>08</td>\n",
              "      <td>16</td>\n",
              "      <td>15</td>\n",
              "      <td>14.3148</td>\n",
              "      <td>Afternoon</td>\n",
              "    </tr>\n",
              "    <tr>\n",
              "      <th>1329</th>\n",
              "      <td>2024-08-20</td>\n",
              "      <td>2024-08-20 08:49:47.474</td>\n",
              "      <td>card</td>\n",
              "      <td>ANON-0000-0000-0526</td>\n",
              "      <td>18.12</td>\n",
              "      <td>Espresso</td>\n",
              "      <td>08</td>\n",
              "      <td>20</td>\n",
              "      <td>08</td>\n",
              "      <td>14.3148</td>\n",
              "      <td>Morning</td>\n",
              "    </tr>\n",
              "    <tr>\n",
              "      <th>1370</th>\n",
              "      <td>2024-08-24</td>\n",
              "      <td>2024-08-24 10:18:09.485</td>\n",
              "      <td>card</td>\n",
              "      <td>ANON-0000-0000-0544</td>\n",
              "      <td>18.12</td>\n",
              "      <td>Espresso</td>\n",
              "      <td>08</td>\n",
              "      <td>24</td>\n",
              "      <td>10</td>\n",
              "      <td>14.3148</td>\n",
              "      <td>Morning</td>\n",
              "    </tr>\n",
              "    <tr>\n",
              "      <th>1371</th>\n",
              "      <td>2024-08-24</td>\n",
              "      <td>2024-08-24 10:18:52.263</td>\n",
              "      <td>card</td>\n",
              "      <td>ANON-0000-0000-0544</td>\n",
              "      <td>18.12</td>\n",
              "      <td>Espresso</td>\n",
              "      <td>08</td>\n",
              "      <td>24</td>\n",
              "      <td>10</td>\n",
              "      <td>14.3148</td>\n",
              "      <td>Morning</td>\n",
              "    </tr>\n",
              "    <tr>\n",
              "      <th>1401</th>\n",
              "      <td>2024-08-31</td>\n",
              "      <td>2024-08-31 10:22:26.877</td>\n",
              "      <td>card</td>\n",
              "      <td>ANON-0000-0000-0556</td>\n",
              "      <td>18.12</td>\n",
              "      <td>Espresso</td>\n",
              "      <td>08</td>\n",
              "      <td>31</td>\n",
              "      <td>10</td>\n",
              "      <td>14.3148</td>\n",
              "      <td>Morning</td>\n",
              "    </tr>\n",
              "  </tbody>\n",
              "</table>\n",
              "</div>"
            ],
            "text/plain": [
              "            date                 datetime cash_type                 card  \\\n",
              "977   2024-07-18  2024-07-18 11:11:23.434      card  ANON-0000-0000-0381   \n",
              "1024  2024-07-24  2024-07-24 09:54:37.456      card  ANON-0000-0000-0402   \n",
              "1027  2024-07-24  2024-07-24 14:45:49.766      card  ANON-0000-0000-0012   \n",
              "1041  2024-07-25  2024-07-25 21:06:50.002      card  ANON-0000-0000-0404   \n",
              "1046  2024-07-26  2024-07-26 09:20:34.344      card  ANON-0000-0000-0059   \n",
              "1063  2024-07-27  2024-07-27 12:26:13.159      card  ANON-0000-0000-0040   \n",
              "1065  2024-07-27  2024-07-27 14:28:41.904      card  ANON-0000-0000-0225   \n",
              "1073  2024-07-28  2024-07-28 11:07:25.920      card  ANON-0000-0000-0012   \n",
              "1095  2024-07-30  2024-07-30 11:13:16.218      card  ANON-0000-0000-0426   \n",
              "1104  2024-07-30  2024-07-30 20:24:19.874      card  ANON-0000-0000-0434   \n",
              "1156  2024-08-03  2024-08-03 11:56:36.628      card  ANON-0000-0000-0040   \n",
              "1193  2024-08-07  2024-08-07 13:11:16.155      card  ANON-0000-0000-0469   \n",
              "1200  2024-08-08  2024-08-08 08:46:36.204      card  ANON-0000-0000-0141   \n",
              "1237  2024-08-11  2024-08-11 16:28:38.296      card  ANON-0000-0000-0485   \n",
              "1247  2024-08-12  2024-08-12 14:04:03.399      card  ANON-0000-0000-0492   \n",
              "1271  2024-08-14  2024-08-14 11:39:07.882      card  ANON-0000-0000-0095   \n",
              "1288  2024-08-15  2024-08-15 14:18:50.777      card  ANON-0000-0000-0012   \n",
              "1295  2024-08-15  2024-08-15 21:35:20.080      card  ANON-0000-0000-0040   \n",
              "1300  2024-08-16  2024-08-16 15:18:51.737      card  ANON-0000-0000-0012   \n",
              "1301  2024-08-16  2024-08-16 15:19:39.274      card  ANON-0000-0000-0012   \n",
              "1329  2024-08-20  2024-08-20 08:49:47.474      card  ANON-0000-0000-0526   \n",
              "1370  2024-08-24  2024-08-24 10:18:09.485      card  ANON-0000-0000-0544   \n",
              "1371  2024-08-24  2024-08-24 10:18:52.263      card  ANON-0000-0000-0544   \n",
              "1401  2024-08-31  2024-08-31 10:22:26.877      card  ANON-0000-0000-0556   \n",
              "\n",
              "      money coffee_name month day hour  money_THB time_period  \n",
              "977   18.12    Espresso    07  18   11    14.3148     Morning  \n",
              "1024  18.12    Espresso    07  24   09    14.3148     Morning  \n",
              "1027  18.12    Espresso    07  24   14    14.3148   Afternoon  \n",
              "1041  18.12    Espresso    07  25   21    14.3148     Evening  \n",
              "1046  18.12    Espresso    07  26   09    14.3148     Morning  \n",
              "1063  18.12    Espresso    07  27   12    14.3148   Afternoon  \n",
              "1065  18.12    Espresso    07  27   14    14.3148   Afternoon  \n",
              "1073  18.12    Espresso    07  28   11    14.3148     Morning  \n",
              "1095  18.12    Espresso    07  30   11    14.3148     Morning  \n",
              "1104  18.12    Espresso    07  30   20    14.3148     Evening  \n",
              "1156  18.12    Espresso    08  03   11    14.3148     Morning  \n",
              "1193  18.12    Espresso    08  07   13    14.3148   Afternoon  \n",
              "1200  18.12    Espresso    08  08   08    14.3148     Morning  \n",
              "1237  18.12    Espresso    08  11   16    14.3148   Afternoon  \n",
              "1247  18.12    Espresso    08  12   14    14.3148   Afternoon  \n",
              "1271  18.12    Espresso    08  14   11    14.3148     Morning  \n",
              "1288  18.12    Espresso    08  15   14    14.3148   Afternoon  \n",
              "1295  18.12    Espresso    08  15   21    14.3148     Evening  \n",
              "1300  18.12    Espresso    08  16   15    14.3148   Afternoon  \n",
              "1301  18.12    Espresso    08  16   15    14.3148   Afternoon  \n",
              "1329  18.12    Espresso    08  20   08    14.3148     Morning  \n",
              "1370  18.12    Espresso    08  24   10    14.3148     Morning  \n",
              "1371  18.12    Espresso    08  24   10    14.3148     Morning  \n",
              "1401  18.12    Espresso    08  31   10    14.3148     Morning  "
            ]
          },
          "execution_count": 138,
          "metadata": {},
          "output_type": "execute_result"
        }
      ],
      "source": [
        "result = coff2[coff2['money_THB'] == coff['money_THB'].min()]\n",
        "result"
      ]
    },
    {
      "cell_type": "markdown",
      "metadata": {
        "id": "MQBefnH_UO72"
      },
      "source": [
        "ราคาเฉลี่ยของกาแฟแต่ละชนิด max min"
      ]
    },
    {
      "cell_type": "code",
      "execution_count": 139,
      "metadata": {
        "colab": {
          "base_uri": "https://localhost:8080/"
        },
        "id": "-aP6bDX5UO72",
        "outputId": "4b4d501c-7def-4cc3-ecff-a9c322c156a8"
      },
      "outputs": [
        {
          "name": "stdout",
          "output_type": "stream",
          "text": [
            "---------mean----------\n",
            "coffee_name\n",
            "Americano              26.560657\n",
            "Americano with Milk    31.020776\n",
            "Cappuccino             36.587448\n",
            "Cocoa                  35.707059\n",
            "Cortado                26.325674\n",
            "Espresso               21.496825\n",
            "Hot Chocolate          37.192500\n",
            "Latte                  36.091772\n",
            "Name: money, dtype: float64\n",
            "----------max----------\n",
            "coffee_name\n",
            "Americano              30.0\n",
            "Americano with Milk    35.0\n",
            "Cappuccino             40.0\n",
            "Cocoa                  40.0\n",
            "Cortado                30.0\n",
            "Espresso               25.0\n",
            "Hot Chocolate          40.0\n",
            "Latte                  40.0\n",
            "Name: money, dtype: float64\n",
            "----------min----------\n",
            "coffee_name\n",
            "Americano              23.02\n",
            "Americano with Milk    27.92\n",
            "Cappuccino             32.82\n",
            "Cocoa                  32.82\n",
            "Cortado                23.02\n",
            "Espresso               18.12\n",
            "Hot Chocolate          32.82\n",
            "Latte                  32.82\n",
            "Name: money, dtype: float64\n"
          ]
        }
      ],
      "source": [
        "coffee_mean = coff2.groupby(['coffee_name'])['money'].mean()\n",
        "coffee_max = coff2.groupby(['coffee_name'])['money'].max()\n",
        "coffee_min = coff2.groupby(['coffee_name'])['money'].min()\n",
        "print(\"---------mean----------\")\n",
        "print(coffee_mean)\n",
        "print(\"----------max----------\")\n",
        "print(coffee_max)\n",
        "print(\"----------min----------\")\n",
        "print(coffee_min)"
      ]
    },
    {
      "cell_type": "markdown",
      "metadata": {
        "id": "4TesYPV8UO73"
      },
      "source": [
        "จำนวนลูกค้าในแต่ละเดือน ตั้งแต่เดือน มีนาคม ถึง กันยายน  (สร้างกราฟให้หน่อย)"
      ]
    },
    {
      "cell_type": "code",
      "execution_count": 140,
      "metadata": {
        "colab": {
          "base_uri": "https://localhost:8080/"
        },
        "id": "lwURZ7YxUO73",
        "outputId": "79c5cb22-cd08-4c68-9700-a174c7a7ce98"
      },
      "outputs": [
        {
          "name": "stdout",
          "output_type": "stream",
          "text": [
            "month\n",
            "03    206\n",
            "04    196\n",
            "05    267\n",
            "06    227\n",
            "07    237\n",
            "08    272\n",
            "09     59\n",
            "Name: count, dtype: int64\n"
          ]
        }
      ],
      "source": [
        "ans = coff2['month'].value_counts().sort_index()\n",
        "print(ans)"
      ]
    },
    {
      "cell_type": "markdown",
      "metadata": {
        "id": "Ut5MBn12UO74"
      },
      "source": [
        "ยอดขายในแต่ละเดือนที่ขายกาแฟได้ ตั้งแต่เดือน มีนาคม ถึง กันยายน  (สร้างกราฟให้หน่อย)"
      ]
    },
    {
      "cell_type": "code",
      "execution_count": 141,
      "metadata": {
        "colab": {
          "base_uri": "https://localhost:8080/",
          "height": 335
        },
        "id": "KHS8UUhyUO75",
        "outputId": "bc3d5d16-beef-4265-e037-77b5ed3bfcf5"
      },
      "outputs": [
        {
          "data": {
            "text/plain": [
              "month\n",
              "03    5569.6580\n",
              "04    5309.2424\n",
              "05    7160.1018\n",
              "06    6129.4204\n",
              "07    5463.5926\n",
              "08    6014.9336\n",
              "09    1378.7712\n",
              "Name: money_THB, dtype: float64"
            ]
          },
          "execution_count": 141,
          "metadata": {},
          "output_type": "execute_result"
        }
      ],
      "source": [
        "value = coff2.groupby(coff2['month'])['money_THB'].sum().sort_index()\n",
        "value\n"
      ]
    },
    {
      "cell_type": "markdown",
      "metadata": {
        "id": "8zdKlGiqUO76"
      },
      "source": [
        "จำนวนการขายกาแฟในแต่ละครั้ง และยอดขาย (สร้างกราฟให้หน่อย)"
      ]
    },
    {
      "cell_type": "code",
      "execution_count": 142,
      "metadata": {
        "colab": {
          "base_uri": "https://localhost:8080/"
        },
        "id": "pgPVCXlWUO77",
        "outputId": "49e4f3c5-6359-4b25-f031-7c9387ea645a"
      },
      "outputs": [
        {
          "name": "stdout",
          "output_type": "stream",
          "text": [
            "จำนวนกาแฟที่ขายไป\n",
            "coffee_name\n",
            "Cocoa                   51\n",
            "Espresso                63\n",
            "Hot Chocolate           80\n",
            "Cortado                141\n",
            "Americano              213\n",
            "Cappuccino             239\n",
            "Latte                  316\n",
            "Americano with Milk    361\n",
            "dtype: int64\n",
            "ยอดขายกาแฟ\n",
            "coffee_name\n",
            "Espresso               1069.8970\n",
            "Cocoa                  1438.6374\n",
            "Hot Chocolate          2350.5660\n",
            "Cortado                2932.4168\n",
            "Americano              4469.3618\n",
            "Cappuccino             6908.0760\n",
            "Americano with Milk    8846.8150\n",
            "Latte                  9009.9500\n",
            "Name: money_THB, dtype: float64\n"
          ]
        }
      ],
      "source": [
        "value1 = coff2.groupby(['coffee_name']).size().sort_values()\n",
        "value2 = coff2.groupby(['coffee_name'])['money_THB'].sum().sort_values()\n",
        "print('จำนวนกาแฟที่ขายไป')\n",
        "print(value1)\n",
        "print('ยอดขายกาแฟ')\n",
        "print(value2)"
      ]
    },
    {
      "cell_type": "markdown",
      "metadata": {
        "id": "fPfeyeC2UO77"
      },
      "source": [
        "ยอดขายกาแฟในแต่ละเดือน (สร้างกราฟให้หน่อย)"
      ]
    },
    {
      "cell_type": "code",
      "execution_count": 143,
      "metadata": {
        "colab": {
          "base_uri": "https://localhost:8080/",
          "height": 1000
        },
        "id": "S22DxcvgUO78",
        "outputId": "3b034947-56ad-49e1-9c2e-d7110f79ce5b"
      },
      "outputs": [
        {
          "data": {
            "text/plain": [
              "month  coffee_name        \n",
              "03     Americano              22.927556\n",
              "       Americano with Milk    26.813529\n",
              "       Cappuccino             30.829750\n",
              "       Cocoa                  30.573000\n",
              "       Cortado                22.888933\n",
              "       Espresso               19.039000\n",
              "       Hot Chocolate          30.666364\n",
              "       Latte                  30.851146\n",
              "04     Americano              22.615217\n",
              "       Americano with Milk    26.478919\n",
              "       Cappuccino             30.487386\n",
              "       Cocoa                  30.654633\n",
              "       Cortado                22.805221\n",
              "       Espresso               19.298571\n",
              "       Hot Chocolate          30.750446\n",
              "       Latte                  30.405316\n",
              "05     Americano              22.199000\n",
              "       Americano with Milk    25.992090\n",
              "       Cappuccino             29.853956\n",
              "       Cocoa                  29.911156\n",
              "       Cortado                22.056800\n",
              "       Espresso               18.282575\n",
              "       Hot Chocolate          29.871029\n",
              "       Latte                  29.938276\n",
              "06     Americano              22.056800\n",
              "       Americano with Milk    25.968330\n",
              "       Cappuccino             29.798800\n",
              "       Cocoa                  30.001040\n",
              "       Cortado                22.056800\n",
              "       Espresso               18.185800\n",
              "       Hot Chocolate          29.798800\n",
              "       Latte                  29.798800\n",
              "07     Americano              18.830967\n",
              "       Americano with Milk    22.652338\n",
              "       Cappuccino             26.653613\n",
              "       Cocoa                  26.357911\n",
              "       Cortado                18.185800\n",
              "       Espresso               15.420800\n",
              "       Hot Chocolate          25.927800\n",
              "       Latte                  26.204300\n",
              "08     Americano              18.185800\n",
              "       Americano with Milk    22.056800\n",
              "       Cappuccino             25.927800\n",
              "       Cocoa                  25.927800\n",
              "       Cortado                18.185800\n",
              "       Espresso               14.314800\n",
              "       Hot Chocolate          25.927800\n",
              "       Latte                  25.927800\n",
              "09     Americano              18.185800\n",
              "       Americano with Milk    22.056800\n",
              "       Cappuccino             25.927800\n",
              "       Cocoa                  25.927800\n",
              "       Cortado                18.185800\n",
              "       Latte                  25.927800\n",
              "Name: money_THB, dtype: float64"
            ]
          },
          "execution_count": 143,
          "metadata": {},
          "output_type": "execute_result"
        }
      ],
      "source": [
        "value = coff2.groupby(['month','coffee_name'])['money_THB'].mean()\n",
        "value"
      ]
    },
    {
      "cell_type": "markdown",
      "metadata": {
        "id": "-1IcRcGYUO79"
      },
      "source": [
        "ในแต่ละเดือนผู้คนส่วนใหญ่ใช้อะไรในการจ่ายค่ากาแฟ"
      ]
    },
    {
      "cell_type": "code",
      "execution_count": 144,
      "metadata": {
        "colab": {
          "base_uri": "https://localhost:8080/",
          "height": 300
        },
        "id": "DFpkdUW0UO79",
        "outputId": "36bf292b-9a8e-4283-b5a1-7d0018d43a03"
      },
      "outputs": [
        {
          "data": {
            "text/html": [
              "<div>\n",
              "<style scoped>\n",
              "    .dataframe tbody tr th:only-of-type {\n",
              "        vertical-align: middle;\n",
              "    }\n",
              "\n",
              "    .dataframe tbody tr th {\n",
              "        vertical-align: top;\n",
              "    }\n",
              "\n",
              "    .dataframe thead th {\n",
              "        text-align: right;\n",
              "    }\n",
              "</style>\n",
              "<table border=\"1\" class=\"dataframe\">\n",
              "  <thead>\n",
              "    <tr style=\"text-align: right;\">\n",
              "      <th>cash_type</th>\n",
              "      <th>card</th>\n",
              "      <th>cash</th>\n",
              "    </tr>\n",
              "    <tr>\n",
              "      <th>month</th>\n",
              "      <th></th>\n",
              "      <th></th>\n",
              "    </tr>\n",
              "  </thead>\n",
              "  <tbody>\n",
              "    <tr>\n",
              "      <th>03</th>\n",
              "      <td>175</td>\n",
              "      <td>31</td>\n",
              "    </tr>\n",
              "    <tr>\n",
              "      <th>04</th>\n",
              "      <td>168</td>\n",
              "      <td>28</td>\n",
              "    </tr>\n",
              "    <tr>\n",
              "      <th>05</th>\n",
              "      <td>241</td>\n",
              "      <td>26</td>\n",
              "    </tr>\n",
              "    <tr>\n",
              "      <th>06</th>\n",
              "      <td>223</td>\n",
              "      <td>4</td>\n",
              "    </tr>\n",
              "    <tr>\n",
              "      <th>07</th>\n",
              "      <td>237</td>\n",
              "      <td>0</td>\n",
              "    </tr>\n",
              "    <tr>\n",
              "      <th>08</th>\n",
              "      <td>272</td>\n",
              "      <td>0</td>\n",
              "    </tr>\n",
              "    <tr>\n",
              "      <th>09</th>\n",
              "      <td>59</td>\n",
              "      <td>0</td>\n",
              "    </tr>\n",
              "  </tbody>\n",
              "</table>\n",
              "</div>"
            ],
            "text/plain": [
              "cash_type  card  cash\n",
              "month                \n",
              "03          175    31\n",
              "04          168    28\n",
              "05          241    26\n",
              "06          223     4\n",
              "07          237     0\n",
              "08          272     0\n",
              "09           59     0"
            ]
          },
          "execution_count": 144,
          "metadata": {},
          "output_type": "execute_result"
        }
      ],
      "source": [
        "value_type = coff2.groupby(coff2['month'])['cash_type'].value_counts().unstack(fill_value=0)\n",
        "value_type"
      ]
    },
    {
      "cell_type": "markdown",
      "metadata": {
        "id": "N-SbAIgEUO7-"
      },
      "source": [
        "กราฟการจ่ายเงินในแต่ละเดือนว่าเป็นอย่างไร"
      ]
    },
    {
      "cell_type": "code",
      "execution_count": 145,
      "metadata": {
        "colab": {
          "base_uri": "https://localhost:8080/",
          "height": 504
        },
        "id": "WlwhB1tpUO7-",
        "outputId": "587885e7-9078-47a1-8189-67d5bc1c6adf"
      },
      "outputs": [
        {
          "data": {
            "text/plain": [
              "<Figure size 1000x700 with 0 Axes>"
            ]
          },
          "metadata": {},
          "output_type": "display_data"
        },
        {
          "data": {
            "image/png": "[encoded data removed]",
            "text/plain": [
              "<Figure size 640x480 with 1 Axes>"
            ]
          },
          "metadata": {},
          "output_type": "display_data"
        }
      ],
      "source": [
        "# สร้างกราฟแท่ง\n",
        "plt.figure(figsize=(10, 7))\n",
        "value_type.plot(kind='bar', stacked=False, color=['skyblue', 'lightcoral'])  # กำหนดสีที่แตกต่าง\n",
        "plt.title('Coffee Types Distribution by Month')\n",
        "plt.xlabel('Month')\n",
        "plt.ylabel('Count')\n",
        "plt.xticks(rotation=45)  # หมุนป้ายแกน x เพื่อให้อ่านง่ายขึ้น\n",
        "plt.grid(axis='y', linestyle='--', alpha=0.7)\n",
        "plt.tight_layout()  # ปรับให้พอดีกับกราฟ\n",
        "plt.legend(title='Cash Type')  # เพิ่มตำนานให้กับประเภท\n",
        "plt.show()"
      ]
    },
    {
      "cell_type": "markdown",
      "metadata": {
        "id": "1yejd5iiUO7_"
      },
      "source": [
        "การจ่ายเงินในกาแฟแต่ละชนิด  (สร้างตาราง)"
      ]
    },
    {
      "cell_type": "code",
      "execution_count": 146,
      "metadata": {
        "colab": {
          "base_uri": "https://localhost:8080/",
          "height": 331
        },
        "id": "3Z9wdZt-UO7_",
        "outputId": "d2b17c3f-0507-4689-f6ff-53a9925667c4"
      },
      "outputs": [
        {
          "data": {
            "text/html": [
              "<div>\n",
              "<style scoped>\n",
              "    .dataframe tbody tr th:only-of-type {\n",
              "        vertical-align: middle;\n",
              "    }\n",
              "\n",
              "    .dataframe tbody tr th {\n",
              "        vertical-align: top;\n",
              "    }\n",
              "\n",
              "    .dataframe thead th {\n",
              "        text-align: right;\n",
              "    }\n",
              "</style>\n",
              "<table border=\"1\" class=\"dataframe\">\n",
              "  <thead>\n",
              "    <tr style=\"text-align: right;\">\n",
              "      <th>cash_type</th>\n",
              "      <th>card</th>\n",
              "      <th>cash</th>\n",
              "    </tr>\n",
              "    <tr>\n",
              "      <th>coffee_name</th>\n",
              "      <th></th>\n",
              "      <th></th>\n",
              "    </tr>\n",
              "  </thead>\n",
              "  <tbody>\n",
              "    <tr>\n",
              "      <th>Americano</th>\n",
              "      <td>199</td>\n",
              "      <td>14</td>\n",
              "    </tr>\n",
              "    <tr>\n",
              "      <th>Americano with Milk</th>\n",
              "      <td>346</td>\n",
              "      <td>15</td>\n",
              "    </tr>\n",
              "    <tr>\n",
              "      <th>Cappuccino</th>\n",
              "      <td>224</td>\n",
              "      <td>15</td>\n",
              "    </tr>\n",
              "    <tr>\n",
              "      <th>Cocoa</th>\n",
              "      <td>47</td>\n",
              "      <td>4</td>\n",
              "    </tr>\n",
              "    <tr>\n",
              "      <th>Cortado</th>\n",
              "      <td>136</td>\n",
              "      <td>5</td>\n",
              "    </tr>\n",
              "    <tr>\n",
              "      <th>Espresso</th>\n",
              "      <td>58</td>\n",
              "      <td>5</td>\n",
              "    </tr>\n",
              "    <tr>\n",
              "      <th>Hot Chocolate</th>\n",
              "      <td>74</td>\n",
              "      <td>6</td>\n",
              "    </tr>\n",
              "    <tr>\n",
              "      <th>Latte</th>\n",
              "      <td>291</td>\n",
              "      <td>25</td>\n",
              "    </tr>\n",
              "  </tbody>\n",
              "</table>\n",
              "</div>"
            ],
            "text/plain": [
              "cash_type            card  cash\n",
              "coffee_name                    \n",
              "Americano             199    14\n",
              "Americano with Milk   346    15\n",
              "Cappuccino            224    15\n",
              "Cocoa                  47     4\n",
              "Cortado               136     5\n",
              "Espresso               58     5\n",
              "Hot Chocolate          74     6\n",
              "Latte                 291    25"
            ]
          },
          "execution_count": 146,
          "metadata": {},
          "output_type": "execute_result"
        }
      ],
      "source": [
        "# สร้างตารางไขว้\n",
        "crosstab_payment_drink = pd.crosstab(coff2['coffee_name'], coff2['cash_type'])\n",
        "crosstab_payment_drink"
      ]
    },
    {
      "cell_type": "code",
      "execution_count": 147,
      "metadata": {
        "colab": {
          "base_uri": "https://localhost:8080/"
        },
        "id": "9O79lHhkUO8A",
        "outputId": "dd730330-0175-4278-aac2-3b8d4a041e64"
      },
      "outputs": [
        {
          "name": "stdout",
          "output_type": "stream",
          "text": [
            "Chi-Square: 6.831643914134172\n",
            "P-value: 0.4466171982782058\n",
            "ไม่มีความสัมพันธ์ระหว่างชนิดเครื่องดื่มและวิธีการชำระเงิน\n"
          ]
        }
      ],
      "source": [
        "import scipy.stats as stats\n",
        "\n",
        "# ทำการทดสอบไค-สแควร์\n",
        "chi2, p, dof, expected = stats.chi2_contingency(crosstab_payment_drink)\n",
        "\n",
        "# แสดงผล\n",
        "print(f\"Chi-Square: {chi2}\")\n",
        "print(f\"P-value: {p}\")\n",
        "\n",
        "if p < 0.05:\n",
        "    print(\"มีความสัมพันธ์ระหว่างชนิดเครื่องดื่มและวิธีการชำระเงิน\")\n",
        "else:\n",
        "    print(\"ไม่มีความสัมพันธ์ระหว่างชนิดเครื่องดื่มและวิธีการชำระเงิน\")"
      ]
    },
    {
      "cell_type": "markdown",
      "metadata": {
        "id": "dCbA0QbBUO8A"
      },
      "source": [
        "การจ่ายเงินในกาแฟแต่ละจะจ่ายอยู่ที่เท่าไหร่"
      ]
    },
    {
      "cell_type": "code",
      "execution_count": 148,
      "metadata": {
        "colab": {
          "base_uri": "https://localhost:8080/",
          "height": 617
        },
        "id": "iyzo08VkUO8B",
        "outputId": "58efeb42-bba7-4521-bc85-d9129e0fe460"
      },
      "outputs": [
        {
          "data": {
            "text/plain": [
              "coffee_name          cash_type\n",
              "Americano            card         26.358894\n",
              "                     cash         29.428571\n",
              "Americano with Milk  card         30.868497\n",
              "                     cash         34.533333\n",
              "Cappuccino           card         36.381250\n",
              "                     cash         39.666667\n",
              "Cocoa                card         35.405532\n",
              "                     cash         39.250000\n",
              "Cortado              card         26.190588\n",
              "                     cash         30.000000\n",
              "Espresso             card         21.212069\n",
              "                     cash         24.800000\n",
              "Hot Chocolate        card         36.978378\n",
              "                     cash         39.833333\n",
              "Latte                card         35.786942\n",
              "                     cash         39.640000\n",
              "Name: money, dtype: float64"
            ]
          },
          "execution_count": 148,
          "metadata": {},
          "output_type": "execute_result"
        }
      ],
      "source": [
        "coffee_type = coff2.groupby(['coffee_name','cash_type'])['money'].mean()\n",
        "coffee_type"
      ]
    },
    {
      "cell_type": "markdown",
      "metadata": {
        "id": "B9QZqy21UO8C"
      },
      "source": [
        "ช่วงเวลาที่ขายกาแฟได้มากที่สุดในแต่ละเดือน\n",
        "เช้า (Morning): 07:00 - 12:00\n",
        "บ่าย (Afternoon): 12:00 - 18:00\n",
        "เย็น (Evening): 18:00 - 22:00\n",
        "(สร้างกราฟให้หน่อย)"
      ]
    },
    {
      "cell_type": "code",
      "execution_count": 149,
      "metadata": {
        "colab": {
          "base_uri": "https://localhost:8080/"
        },
        "id": "uGffnlz6UO8C",
        "outputId": "d997e812-7764-4983-83ae-3658df095597"
      },
      "outputs": [
        {
          "name": "stdout",
          "output_type": "stream",
          "text": [
            "hour\n",
            "07     20\n",
            "08     83\n",
            "09     83\n",
            "10    159\n",
            "11    141\n",
            "12    114\n",
            "13     93\n",
            "14     90\n",
            "15     83\n",
            "16     91\n",
            "17     94\n",
            "18     90\n",
            "19    113\n",
            "20     74\n",
            "21     93\n",
            "22     43\n",
            "dtype: int64\n"
          ]
        }
      ],
      "source": [
        "value1 = coff2.groupby('hour').size()\n",
        "print(value1)"
      ]
    },
    {
      "cell_type": "code",
      "execution_count": 150,
      "metadata": {
        "colab": {
          "base_uri": "https://localhost:8080/"
        },
        "id": "KvR-lz8nUO8D",
        "outputId": "a5073068-bf96-4d04-c7a4-4e8facfdffc2"
      },
      "outputs": [
        {
          "name": "stdout",
          "output_type": "stream",
          "text": [
            "hour\n",
            "07     476.3226\n",
            "08    1908.1344\n",
            "09    1952.2006\n",
            "10    4135.6500\n",
            "11    3362.1610\n",
            "12    2828.1526\n",
            "13    2326.6290\n",
            "14    2271.8820\n",
            "15    2110.1848\n",
            "16    2303.8296\n",
            "17    2494.6778\n",
            "18    2351.7036\n",
            "19    3082.7064\n",
            "20    1933.0668\n",
            "21    2397.6658\n",
            "22    1090.7530\n",
            "Name: money_THB, dtype: float64\n"
          ]
        }
      ],
      "source": [
        "value2 = coff2.groupby('hour')['money_THB'].sum()\n",
        "print(value2)"
      ]
    },
    {
      "cell_type": "code",
      "execution_count": 151,
      "metadata": {
        "colab": {
          "base_uri": "https://localhost:8080/"
        },
        "id": "F4E5riOFUO8E",
        "outputId": "d1fe4291-59ba-4470-b0cd-eb5b73b045ed"
      },
      "outputs": [
        {
          "name": "stdout",
          "output_type": "stream",
          "text": [
            "จำนวนข้อมูลในช่วงเช้า 07:00 - 12:00 : 486\n",
            "จำนวนข้อมูลในช่วงบ่าย 12:00 - 18:00 : 565\n",
            "จำนวนข้อมูลในช่วงเย็น 18:00 - 22:00 : 413\n"
          ]
        }
      ],
      "source": [
        "value = coff2.groupby('time_period').size()\n",
        "\n",
        "print(f\"จำนวนข้อมูลในช่วงเช้า 07:00 - 12:00 : {value['Morning']}\")\n",
        "print(f\"จำนวนข้อมูลในช่วงบ่าย 12:00 - 18:00 : {value['Afternoon']}\")\n",
        "print(f\"จำนวนข้อมูลในช่วงเย็น 18:00 - 22:00 : {value['Evening']}\")"
      ]
    },
    {
      "cell_type": "code",
      "execution_count": 152,
      "metadata": {
        "colab": {
          "base_uri": "https://localhost:8080/"
        },
        "id": "BAEeU6ddUO8E",
        "outputId": "50d9f914-08b6-49af-ad62-90ca43b81f05"
      },
      "outputs": [
        {
          "name": "stdout",
          "output_type": "stream",
          "text": [
            "จำนวนข้อมูลในช่วงเช้า 07:00 - 12:00 : 14980.34 บาท\n",
            "จำนวนข้อมูลในช่วงบ่าย 12:00 - 18:00 : 18146.02 บาท\n",
            "จำนวนข้อมูลในช่วงเย็น 18:00 - 22:00 : 13741.64 บาท\n"
          ]
        }
      ],
      "source": [
        "value = coff2.groupby('time_period')['money'].sum()\n",
        "\n",
        "print(f\"จำนวนข้อมูลในช่วงเช้า 07:00 - 12:00 : {value['Morning']} บาท\")\n",
        "print(f\"จำนวนข้อมูลในช่วงบ่าย 12:00 - 18:00 : {value['Afternoon']} บาท\")\n",
        "print(f\"จำนวนข้อมูลในช่วงเย็น 18:00 - 22:00 : {value['Evening']} บาท\")"
      ]
    },
    {
      "cell_type": "markdown",
      "metadata": {
        "id": "dBzr7OG9UO8F"
      },
      "source": [
        "จำนวนคนที่มาซื้อซ้ำ"
      ]
    },
    {
      "cell_type": "code",
      "execution_count": 153,
      "metadata": {
        "colab": {
          "base_uri": "https://localhost:8080/",
          "height": 964
        },
        "id": "A3Fw0okYUO8F",
        "outputId": "c45af5d5-cf89-4f12-ae55-de869104a9b9"
      },
      "outputs": [
        {
          "data": {
            "text/html": [
              "<div>\n",
              "<style scoped>\n",
              "    .dataframe tbody tr th:only-of-type {\n",
              "        vertical-align: middle;\n",
              "    }\n",
              "\n",
              "    .dataframe tbody tr th {\n",
              "        vertical-align: top;\n",
              "    }\n",
              "\n",
              "    .dataframe thead th {\n",
              "        text-align: right;\n",
              "    }\n",
              "</style>\n",
              "<table border=\"1\" class=\"dataframe\">\n",
              "  <thead>\n",
              "    <tr style=\"text-align: right;\">\n",
              "      <th></th>\n",
              "      <th>date</th>\n",
              "      <th>datetime</th>\n",
              "      <th>cash_type</th>\n",
              "      <th>card</th>\n",
              "      <th>money</th>\n",
              "      <th>coffee_name</th>\n",
              "      <th>month</th>\n",
              "      <th>day</th>\n",
              "      <th>hour</th>\n",
              "      <th>money_THB</th>\n",
              "      <th>time_period</th>\n",
              "    </tr>\n",
              "  </thead>\n",
              "  <tbody>\n",
              "    <tr>\n",
              "      <th>0</th>\n",
              "      <td>2024-03-01</td>\n",
              "      <td>2024-03-01 10:15:50.520</td>\n",
              "      <td>card</td>\n",
              "      <td>ANON-0000-0000-0001</td>\n",
              "      <td>38.70</td>\n",
              "      <td>Latte</td>\n",
              "      <td>03</td>\n",
              "      <td>01</td>\n",
              "      <td>10</td>\n",
              "      <td>30.5730</td>\n",
              "      <td>Morning</td>\n",
              "    </tr>\n",
              "    <tr>\n",
              "      <th>1</th>\n",
              "      <td>2024-03-01</td>\n",
              "      <td>2024-03-01 12:19:22.539</td>\n",
              "      <td>card</td>\n",
              "      <td>ANON-0000-0000-0002</td>\n",
              "      <td>38.70</td>\n",
              "      <td>Hot Chocolate</td>\n",
              "      <td>03</td>\n",
              "      <td>01</td>\n",
              "      <td>12</td>\n",
              "      <td>30.5730</td>\n",
              "      <td>Afternoon</td>\n",
              "    </tr>\n",
              "    <tr>\n",
              "      <th>2</th>\n",
              "      <td>2024-03-01</td>\n",
              "      <td>2024-03-01 12:20:18.089</td>\n",
              "      <td>card</td>\n",
              "      <td>ANON-0000-0000-0002</td>\n",
              "      <td>38.70</td>\n",
              "      <td>Hot Chocolate</td>\n",
              "      <td>03</td>\n",
              "      <td>01</td>\n",
              "      <td>12</td>\n",
              "      <td>30.5730</td>\n",
              "      <td>Afternoon</td>\n",
              "    </tr>\n",
              "    <tr>\n",
              "      <th>3</th>\n",
              "      <td>2024-03-01</td>\n",
              "      <td>2024-03-01 13:46:33.006</td>\n",
              "      <td>card</td>\n",
              "      <td>ANON-0000-0000-0003</td>\n",
              "      <td>28.90</td>\n",
              "      <td>Americano</td>\n",
              "      <td>03</td>\n",
              "      <td>01</td>\n",
              "      <td>13</td>\n",
              "      <td>22.8310</td>\n",
              "      <td>Afternoon</td>\n",
              "    </tr>\n",
              "    <tr>\n",
              "      <th>4</th>\n",
              "      <td>2024-03-01</td>\n",
              "      <td>2024-03-01 13:48:14.626</td>\n",
              "      <td>card</td>\n",
              "      <td>ANON-0000-0000-0004</td>\n",
              "      <td>38.70</td>\n",
              "      <td>Latte</td>\n",
              "      <td>03</td>\n",
              "      <td>01</td>\n",
              "      <td>13</td>\n",
              "      <td>30.5730</td>\n",
              "      <td>Afternoon</td>\n",
              "    </tr>\n",
              "    <tr>\n",
              "      <th>...</th>\n",
              "      <td>...</td>\n",
              "      <td>...</td>\n",
              "      <td>...</td>\n",
              "      <td>...</td>\n",
              "      <td>...</td>\n",
              "      <td>...</td>\n",
              "      <td>...</td>\n",
              "      <td>...</td>\n",
              "      <td>...</td>\n",
              "      <td>...</td>\n",
              "      <td>...</td>\n",
              "    </tr>\n",
              "    <tr>\n",
              "      <th>1458</th>\n",
              "      <td>2024-09-05</td>\n",
              "      <td>2024-09-05 17:05:31.684</td>\n",
              "      <td>card</td>\n",
              "      <td>ANON-0000-0000-0586</td>\n",
              "      <td>32.82</td>\n",
              "      <td>Cappuccino</td>\n",
              "      <td>09</td>\n",
              "      <td>05</td>\n",
              "      <td>17</td>\n",
              "      <td>25.9278</td>\n",
              "      <td>Afternoon</td>\n",
              "    </tr>\n",
              "    <tr>\n",
              "      <th>1460</th>\n",
              "      <td>2024-09-05</td>\n",
              "      <td>2024-09-05 20:54:24.429</td>\n",
              "      <td>card</td>\n",
              "      <td>ANON-0000-0000-0588</td>\n",
              "      <td>23.02</td>\n",
              "      <td>Americano</td>\n",
              "      <td>09</td>\n",
              "      <td>05</td>\n",
              "      <td>20</td>\n",
              "      <td>18.1858</td>\n",
              "      <td>Evening</td>\n",
              "    </tr>\n",
              "    <tr>\n",
              "      <th>1461</th>\n",
              "      <td>2024-09-05</td>\n",
              "      <td>2024-09-05 20:55:31.429</td>\n",
              "      <td>card</td>\n",
              "      <td>ANON-0000-0000-0588</td>\n",
              "      <td>32.82</td>\n",
              "      <td>Cappuccino</td>\n",
              "      <td>09</td>\n",
              "      <td>05</td>\n",
              "      <td>20</td>\n",
              "      <td>25.9278</td>\n",
              "      <td>Evening</td>\n",
              "    </tr>\n",
              "    <tr>\n",
              "      <th>1462</th>\n",
              "      <td>2024-09-05</td>\n",
              "      <td>2024-09-05 21:26:28.836</td>\n",
              "      <td>card</td>\n",
              "      <td>ANON-0000-0000-0040</td>\n",
              "      <td>27.92</td>\n",
              "      <td>Americano with Milk</td>\n",
              "      <td>09</td>\n",
              "      <td>05</td>\n",
              "      <td>21</td>\n",
              "      <td>22.0568</td>\n",
              "      <td>Evening</td>\n",
              "    </tr>\n",
              "    <tr>\n",
              "      <th>1463</th>\n",
              "      <td>2024-09-05</td>\n",
              "      <td>2024-09-05 21:27:29.969</td>\n",
              "      <td>card</td>\n",
              "      <td>ANON-0000-0000-0040</td>\n",
              "      <td>27.92</td>\n",
              "      <td>Americano with Milk</td>\n",
              "      <td>09</td>\n",
              "      <td>05</td>\n",
              "      <td>21</td>\n",
              "      <td>22.0568</td>\n",
              "      <td>Evening</td>\n",
              "    </tr>\n",
              "  </tbody>\n",
              "</table>\n",
              "<p>1009 rows × 11 columns</p>\n",
              "</div>"
            ],
            "text/plain": [
              "            date                 datetime cash_type                 card  \\\n",
              "0     2024-03-01  2024-03-01 10:15:50.520      card  ANON-0000-0000-0001   \n",
              "1     2024-03-01  2024-03-01 12:19:22.539      card  ANON-0000-0000-0002   \n",
              "2     2024-03-01  2024-03-01 12:20:18.089      card  ANON-0000-0000-0002   \n",
              "3     2024-03-01  2024-03-01 13:46:33.006      card  ANON-0000-0000-0003   \n",
              "4     2024-03-01  2024-03-01 13:48:14.626      card  ANON-0000-0000-0004   \n",
              "...          ...                      ...       ...                  ...   \n",
              "1458  2024-09-05  2024-09-05 17:05:31.684      card  ANON-0000-0000-0586   \n",
              "1460  2024-09-05  2024-09-05 20:54:24.429      card  ANON-0000-0000-0588   \n",
              "1461  2024-09-05  2024-09-05 20:55:31.429      card  ANON-0000-0000-0588   \n",
              "1462  2024-09-05  2024-09-05 21:26:28.836      card  ANON-0000-0000-0040   \n",
              "1463  2024-09-05  2024-09-05 21:27:29.969      card  ANON-0000-0000-0040   \n",
              "\n",
              "      money          coffee_name month day hour  money_THB time_period  \n",
              "0     38.70                Latte    03  01   10    30.5730     Morning  \n",
              "1     38.70        Hot Chocolate    03  01   12    30.5730   Afternoon  \n",
              "2     38.70        Hot Chocolate    03  01   12    30.5730   Afternoon  \n",
              "3     28.90            Americano    03  01   13    22.8310   Afternoon  \n",
              "4     38.70                Latte    03  01   13    30.5730   Afternoon  \n",
              "...     ...                  ...   ...  ..  ...        ...         ...  \n",
              "1458  32.82           Cappuccino    09  05   17    25.9278   Afternoon  \n",
              "1460  23.02            Americano    09  05   20    18.1858     Evening  \n",
              "1461  32.82           Cappuccino    09  05   20    25.9278     Evening  \n",
              "1462  27.92  Americano with Milk    09  05   21    22.0568     Evening  \n",
              "1463  27.92  Americano with Milk    09  05   21    22.0568     Evening  \n",
              "\n",
              "[1009 rows x 11 columns]"
            ]
          },
          "execution_count": 153,
          "metadata": {},
          "output_type": "execute_result"
        }
      ],
      "source": [
        "repeat_customers = coff2.groupby('card').filter(lambda x: len(x) > 1)\n",
        "notrepeat_customers = coff2.groupby('card').filter(lambda x: len(x) == 1)\n",
        "repeat_customers"
      ]
    },
    {
      "cell_type": "markdown",
      "metadata": {
        "id": "QJBjPLkvUO8G"
      },
      "source": [
        "ส่วนใหญ่ลูกค้าที่มาซื้อซ้ำจะกินกาแฟอะไร"
      ]
    },
    {
      "cell_type": "code",
      "execution_count": 154,
      "metadata": {
        "colab": {
          "base_uri": "https://localhost:8080/",
          "height": 366
        },
        "id": "aCEOuhbOUO8G",
        "outputId": "3e51b4f0-4482-4566-9601-2b3747ffe435"
      },
      "outputs": [
        {
          "data": {
            "text/plain": [
              "coffee_name\n",
              "Espresso                35\n",
              "Cocoa                   38\n",
              "Hot Chocolate           52\n",
              "Cortado                111\n",
              "Cappuccino             152\n",
              "Americano              154\n",
              "Latte                  210\n",
              "Americano with Milk    257\n",
              "dtype: int64"
            ]
          },
          "execution_count": 154,
          "metadata": {},
          "output_type": "execute_result"
        }
      ],
      "source": [
        "coffee_repeat = repeat_customers.groupby('coffee_name').size().sort_values()\n",
        "coffee_repeat"
      ]
    },
    {
      "cell_type": "markdown",
      "metadata": {
        "id": "5JXhjeNQUO8G"
      },
      "source": [
        "ลูกค้าที่ไม่ซื้อซ้ำซื้ออะไรไปกิน"
      ]
    },
    {
      "cell_type": "code",
      "execution_count": 155,
      "metadata": {
        "colab": {
          "base_uri": "https://localhost:8080/",
          "height": 366
        },
        "id": "jLT_vG2TUO8H",
        "outputId": "6f943be3-a0b5-469e-8fa8-7151dd59a216"
      },
      "outputs": [
        {
          "data": {
            "text/plain": [
              "coffee_name\n",
              "Cocoa                   9\n",
              "Hot Chocolate          22\n",
              "Espresso               23\n",
              "Cortado                25\n",
              "Americano              45\n",
              "Cappuccino             72\n",
              "Latte                  81\n",
              "Americano with Milk    89\n",
              "dtype: int64"
            ]
          },
          "execution_count": 155,
          "metadata": {},
          "output_type": "execute_result"
        }
      ],
      "source": [
        "coffee_notrepeat = notrepeat_customers.groupby('coffee_name').size().sort_values()\n",
        "coffee_notrepeat"
      ]
    },
    {
      "cell_type": "code",
      "execution_count": 156,
      "metadata": {
        "colab": {
          "base_uri": "https://localhost:8080/",
          "height": 521
        },
        "id": "SlVICSkMUO8H",
        "outputId": "d6aa1974-7018-435d-a0ce-5a346b8a9e6a"
      },
      "outputs": [
        {
          "data": {
            "image/png": "[encoded data removed]",
            "text/plain": [
              "<Figure size 800x600 with 1 Axes>"
            ]
          },
          "metadata": {},
          "output_type": "display_data"
        }
      ],
      "source": [
        "mabel = coff2.groupby(['card'])[['datetime']].nunique().sort_values(\"datetime\", ascending=False)\n",
        "Notrepeat = mabel[mabel['datetime']==1]\n",
        "repeat =  mabel[mabel['datetime']>1]\n",
        "\n",
        "# นับจำนวนของ Notrepeat และ repeat\n",
        "notrepeat_count = len(Notrepeat)\n",
        "repeat_count = len(repeat)\n",
        "\n",
        "\n",
        "# สร้าง DataFrame สำหรับ Pie Chart\n",
        "data_counts = {\n",
        "    'type': ['not repeat', 'repeat'],\n",
        "    'count': [notrepeat_count, repeat_count]\n",
        "}\n",
        "\n",
        "# แปลงเป็น DataFrame\n",
        "data_df = pd.DataFrame(data_counts)\n",
        "\n",
        "# สร้าง Pie Chart\n",
        "plt.figure(figsize=(8, 6))\n",
        "plt.pie(data_df['count'], labels=data_df['type'], autopct='%1.1f%%', startangle=90, colors=['#ff9999', '#66b3ff'])\n",
        "plt.title('%')\n",
        "plt.axis('equal')  # ทำให้วงกลมเป็นวงกลมจริง\n",
        "plt.show()"
      ]
    },
    {
      "cell_type": "markdown",
      "metadata": {
        "id": "oi9rsZZQUO8H"
      },
      "source": [
        "หายอดขายกาแฟอะไรมากที่สุดในแต่ละเดือน\n",
        "Americano with Milk: มีน้ำร้อนมากกว่าเน้นรสกาแฟเข้มข้น\n",
        "Latte: มีนมมากกว่าทำให้รสชาติของกาแฟนุ่มนวลและครีมมี่\n",
        "Espresso เป็นพื้นฐานของเครื่องดื่มหลายชนิด\n",
        "Cortado และ Cappuccino มีนมเป็นส่วนสำคัญ แต่มีปริมาณที่แตกต่างกัน\n",
        "Americano จะมีน้ำร้อนเป็นหลัก ส่วน Latte จะมีนมมากกว่าจึงมีความนุ่มนวลกว่า\n",
        "Cocoa และ Hot Chocolate เป็นเครื่องดื่มช็อกโกแลตที่ไม่มีกาแฟ"
      ]
    },
    {
      "cell_type": "code",
      "execution_count": 157,
      "metadata": {
        "colab": {
          "base_uri": "https://localhost:8080/"
        },
        "id": "lUGvNHtZUO8I",
        "outputId": "e35c0b3a-fd96-4ac0-c89f-8a0ea08ef344"
      },
      "outputs": [
        {
          "name": "stdout",
          "output_type": "stream",
          "text": [
            "   month          coffee_name  money_THB\n",
            "7     03                Latte  1480.8550\n",
            "10    04           Cappuccino  1310.9576\n",
            "23    05                Latte  1736.4200\n",
            "25    06  Americano with Milk  1791.8148\n",
            "33    07  Americano with Milk  1472.4020\n",
            "41    08  Americano with Milk  1588.0896\n",
            "49    09  Americano with Milk   463.1928\n"
          ]
        }
      ],
      "source": [
        "# รวมกลุ่มตามเดือนและชื่อกาแฟและหายอดขายรวม\n",
        "value = coff2.groupby(['month', 'coffee_name'])['money_THB'].sum().reset_index()\n",
        "\n",
        "# หาสินค้าขายดีในแต่ละเดือน\n",
        "best_selling_per_month = value.loc[value.groupby('month')['money_THB'].idxmax()]\n",
        "\n",
        "# แสดงผลลัพธ์\n",
        "print(best_selling_per_month)\n"
      ]
    },
    {
      "cell_type": "markdown",
      "metadata": {
        "id": "_jXQRSLZUO8J"
      },
      "source": [
        "การทำการทดสอบสถิติเพื่อดูว่ายอดขายในช่วงเวลาต่าง หากคุณต้องการเปรียบเทียบยอดขายระหว่างสามช่วงเวลา (เช้า บ่าย เย็น) คุณสามารถใช้ การทดสอบ ANOVA (Analysis of Variance) ได้ ทดสอบว่า ยอดขายกาแฟแต่ละชนิดในแต่ละช่วงเวลามีความแตกต่างกันไหม"
      ]
    },
    {
      "cell_type": "code",
      "execution_count": 158,
      "metadata": {
        "colab": {
          "base_uri": "https://localhost:8080/",
          "height": 212
        },
        "id": "7fkozEmcUO8J",
        "outputId": "1ad07a57-019e-4389-f2fd-dc280a598400"
      },
      "outputs": [
        {
          "data": {
            "text/html": [
              "<div>\n",
              "<style scoped>\n",
              "    .dataframe tbody tr th:only-of-type {\n",
              "        vertical-align: middle;\n",
              "    }\n",
              "\n",
              "    .dataframe tbody tr th {\n",
              "        vertical-align: top;\n",
              "    }\n",
              "\n",
              "    .dataframe thead th {\n",
              "        text-align: right;\n",
              "    }\n",
              "</style>\n",
              "<table border=\"1\" class=\"dataframe\">\n",
              "  <thead>\n",
              "    <tr style=\"text-align: right;\">\n",
              "      <th></th>\n",
              "      <th>Americano</th>\n",
              "      <th>Americano with Milk</th>\n",
              "      <th>Cappuccino</th>\n",
              "      <th>Cocoa</th>\n",
              "      <th>Cortado</th>\n",
              "      <th>Espresso</th>\n",
              "      <th>Hot Chocolate</th>\n",
              "      <th>Latte</th>\n",
              "      <th>total</th>\n",
              "    </tr>\n",
              "  </thead>\n",
              "  <tbody>\n",
              "    <tr>\n",
              "      <th>Afternoon</th>\n",
              "      <td>2680.06</td>\n",
              "      <td>4276.64</td>\n",
              "      <td>3437.96</td>\n",
              "      <td>662.92</td>\n",
              "      <td>1439.46</td>\n",
              "      <td>731.28</td>\n",
              "      <td>996.38</td>\n",
              "      <td>3921.32</td>\n",
              "      <td>18146.02</td>\n",
              "    </tr>\n",
              "    <tr>\n",
              "      <th>Evening</th>\n",
              "      <td>828.88</td>\n",
              "      <td>3123.56</td>\n",
              "      <td>3374.14</td>\n",
              "      <td>737.54</td>\n",
              "      <td>630.88</td>\n",
              "      <td>263.52</td>\n",
              "      <td>1294.36</td>\n",
              "      <td>3488.76</td>\n",
              "      <td>13741.64</td>\n",
              "    </tr>\n",
              "    <tr>\n",
              "      <th>Morning</th>\n",
              "      <td>2148.48</td>\n",
              "      <td>3798.30</td>\n",
              "      <td>1932.30</td>\n",
              "      <td>420.60</td>\n",
              "      <td>1641.58</td>\n",
              "      <td>359.50</td>\n",
              "      <td>684.66</td>\n",
              "      <td>3994.92</td>\n",
              "      <td>14980.34</td>\n",
              "    </tr>\n",
              "    <tr>\n",
              "      <th>Total</th>\n",
              "      <td>5657.42</td>\n",
              "      <td>11198.50</td>\n",
              "      <td>8744.40</td>\n",
              "      <td>1821.06</td>\n",
              "      <td>3711.92</td>\n",
              "      <td>1354.30</td>\n",
              "      <td>2975.40</td>\n",
              "      <td>11405.00</td>\n",
              "      <td>46868.00</td>\n",
              "    </tr>\n",
              "  </tbody>\n",
              "</table>\n",
              "</div>"
            ],
            "text/plain": [
              "           Americano  Americano with Milk  Cappuccino    Cocoa  Cortado  \\\n",
              "Afternoon    2680.06              4276.64     3437.96   662.92  1439.46   \n",
              "Evening       828.88              3123.56     3374.14   737.54   630.88   \n",
              "Morning      2148.48              3798.30     1932.30   420.60  1641.58   \n",
              "Total        5657.42             11198.50     8744.40  1821.06  3711.92   \n",
              "\n",
              "           Espresso  Hot Chocolate     Latte     total  \n",
              "Afternoon    731.28         996.38   3921.32  18146.02  \n",
              "Evening      263.52        1294.36   3488.76  13741.64  \n",
              "Morning      359.50         684.66   3994.92  14980.34  \n",
              "Total       1354.30        2975.40  11405.00  46868.00  "
            ]
          },
          "execution_count": 158,
          "metadata": {},
          "output_type": "execute_result"
        }
      ],
      "source": [
        "import pandas as pd\n",
        "\n",
        "# สร้าง pivot_table\n",
        "group = coff2.groupby(['time_period', 'coffee_name'])['money'].sum()\n",
        "df = group.reset_index()\n",
        "df.columns = ['Time_Period', 'Coffee_Name', 'Total_Sales']\n",
        "\n",
        "pivot_table = df.pivot(index='Time_Period', columns='Coffee_Name', values='Total_Sales').fillna(0)\n",
        "\n",
        "# เพิ่มคอลัมน์ 'total' ที่คำนวณผลรวมของแต่ละแถว (time_period)\n",
        "pivot_table['total'] = pivot_table.sum(axis=1)\n",
        "\n",
        "# คำนวณผลรวมของแต่ละคอลัมน์ (excluding Time_Period)\n",
        "total_sales = pivot_table[['Americano', 'Americano with Milk', 'Cappuccino', 'Cocoa', 'Cortado',\n",
        "                           'Espresso', 'Hot Chocolate', 'Latte']].sum()\n",
        "\n",
        "# สร้างแถว Total\n",
        "total_row = pd.Series({'Americano': total_sales['Americano'],\n",
        "                       'Americano with Milk': total_sales['Americano with Milk'],\n",
        "                       'Cappuccino': total_sales['Cappuccino'],\n",
        "                       'Cocoa': total_sales['Cocoa'],\n",
        "                       'Cortado': total_sales['Cortado'],\n",
        "                       'Espresso': total_sales['Espresso'],\n",
        "                       'Hot Chocolate': total_sales['Hot Chocolate'],\n",
        "                       'Latte': total_sales['Latte'],\n",
        "                       'total': total_sales.sum()  # ผลรวมของทั้งหมด\n",
        "                      }, name='Total')\n",
        "\n",
        "# ใช้ pd.concat() เพื่อเพิ่มแถว Total\n",
        "pivot_table = pd.concat([pivot_table, total_row.to_frame().T])\n",
        "\n",
        "# แสดงผล pivot_table ที่มีแถว Total เพิ่มเข้ามา\n",
        "pivot_table\n"
      ]
    },
    {
      "cell_type": "markdown",
      "metadata": {
        "id": "wuNefiDGUO8K"
      },
      "source": [
        "1.กำหนดสมติฐาน\n",
        "    H0 : ยอดขายกาแฟแต่ละชนิดในแต่ละช่วงเวลาไม่แตกต่างกัน\n",
        "    H1 : ยอดขายกาแฟแต่ละชนิดในแต่ละช่วงเวลามีความแตกต่างกันอย่างน้อย 1 คู่\n",
        "2.ระดับนัยสำคัญ 0.05\n",
        "3.สถิติทดสอบ Fcal = 34.37400131\n",
        "4.การตัดสินใจ\n",
        "    ค่าวิกฤติ: Fที่ 0.95,(7,24)"
      ]
    },
    {
      "cell_type": "code",
      "execution_count": 159,
      "metadata": {
        "colab": {
          "base_uri": "https://localhost:8080/"
        },
        "id": "ZvTR8o4hUO8L",
        "outputId": "274bb1db-da9f-4247-9380-768595e27ba4"
      },
      "outputs": [
        {
          "name": "stdout",
          "output_type": "stream",
          "text": [
            "ยอดขายกาแฟแต่ละชนิดในแต่ละช่วงเวลามีความแตกต่างกันอย่างน้อย 1 คู่ \n"
          ]
        }
      ],
      "source": [
        "import scipy.stats as stats\n",
        "sum_every = pivot_table['total']['Total']\n",
        "sum_exponent = ((2680.06**2) + (828.88**2) + (2148.48**2) +\n",
        "                (4276.64**2) + (3123.56**2) + (3798.30**2)+\n",
        "                (3437.96**2) + (3374.14**2) + (1932.30**2)+\n",
        "                (662.92**2) + (737.54**2) + (420.60**2) +\n",
        "                (1439.46**2) + (630.88**2) + (1641.58**2) +\n",
        "                (731.28**2) + (263.52**2) + (359.50**2) +\n",
        "                (996.38**2) + (1294.36**2) + (684.66**2) +\n",
        "                (3921.32**2) + (3488.76**2) + (3994.92**2)\n",
        "                )\n",
        "K = 8\n",
        "L = 3\n",
        "N = K*L\n",
        "SSt = sum_exponent - ((sum_every**2)/N)\n",
        "SStrt = [((pivot_table['Americano']['Total']**2)/L) + ((pivot_table['Americano with Milk']['Total']**2)/L) + ((pivot_table['Cappuccino']['Total']**2)/L)+\n",
        "         ((pivot_table['Cocoa']['Total']**2)/L) + ((pivot_table['Cortado']['Total']**2)/L) + ((pivot_table['Espresso']['Total']**2)/L) +\n",
        "         ((pivot_table['Hot Chocolate']['Total']**2)/L) + ((pivot_table['Latte']['Total']**2)/L)] - ((sum_every**2)/N)\n",
        "SSb = [((pivot_table['total']['Afternoon']**2)/K) + ((pivot_table['total']['Evening']**2)/K) + ((pivot_table['total']['Morning']**2)/K)] - ((sum_every**2)/N)\n",
        "SSe = SSt - SStrt - SSb\n",
        "#หาdf\n",
        "df_coffee = K-1\n",
        "df_time = L-1\n",
        "df_error = N-1\n",
        "\n",
        "#sumsquare\n",
        "sum_sstrt = SStrt\n",
        "sum_ssb = SSb\n",
        "sum_sse = SSe\n",
        "sum_total = SSt\n",
        "\n",
        "#mean square\n",
        "MStrt = sum_sstrt/df_coffee\n",
        "MSb = sum_ssb/df_time\n",
        "MSe = sum_sse/df_error\n",
        "\n",
        "#F radio\n",
        "Fcal = MStrt/MSe\n",
        "F2 = MSb/MSe\n",
        "\n",
        "# กำหนดค่า\n",
        "alpha = 0.05  # ระดับความเชื่อมั่น 1 - 0.95\n",
        "dof1 = K-1  # degree of freedom สำหรับ m\n",
        "dof2 = (K-1)*(L-1)  # degree of freedom สำหรับ n\n",
        "\n",
        "# คำนวณค่า F\n",
        "f_value = stats.f.ppf(1 - alpha, dof1, dof2)\n",
        "\n",
        "if Fcal > f_value:\n",
        "    print(\"ยอดขายกาแฟแต่ละชนิดในแต่ละช่วงเวลามีความแตกต่างกันอย่างน้อย 1 คู่ \")\n",
        "else:\n",
        "    print(\"ยอดขายกาแฟแต่ละชนิดในแต่ละช่วงเวลาไม่แตกต่างกัน\")\n",
        "\n"
      ]
    },
    {
      "cell_type": "markdown",
      "metadata": {
        "id": "xd5CmvP4bSSD"
      },
      "source": [
        "การทดสอบเพื่อดูว่ามีความแตกต่างของยอดขายกาแฟในแต่ละชนิดหรือไม่ โดยใช้การทดสอบ LSD (Least Significant Difference) หลังจากการทดสอบ ANOVA วิเคราะห์ความนิยมของกาแฟ"
      ]
    },
    {
      "cell_type": "code",
      "execution_count": 160,
      "metadata": {
        "colab": {
          "base_uri": "https://localhost:8080/"
        },
        "id": "6ykdvHr7bcR3",
        "outputId": "723cd66c-fada-463f-c7f1-58968883daf6"
      },
      "outputs": [
        {
          "name": "stdout",
          "output_type": "stream",
          "text": [
            "                   sum_sq      df    F radio  PR(>F)      mean_sq\n",
            "coffee_name  19544.204479     7.0  648.49982     0.0  2792.029211\n",
            "Residual      6268.613196  1456.0        NaN     NaN     4.305366\n"
          ]
        }
      ],
      "source": [
        "import statsmodels.api as sm\n",
        "from statsmodels.formula.api import ols\n",
        "\n",
        "# สร้างแบบจำลอง Anova\n",
        "model = ols('money_THB ~ coffee_name', data=coff2).fit()\n",
        "\n",
        "# ทำการทดสอบ ANOVA\n",
        "anova_table = sm.stats.anova_lm(model, typ=2)\n",
        "\n",
        "# เปลี่ยนชื่อคอลัมน์ 'F' เป็น 'F radio'\n",
        "anova_table = anova_table.rename(columns={'F': 'F radio'})\n",
        "\n",
        "# เพิ่มคอลัมน์ mean_sq\n",
        "anova_table['mean_sq'] = anova_table['sum_sq'] / anova_table['df']\n",
        "\n",
        "# แสดงผลตาราง ANOVA\n",
        "print(anova_table)"
      ]
    },
    {
      "cell_type": "markdown",
      "metadata": {
        "id": "_Qf7V-2Hbhv8"
      },
      "source": [
        "F-statistic: ค่าของ F-statistic ที่สูง (648.49982 บาท) หมายความว่า มีความแตกต่างระหว่างกลุ่มข้อมูล (ในที่นี้คือชนิดของกาแฟ) อย่างมีนัยสำคัญ\n",
        "\n",
        "p-value(PR): p-value ที่ได้คือ 0.00 ซึ่งต่ำกว่าระดับนัยสำคัญทั่วไป (0.05 หรือ 0.01) นี้แสดงว่ามีหลักฐานเพียงพอที่จะปฏิเสธสมมติฐานว่าว่าไม่มีความแตกต่างระหว่างยอดขายกาแฟชนิดต่าง ๆ แสดงว่าข้อมูลมีความแตกต่าง\n",
        "ปฏิเสธสมมติฐานจึงหา LSD ต่อ"
      ]
    },
    {
      "cell_type": "markdown",
      "metadata": {
        "id": "AIgrRXN-UO8M"
      },
      "source": [
        "หา LSD การเปรียบเทียบพหุคูณในแบบแผนการการทดลอง เปรียบเทียบค่าเฉลี่ยรายคู่ (C8,2) = 28 คู่\n",
        "\n",
        "2.ระดับนัยสำคัญ 0.05\n",
        "3.สถิติทดสอบ LSD =\n",
        "4.การตัดสินใจ\n",
        "    ค่าวิกฤติ: Fที่ 0.95,(7,24)"
      ]
    },
    {
      "cell_type": "code",
      "execution_count": 161,
      "metadata": {
        "colab": {
          "base_uri": "https://localhost:8080/"
        },
        "id": "DsXTgwFNUO8M",
        "outputId": "35bb05fb-745f-45e9-cd7f-ad23fc660b54"
      },
      "outputs": [
        {
          "name": "stdout",
          "output_type": "stream",
          "text": [
            "ยอดขายกาแฟ Americano และ ยอดขายกาแฟ Americano_with_Milk แตกต่างกันที่ระดับนัยสำคัญ 0.05\n",
            "ยอดขายกาแฟ Americano และ ยอดขายกาแฟ Cappuccino แตกต่างกันที่ระดับนัยสำคัญ 0.05\n",
            "ยอดขายกาแฟ Americano และ ยอดขายกาแฟ Cocoa แตกต่างกันที่ระดับนัยสำคัญ 0.05\n",
            "ยอดขายกาแฟ Americano และ ยอดขายกาแฟ Cortado ไม่แตกต่างกันที่ระดับนัยสำคัญ 0.05\n",
            "ยอดขายกาแฟ Americano และ ยอดขายกาแฟ Espresso แตกต่างกันที่ระดับนัยสำคัญ 0.05\n",
            "ยอดขายกาแฟ Americano และ ยอดขายกาแฟ Hot Chocolate แตกต่างกันที่ระดับนัยสำคัญ 0.05\n",
            "ยอดขายกาแฟ Americano และ ยอดขายกาแฟ Latte แตกต่างกันที่ระดับนัยสำคัญ 0.05\n",
            "ยอดขายกาแฟ Americano_with_Milk และ ยอดขายกาแฟ Cappuccino แตกต่างกันที่ระดับนัยสำคัญ 0.05\n",
            "ยอดขายกาแฟ Americano_with_Milk และ ยอดขายกาแฟ Cocoa แตกต่างกันที่ระดับนัยสำคัญ 0.05\n",
            "ยอดขายกาแฟ Americano_with_Milk และ ยอดขายกาแฟ Cortado แตกต่างกันที่ระดับนัยสำคัญ 0.05\n",
            "ยอดขายกาแฟ Americano_with_Milk และ ยอดขายกาแฟ Espresso แตกต่างกันที่ระดับนัยสำคัญ 0.05\n",
            "ยอดขายกาแฟ Americano_with_Milk และ ยอดขายกาแฟ Hot Chocolate แตกต่างกันที่ระดับนัยสำคัญ 0.05\n",
            "ยอดขายกาแฟ Americano_with_Milk และ ยอดขายกาแฟ Latte ไม่แตกต่างกันที่ระดับนัยสำคัญ 0.05\n",
            "ยอดขายกาแฟ Cappuccino และ ยอดขายกาแฟ Cocoa แตกต่างกันที่ระดับนัยสำคัญ 0.05\n",
            "ยอดขายกาแฟ Cappuccino และ ยอดขายกาแฟ Cortado แตกต่างกันที่ระดับนัยสำคัญ 0.05\n",
            "ยอดขายกาแฟ Cappuccino และ ยอดขายกาแฟ Espresso แตกต่างกันที่ระดับนัยสำคัญ 0.05\n",
            "ยอดขายกาแฟ Cappuccino และ ยอดขายกาแฟ Hot_Chocolate แตกต่างกันที่ระดับนัยสำคัญ 0.05\n",
            "ยอดขายกาแฟ Cappuccino และ ยอดขายกาแฟ Latte แตกต่างกันที่ระดับนัยสำคัญ 0.05\n",
            "ยอดขายกาแฟ Cocoa และ ยอดขายกาแฟ Cortado ไม่แตกต่างกันที่ระดับนัยสำคัญ 0.05\n",
            "ยอดขายกาแฟ Cocoa และ ยอดขายกาแฟ Espresso ไม่แตกต่างกันที่ระดับนัยสำคัญ 0.05\n",
            "ยอดขายกาแฟ Cocoa และ ยอดขายกาแฟ Hot Chocolate ไม่แตกต่างกันที่ระดับนัยสำคัญ 0.05\n",
            "ยอดขายกาแฟ Cocoa และ ยอดขายกาแฟ Latte แตกต่างกันที่ระดับนัยสำคัญ 0.05\n",
            "ยอดขายกาแฟ Cortado และ ยอดขายกาแฟ Espresso แตกต่างกันที่ระดับนัยสำคัญ 0.05\n",
            "ยอดขายกาแฟ Cortado และ ยอดขายกาแฟ Hot Chocolate ไม่แตกต่างกันที่ระดับนัยสำคัญ 0.05\n",
            "ยอดขายกาแฟ Cortado และ ยอดขายกาแฟ Latte แตกต่างกันที่ระดับนัยสำคัญ 0.05\n",
            "ยอดขายกาแฟ Espresso และ ยอดขายกาแฟ Hot Chocolate ไม่แตกต่างกันที่ระดับนัยสำคัญ 0.05\n",
            "ยอดขายกาแฟ Espresso และ ยอดขายกาแฟ Latte แตกต่างกันที่ระดับนัยสำคัญ 0.05\n",
            "ยอดขายกาแฟ Hot Chocolate และ ยอดขายกาแฟ Latte แตกต่างกันที่ระดับนัยสำคัญ 0.05\n"
          ]
        }
      ],
      "source": [
        "import numpy as np\n",
        "import math\n",
        "import scipy.stats as stats\n",
        "\n",
        "alpha = 0.05  # ระดับความเชื่อมั่น (1 - 0.95)\n",
        "t_value = stats.t.ppf(1 - alpha/2, (K-1)*(L-1))\n",
        "LSD = t_value * np.sqrt(MSe*(2/L))\n",
        "\n",
        "mean_Americano = pivot_table['Americano']['Total']/L\n",
        "mean_Americano_with_Milk = pivot_table['Americano with Milk']['Total']/L\n",
        "mean_Cappuccino = pivot_table['Cappuccino']['Total']/L\n",
        "mean_Cocoa = pivot_table['Cocoa']['Total']/L\n",
        "mean_Cortado = pivot_table['Cortado']['Total']/L\n",
        "mean_Espresso = pivot_table['Espresso']['Total']/L\n",
        "mean_Hot_Chocolate = pivot_table['Hot Chocolate']['Total']/L\n",
        "mean_Latte = pivot_table['Latte']['Total']/L\n",
        "\n",
        "\n",
        "Couple = math.factorial(K)/(math.factorial(K-2)*math.factorial(2))\n",
        "#28คู่ที่ต้องเปรียบเทียบ\n",
        "\n",
        "if (abs(mean_Americano - mean_Americano_with_Milk) >= LSD) : #ปฏิเสธH0\n",
        "    print(\"ยอดขายกาแฟ Americano และ ยอดขายกาแฟ Americano_with_Milk แตกต่างกันที่ระดับนัยสำคัญ 0.05\")\n",
        "else :\n",
        "    print(\"ยอดขายกาแฟ Americano และ ยอดขายกาแฟ Americano_with_Milk ไม่แตกต่างกันที่ระดับนัยสำคัญ 0.05\")\n",
        "\n",
        "if (abs(mean_Americano - mean_Cappuccino) >= LSD) : #ปฏิเสธH0\n",
        "    print(\"ยอดขายกาแฟ Americano และ ยอดขายกาแฟ Cappuccino แตกต่างกันที่ระดับนัยสำคัญ 0.05\")\n",
        "else :\n",
        "    print(\"ยอดขายกาแฟ Americano และ ยอดขายกาแฟ Cappuccino ไม่แตกต่างกันที่ระดับนัยสำคัญ 0.05\")\n",
        "\n",
        "if (abs(mean_Americano - mean_Cocoa) >= LSD) : #ปฏิเสธH0\n",
        "    print(\"ยอดขายกาแฟ Americano และ ยอดขายกาแฟ Cocoa แตกต่างกันที่ระดับนัยสำคัญ 0.05\")\n",
        "else :\n",
        "    print(\"ยอดขายกาแฟ Americano และ ยอดขายกาแฟ Cocoa ไม่แตกต่างกันที่ระดับนัยสำคัญ 0.05\")\n",
        "\n",
        "if (abs(mean_Americano - mean_Cortado) >= LSD) : #ปฏิเสธH0\n",
        "    print(\"ยอดขายกาแฟ Americano และ ยอดขายกาแฟ Cortado แตกต่างกันที่ระดับนัยสำคัญ 0.05\")\n",
        "else :\n",
        "    print(\"ยอดขายกาแฟ Americano และ ยอดขายกาแฟ Cortado ไม่แตกต่างกันที่ระดับนัยสำคัญ 0.05\")\n",
        "\n",
        "if (abs(mean_Americano - mean_Espresso) >= LSD) : #ปฏิเสธH0\n",
        "    print(\"ยอดขายกาแฟ Americano และ ยอดขายกาแฟ Espresso แตกต่างกันที่ระดับนัยสำคัญ 0.05\")\n",
        "else :\n",
        "    print(\"ยอดขายกาแฟ Americano และ ยอดขายกาแฟ Espresso ไม่แตกต่างกันที่ระดับนัยสำคัญ 0.05\")\n",
        "\n",
        "if (abs(mean_Americano - mean_Hot_Chocolate) >= LSD) : #ปฏิเสธH0\n",
        "    print(\"ยอดขายกาแฟ Americano และ ยอดขายกาแฟ Hot Chocolate แตกต่างกันที่ระดับนัยสำคัญ 0.05\")\n",
        "else :\n",
        "    print(\"ยอดขายกาแฟ Americano และ ยอดขายกาแฟ Hot Chocolate ไม่แตกต่างกันที่ระดับนัยสำคัญ 0.05\")\n",
        "\n",
        "if (abs(mean_Americano - mean_Latte) >= LSD) : #ปฏิเสธH0\n",
        "    print(\"ยอดขายกาแฟ Americano และ ยอดขายกาแฟ Latte แตกต่างกันที่ระดับนัยสำคัญ 0.05\")\n",
        "else :\n",
        "    print(\"ยอดขายกาแฟ Americano และ ยอดขายกาแฟ Latte ไม่แตกต่างกันที่ระดับนัยสำคัญ 0.05\")\n",
        "\n",
        "if (abs(mean_Americano_with_Milk - mean_Cappuccino) >= LSD) : #ปฏิเสธH0\n",
        "    print(\"ยอดขายกาแฟ Americano_with_Milk และ ยอดขายกาแฟ Cappuccino แตกต่างกันที่ระดับนัยสำคัญ 0.05\")\n",
        "else :\n",
        "    print(\"ยอดขายกาแฟ Americano_with_Milk และ ยอดขายกาแฟ Cappuccino ไม่แตกต่างกันที่ระดับนัยสำคัญ 0.05\")\n",
        "\n",
        "if (abs(mean_Americano_with_Milk - mean_Cocoa) >= LSD) : #ปฏิเสธH0\n",
        "    print(\"ยอดขายกาแฟ Americano_with_Milk และ ยอดขายกาแฟ Cocoa แตกต่างกันที่ระดับนัยสำคัญ 0.05\")\n",
        "else :\n",
        "    print(\"ยอดขายกาแฟ Americano_with_Milk และ ยอดขายกาแฟ Cocoa ไม่แตกต่างกันที่ระดับนัยสำคัญ 0.05\")\n",
        "\n",
        "if (abs(mean_Americano_with_Milk - mean_Cortado) >= LSD) : #ปฏิเสธH0\n",
        "    print(\"ยอดขายกาแฟ Americano_with_Milk และ ยอดขายกาแฟ Cortado แตกต่างกันที่ระดับนัยสำคัญ 0.05\")\n",
        "else :\n",
        "    print(\"ยอดขายกาแฟ Americano_with_Milk และ ยอดขายกาแฟ Cortado ไม่แตกต่างกันที่ระดับนัยสำคัญ 0.05\")\n",
        "\n",
        "if (abs(mean_Americano_with_Milk - mean_Espresso) >= LSD) : #ปฏิเสธH0\n",
        "    print(\"ยอดขายกาแฟ Americano_with_Milk และ ยอดขายกาแฟ Espresso แตกต่างกันที่ระดับนัยสำคัญ 0.05\")\n",
        "else :\n",
        "    print(\"ยอดขายกาแฟ Americano_with_Milk และ ยอดขายกาแฟ Espresso ไม่แตกต่างกันที่ระดับนัยสำคัญ 0.05\")\n",
        "\n",
        "if (abs(mean_Americano_with_Milk - mean_Hot_Chocolate) >= LSD) : #ปฏิเสธH0\n",
        "    print(\"ยอดขายกาแฟ Americano_with_Milk และ ยอดขายกาแฟ Hot Chocolate แตกต่างกันที่ระดับนัยสำคัญ 0.05\")\n",
        "else :\n",
        "    print(\"ยอดขายกาแฟ Americano_with_Milk และ ยอดขายกาแฟ Hot Chocolate ไม่แตกต่างกันที่ระดับนัยสำคัญ 0.05\")\n",
        "\n",
        "if (abs(mean_Americano_with_Milk - mean_Latte) >= LSD) : #ปฏิเสธH0\n",
        "    print(\"ยอดขายกาแฟ Americano_with_Milk และ ยอดขายกาแฟ Latte แตกต่างกันที่ระดับนัยสำคัญ 0.05\")\n",
        "else :\n",
        "    print(\"ยอดขายกาแฟ Americano_with_Milk และ ยอดขายกาแฟ Latte ไม่แตกต่างกันที่ระดับนัยสำคัญ 0.05\")\n",
        "\n",
        "if (abs(mean_Cappuccino - mean_Cocoa) >= LSD) : #ปฏิเสธH0\n",
        "    print(\"ยอดขายกาแฟ Cappuccino และ ยอดขายกาแฟ Cocoa แตกต่างกันที่ระดับนัยสำคัญ 0.05\")\n",
        "else :\n",
        "    print(\"ยอดขายกาแฟ Cappuccino และ ยอดขายกาแฟ Cocoa ไม่แตกต่างกันที่ระดับนัยสำคัญ 0.05\")\n",
        "\n",
        "if (abs(mean_Cappuccino - mean_Cortado) >= LSD) : #ปฏิเสธH0\n",
        "    print(\"ยอดขายกาแฟ Cappuccino และ ยอดขายกาแฟ Cortado แตกต่างกันที่ระดับนัยสำคัญ 0.05\")\n",
        "else :\n",
        "    print(\"ยอดขายกาแฟ Cappuccino และ ยอดขายกาแฟ Cortado ไม่แตกต่างกันที่ระดับนัยสำคัญ 0.05\")\n",
        "\n",
        "if (abs(mean_Cappuccino - mean_Espresso) >= LSD) : #ปฏิเสธH0\n",
        "    print(\"ยอดขายกาแฟ Cappuccino และ ยอดขายกาแฟ Espresso แตกต่างกันที่ระดับนัยสำคัญ 0.05\")\n",
        "else :\n",
        "    print(\"ยอดขายกาแฟ Cappuccino และ ยอดขายกาแฟ Espresso ไม่แตกต่างกันที่ระดับนัยสำคัญ 0.05\")\n",
        "\n",
        "if (abs(mean_Cappuccino - mean_Hot_Chocolate) >= LSD) : #ปฏิเสธH0\n",
        "    print(\"ยอดขายกาแฟ Cappuccino และ ยอดขายกาแฟ Hot_Chocolate แตกต่างกันที่ระดับนัยสำคัญ 0.05\")\n",
        "else :\n",
        "    print(\"ยอดขายกาแฟ Cappuccino และ ยอดขายกาแฟ Hot_Chocolate ไม่แตกต่างกันที่ระดับนัยสำคัญ 0.05\")\n",
        "\n",
        "if (abs(mean_Cappuccino - mean_Latte) >= LSD) : #ปฏิเสธH0\n",
        "    print(\"ยอดขายกาแฟ Cappuccino และ ยอดขายกาแฟ Latte แตกต่างกันที่ระดับนัยสำคัญ 0.05\")\n",
        "else :\n",
        "    print(\"ยอดขายกาแฟ Cappuccino และ ยอดขายกาแฟ Latte ไม่แตกต่างกันที่ระดับนัยสำคัญ 0.05\")\n",
        "\n",
        "if (abs(mean_Cocoa - mean_Cortado) >= LSD) : #ปฏิเสธH0\n",
        "    print(\"ยอดขายกาแฟ Cocoa และ ยอดขายกาแฟ Cortado แตกต่างกันที่ระดับนัยสำคัญ 0.05\")\n",
        "else :\n",
        "    print(\"ยอดขายกาแฟ Cocoa และ ยอดขายกาแฟ Cortado ไม่แตกต่างกันที่ระดับนัยสำคัญ 0.05\")\n",
        "\n",
        "if (abs(mean_Cocoa - mean_Espresso) >= LSD) : #ปฏิเสธH0\n",
        "    print(\"ยอดขายกาแฟ Cocoa และ ยอดขายกาแฟ Espresso แตกต่างกันที่ระดับนัยสำคัญ 0.05\")\n",
        "else :\n",
        "    print(\"ยอดขายกาแฟ Cocoa และ ยอดขายกาแฟ Espresso ไม่แตกต่างกันที่ระดับนัยสำคัญ 0.05\")\n",
        "\n",
        "if (abs(mean_Cocoa - mean_Hot_Chocolate) >= LSD) : #ปฏิเสธH0\n",
        "    print(\"ยอดขายกาแฟ Cocoa และ ยอดขายกาแฟ Hot Chocolate แตกต่างกันที่ระดับนัยสำคัญ 0.05\")\n",
        "else :\n",
        "    print(\"ยอดขายกาแฟ Cocoa และ ยอดขายกาแฟ Hot Chocolate ไม่แตกต่างกันที่ระดับนัยสำคัญ 0.05\")\n",
        "\n",
        "if (abs(mean_Cocoa - mean_Latte) >= LSD) : #ปฏิเสธH0\n",
        "    print(\"ยอดขายกาแฟ Cocoa และ ยอดขายกาแฟ Latte แตกต่างกันที่ระดับนัยสำคัญ 0.05\")\n",
        "else :\n",
        "    print(\"ยอดขายกาแฟ Cocoa และ ยอดขายกาแฟ Latte ไม่แตกต่างกันที่ระดับนัยสำคัญ 0.05\")\n",
        "\n",
        "if (abs(mean_Cortado - mean_Espresso) >= LSD) : #ปฏิเสธH0\n",
        "    print(\"ยอดขายกาแฟ Cortado และ ยอดขายกาแฟ Espresso แตกต่างกันที่ระดับนัยสำคัญ 0.05\")\n",
        "else :\n",
        "    print(\"ยอดขายกาแฟ Cortado และ ยอดขายกาแฟ Espresso ไม่แตกต่างกันที่ระดับนัยสำคัญ 0.05\")\n",
        "\n",
        "if (abs(mean_Cortado - mean_Hot_Chocolate) >= LSD) : #ปฏิเสธH0\n",
        "    print(\"ยอดขายกาแฟ Cortado และ ยอดขายกาแฟ Hot Chocolate แตกต่างกันที่ระดับนัยสำคัญ 0.05\")\n",
        "else :\n",
        "    print(\"ยอดขายกาแฟ Cortado และ ยอดขายกาแฟ Hot Chocolate ไม่แตกต่างกันที่ระดับนัยสำคัญ 0.05\")\n",
        "\n",
        "if (abs(mean_Cortado - mean_Latte) >= LSD) : #ปฏิเสธH0\n",
        "    print(\"ยอดขายกาแฟ Cortado และ ยอดขายกาแฟ Latte แตกต่างกันที่ระดับนัยสำคัญ 0.05\")\n",
        "else :\n",
        "    print(\"ยอดขายกาแฟ Cortado และ ยอดขายกาแฟ Latte ไม่แตกต่างกันที่ระดับนัยสำคัญ 0.05\")\n",
        "\n",
        "if (abs(mean_Espresso - mean_Hot_Chocolate) >= LSD) : #ปฏิเสธH0\n",
        "    print(\"ยอดขายกาแฟ Espresso และ ยอดขายกาแฟ Hot Chocolate แตกต่างกันที่ระดับนัยสำคัญ 0.05\")\n",
        "else :\n",
        "    print(\"ยอดขายกาแฟ Espresso และ ยอดขายกาแฟ Hot Chocolate ไม่แตกต่างกันที่ระดับนัยสำคัญ 0.05\")\n",
        "\n",
        "if (abs(mean_Espresso - mean_Latte) >= LSD) : #ปฏิเสธH0\n",
        "    print(\"ยอดขายกาแฟ Espresso และ ยอดขายกาแฟ Latte แตกต่างกันที่ระดับนัยสำคัญ 0.05\")\n",
        "else :\n",
        "    print(\"ยอดขายกาแฟ Espresso และ ยอดขายกาแฟ Latte ไม่แตกต่างกันที่ระดับนัยสำคัญ 0.05\")\n",
        "\n",
        "if (abs(mean_Hot_Chocolate - mean_Latte) >= LSD) : #ปฏิเสธH0\n",
        "    print(\"ยอดขายกาแฟ Hot Chocolate และ ยอดขายกาแฟ Latte แตกต่างกันที่ระดับนัยสำคัญ 0.05\")\n",
        "else :\n",
        "    print(\"ยอดขายกาแฟHot Chocolate และ ยอดขายกาแฟ Latte ไม่แตกต่างกันที่ระดับนัยสำคัญ 0.05\")\n"
      ]
    },
    {
      "cell_type": "markdown",
      "metadata": {
        "id": "yHyKLwzna1Vg"
      },
      "source": [
        "สรุปผลและวิหีข้อมูล"
      ]
    },
    {
      "cell_type": "code",
      "execution_count": 162,
      "metadata": {
        "colab": {
          "base_uri": "https://localhost:8080/"
        },
        "id": "mUb6I56iUO8Q",
        "outputId": "0099b85a-3440-4b6d-dd2d-4902a7b830d3"
      },
      "outputs": [
        {
          "name": "stdout",
          "output_type": "stream",
          "text": [
            "              Multiple Comparison of Means - Tukey HSD, FWER=0.05               \n",
            "================================================================================\n",
            "       group1              group2       meandiff p-adj   lower    upper   reject\n",
            "--------------------------------------------------------------------------------\n",
            "          Americano Americano with Milk   3.5235    0.0   2.9793   4.0676   True\n",
            "          Americano          Cappuccino   7.9212    0.0   7.3277   8.5146   True\n",
            "          Americano               Cocoa   7.2257    0.0   6.2438   8.2075   True\n",
            "          Americano             Cortado  -0.1856 0.9918  -0.8694   0.4981  False\n",
            "          Americano            Espresso  -4.0004    0.0  -4.9037  -3.0972   True\n",
            "          Americano       Hot Chocolate   8.3992    0.0   7.5733    9.225   True\n",
            "          Americano               Latte   7.5296    0.0   6.9712   8.0879   True\n",
            "Americano with Milk          Cappuccino   4.3977    0.0   3.8725   4.9229   True\n",
            "Americano with Milk               Cocoa   3.7022    0.0     2.76   4.6443   True\n",
            "Americano with Milk             Cortado  -3.7091    0.0  -4.3346  -3.0837   True\n",
            "Americano with Milk            Espresso  -7.5239    0.0  -8.3839   -6.664   True\n",
            "Americano with Milk       Hot Chocolate   4.8757    0.0   4.0974   5.6539   True\n",
            "Americano with Milk               Latte   4.0061    0.0   3.5209   4.4913   True\n",
            "         Cappuccino               Cocoa  -0.6955 0.3687   -1.667   0.2759  False\n",
            "         Cappuccino             Cortado  -8.1068    0.0  -8.7756   -7.438   True\n",
            "         Cappuccino            Espresso -11.9216    0.0 -12.8135 -11.0296   True\n",
            "         Cappuccino       Hot Chocolate    0.478 0.6315  -0.3355   1.2915  False\n",
            "         Cappuccino               Latte  -0.3916 0.3513  -0.9315   0.1483  False\n",
            "              Cocoa             Cortado  -7.4113    0.0  -8.4404  -6.3822   True\n",
            "              Cocoa            Espresso -11.2261    0.0 -12.4124 -10.0398   True\n",
            "              Cocoa       Hot Chocolate   1.1735 0.0348    0.045    2.302   True\n",
            "              Cocoa               Latte   0.3039 0.9785  -0.6465   1.2543  False\n",
            "            Cortado            Espresso  -3.8148    0.0  -4.7692  -2.8604   True\n",
            "            Cortado       Hot Chocolate   8.5848    0.0   7.7032   9.4663   True\n",
            "            Cortado               Latte   7.7152    0.0   7.0774   8.3531   True\n",
            "           Espresso       Hot Chocolate  12.3996    0.0  11.3387  13.4605   True\n",
            "           Espresso               Latte    11.53    0.0   10.661   12.399   True\n",
            "      Hot Chocolate               Latte  -0.8696 0.0189  -1.6578  -0.0813   True\n",
            "--------------------------------------------------------------------------------\n"
          ]
        }
      ],
      "source": [
        "from statsmodels.stats.multicomp import pairwise_tukeyhsd\n",
        "\n",
        "# การทดสอบ LSD\n",
        "tukey_results = pairwise_tukeyhsd(endog=coff2['money_THB'], groups=coff2['coffee_name'], alpha=0.05)\n",
        "print(tukey_results)"
      ]
    },
    {
      "cell_type": "markdown",
      "metadata": {
        "id": "nyaR30ectGBd"
      },
      "source": [
        "สร้าง coloum ฤดูมา"
      ]
    },
    {
      "cell_type": "code",
      "execution_count": 163,
      "metadata": {
        "colab": {
          "base_uri": "https://localhost:8080/",
          "height": 486
        },
        "id": "rLBXC0yStKfE",
        "outputId": "1c8b2bc2-43d6-4b82-aca1-7478bb295c49"
      },
      "outputs": [
        {
          "data": {
            "text/html": [
              "<div>\n",
              "<style scoped>\n",
              "    .dataframe tbody tr th:only-of-type {\n",
              "        vertical-align: middle;\n",
              "    }\n",
              "\n",
              "    .dataframe tbody tr th {\n",
              "        vertical-align: top;\n",
              "    }\n",
              "\n",
              "    .dataframe thead th {\n",
              "        text-align: right;\n",
              "    }\n",
              "</style>\n",
              "<table border=\"1\" class=\"dataframe\">\n",
              "  <thead>\n",
              "    <tr style=\"text-align: right;\">\n",
              "      <th></th>\n",
              "      <th>date</th>\n",
              "      <th>datetime</th>\n",
              "      <th>cash_type</th>\n",
              "      <th>card</th>\n",
              "      <th>money</th>\n",
              "      <th>coffee_name</th>\n",
              "      <th>month</th>\n",
              "      <th>day</th>\n",
              "      <th>hour</th>\n",
              "      <th>money_THB</th>\n",
              "      <th>time_period</th>\n",
              "      <th>season</th>\n",
              "    </tr>\n",
              "  </thead>\n",
              "  <tbody>\n",
              "    <tr>\n",
              "      <th>1459</th>\n",
              "      <td>2024-09-05</td>\n",
              "      <td>2024-09-05 20:30:14.964</td>\n",
              "      <td>card</td>\n",
              "      <td>ANON-0000-0000-0587</td>\n",
              "      <td>32.82</td>\n",
              "      <td>Cappuccino</td>\n",
              "      <td>09</td>\n",
              "      <td>05</td>\n",
              "      <td>20</td>\n",
              "      <td>25.9278</td>\n",
              "      <td>Evening</td>\n",
              "      <td>Autumn</td>\n",
              "    </tr>\n",
              "    <tr>\n",
              "      <th>1460</th>\n",
              "      <td>2024-09-05</td>\n",
              "      <td>2024-09-05 20:54:24.429</td>\n",
              "      <td>card</td>\n",
              "      <td>ANON-0000-0000-0588</td>\n",
              "      <td>23.02</td>\n",
              "      <td>Americano</td>\n",
              "      <td>09</td>\n",
              "      <td>05</td>\n",
              "      <td>20</td>\n",
              "      <td>18.1858</td>\n",
              "      <td>Evening</td>\n",
              "      <td>Autumn</td>\n",
              "    </tr>\n",
              "    <tr>\n",
              "      <th>1461</th>\n",
              "      <td>2024-09-05</td>\n",
              "      <td>2024-09-05 20:55:31.429</td>\n",
              "      <td>card</td>\n",
              "      <td>ANON-0000-0000-0588</td>\n",
              "      <td>32.82</td>\n",
              "      <td>Cappuccino</td>\n",
              "      <td>09</td>\n",
              "      <td>05</td>\n",
              "      <td>20</td>\n",
              "      <td>25.9278</td>\n",
              "      <td>Evening</td>\n",
              "      <td>Autumn</td>\n",
              "    </tr>\n",
              "    <tr>\n",
              "      <th>1462</th>\n",
              "      <td>2024-09-05</td>\n",
              "      <td>2024-09-05 21:26:28.836</td>\n",
              "      <td>card</td>\n",
              "      <td>ANON-0000-0000-0040</td>\n",
              "      <td>27.92</td>\n",
              "      <td>Americano with Milk</td>\n",
              "      <td>09</td>\n",
              "      <td>05</td>\n",
              "      <td>21</td>\n",
              "      <td>22.0568</td>\n",
              "      <td>Evening</td>\n",
              "      <td>Autumn</td>\n",
              "    </tr>\n",
              "    <tr>\n",
              "      <th>1463</th>\n",
              "      <td>2024-09-05</td>\n",
              "      <td>2024-09-05 21:27:29.969</td>\n",
              "      <td>card</td>\n",
              "      <td>ANON-0000-0000-0040</td>\n",
              "      <td>27.92</td>\n",
              "      <td>Americano with Milk</td>\n",
              "      <td>09</td>\n",
              "      <td>05</td>\n",
              "      <td>21</td>\n",
              "      <td>22.0568</td>\n",
              "      <td>Evening</td>\n",
              "      <td>Autumn</td>\n",
              "    </tr>\n",
              "  </tbody>\n",
              "</table>\n",
              "</div>"
            ],
            "text/plain": [
              "            date                 datetime cash_type                 card  \\\n",
              "1459  2024-09-05  2024-09-05 20:30:14.964      card  ANON-0000-0000-0587   \n",
              "1460  2024-09-05  2024-09-05 20:54:24.429      card  ANON-0000-0000-0588   \n",
              "1461  2024-09-05  2024-09-05 20:55:31.429      card  ANON-0000-0000-0588   \n",
              "1462  2024-09-05  2024-09-05 21:26:28.836      card  ANON-0000-0000-0040   \n",
              "1463  2024-09-05  2024-09-05 21:27:29.969      card  ANON-0000-0000-0040   \n",
              "\n",
              "      money          coffee_name month day hour  money_THB time_period  season  \n",
              "1459  32.82           Cappuccino    09  05   20    25.9278     Evening  Autumn  \n",
              "1460  23.02            Americano    09  05   20    18.1858     Evening  Autumn  \n",
              "1461  32.82           Cappuccino    09  05   20    25.9278     Evening  Autumn  \n",
              "1462  27.92  Americano with Milk    09  05   21    22.0568     Evening  Autumn  \n",
              "1463  27.92  Americano with Milk    09  05   21    22.0568     Evening  Autumn  "
            ]
          },
          "execution_count": 163,
          "metadata": {},
          "output_type": "execute_result"
        }
      ],
      "source": [
        "def categorize_season_ukraine(month):\n",
        "    if month in [\"12\", \"01\", \"02\"]:\n",
        "        return 'Winter'\n",
        "    elif month in [\"03\", \"04\", \"05\"]:\n",
        "        return 'Spring'\n",
        "    elif month in [\"06\", \"07\", \"08\"]:\n",
        "        return 'Summer'\n",
        "    elif month in [\"09\", \"10\", \"11\"]:\n",
        "        return 'Autumn'\n",
        "    else:\n",
        "        return 'Unknown'  # สำหรับเดือนที่ไม่ถูกต้อง\n",
        "\n",
        "\n",
        "coff2['season'] = coff2['month'].apply(categorize_season_ukraine)\n",
        "coff2.tail(5)"
      ]
    },
    {
      "cell_type": "code",
      "execution_count": 164,
      "metadata": {
        "colab": {
          "base_uri": "https://localhost:8080/",
          "height": 209
        },
        "id": "pRFkE2Tcvcsi",
        "outputId": "eb6ea094-9b57-4b0e-8c17-ad52c13f9ecd"
      },
      "outputs": [
        {
          "data": {
            "text/plain": [
              "season\n",
              "Autumn     1378.7712\n",
              "Spring    18039.0022\n",
              "Summer    17607.9466\n",
              "Name: money_THB, dtype: float64"
            ]
          },
          "execution_count": 164,
          "metadata": {},
          "output_type": "execute_result"
        }
      ],
      "source": [
        "sales_by_season = coff2.groupby(['season'])['money_THB'].sum()\n",
        "sales_by_season"
      ]
    },
    {
      "cell_type": "markdown",
      "metadata": {
        "id": "IgQ5kNVHwcIX"
      },
      "source": [
        "เบลทำกราฟ"
      ]
    },
    {
      "cell_type": "code",
      "execution_count": 165,
      "metadata": {
        "id": "7Kp1Jw02wddb"
      },
      "outputs": [],
      "source": [
        "# pssst i see dead people"
      ]
    },
    {
      "cell_type": "markdown",
      "metadata": {
        "id": "eUOxFechwgVs"
      },
      "source": []
    },
    {
      "cell_type": "markdown",
      "metadata": {
        "id": "WD0zEguml0Ol"
      },
      "source": [
        "dsad"
      ]
    },
    {
      "cell_type": "code",
      "execution_count": 166,
      "metadata": {
        "colab": {
          "base_uri": "https://localhost:8080/"
        },
        "id": "GLPp2DXXAqUn",
        "outputId": "bbe29385-3a8c-4ca7-8db0-97b1565af92b"
      },
      "outputs": [
        {
          "name": "stdout",
          "output_type": "stream",
          "text": [
            "0         Friday\n",
            "1         Friday\n",
            "2         Friday\n",
            "3         Friday\n",
            "4         Friday\n",
            "          ...   \n",
            "1459    Thursday\n",
            "1460    Thursday\n",
            "1461    Thursday\n",
            "1462    Thursday\n",
            "1463    Thursday\n",
            "Name: day_of_week, Length: 1464, dtype: object\n"
          ]
        }
      ],
      "source": [
        "# แปลง 'date' เป็น datetime object ถ้ายังไม่ได้แปลง\n",
        "coff2['date'] = pd.to_datetime(coff['date'])\n",
        "\n",
        "# สร้างคอลัมน์ 'day_of_week' ที่เก็บชื่อวันในสัปดาห์\n",
        "coff2['day_of_week'] = coff2['date'].dt.day_name()\n",
        "\n",
        "print(coff2['day_of_week'])\n",
        "# coff2.info()"
      ]
    },
    {
      "cell_type": "code",
      "execution_count": 167,
      "metadata": {
        "colab": {
          "base_uri": "https://localhost:8080/",
          "height": 1000
        },
        "id": "h7ca7KN8EoFF",
        "outputId": "fd3bdbb6-b82a-46ba-827d-3e013a75f19f"
      },
      "outputs": [
        {
          "data": {
            "text/plain": [
              "day_of_week  month\n",
              "Friday       03       32\n",
              "             04       29\n",
              "             05       37\n",
              "             06       26\n",
              "             07       39\n",
              "             08       34\n",
              "Monday       03       22\n",
              "             04       35\n",
              "             05       41\n",
              "             06       29\n",
              "             07       24\n",
              "             08       41\n",
              "             09        8\n",
              "Saturday     03       40\n",
              "             04       27\n",
              "             05       24\n",
              "             06       36\n",
              "             07       27\n",
              "             08       47\n",
              "Sunday       03       23\n",
              "             04       28\n",
              "             05       36\n",
              "             06       40\n",
              "             07       24\n",
              "             08       37\n",
              "             09       10\n",
              "Thursday     03       28\n",
              "             04       24\n",
              "             05       52\n",
              "             06       33\n",
              "             07       27\n",
              "             08       44\n",
              "             09       14\n",
              "Tuesday      03       33\n",
              "             04       30\n",
              "             05       42\n",
              "             06       31\n",
              "             07       49\n",
              "             08       35\n",
              "             09       17\n",
              "Wednesday    03       28\n",
              "             04       23\n",
              "             05       35\n",
              "             06       32\n",
              "             07       47\n",
              "             08       34\n",
              "             09       10\n",
              "dtype: int64"
            ]
          },
          "execution_count": 167,
          "metadata": {},
          "output_type": "execute_result"
        }
      ],
      "source": [
        "result = coff2.groupby(['day_of_week',\"month\"]).size()\n",
        "result\n",
        "#แบ่งเป็นรายสัปดา"
      ]
    },
    {
      "cell_type": "markdown",
      "metadata": {
        "id": "8u66IHfkKPuf"
      },
      "source": [
        "บอกว่าแต่ละเดือน ขายกาแฟในวันไหนได้เงินมากสุด ซึ่งส่วนมากก็คือวันพฤหัส แสดงว่าวันพฤหัสขายดีที่สุด และ รองลงมาคือ วันอังคาร"
      ]
    },
    {
      "cell_type": "code",
      "execution_count": 168,
      "metadata": {
        "colab": {
          "base_uri": "https://localhost:8080/"
        },
        "id": "Htb5_AGBIfjy",
        "outputId": "12289b1b-c786-465e-ec5d-e7a7b3f83c58"
      },
      "outputs": [
        {
          "name": "stdout",
          "output_type": "stream",
          "text": [
            "     month max_sales_day  max_sales_value\n",
            "0  2024-03       Tuesday          1163.20\n",
            "1  2024-04        Monday          1167.52\n",
            "2  2024-05      Thursday          1814.66\n",
            "3  2024-06      Thursday          1117.36\n",
            "4  2024-07       Tuesday          1387.68\n",
            "5  2024-08      Thursday          1213.78\n",
            "6  2024-09       Tuesday           513.84\n"
          ]
        }
      ],
      "source": [
        "\n",
        "\n",
        "# สมมุติ DataFrame coff2 มีคอลัมน์ datetime และ money\n",
        "# coff2 = pd.DataFrame({\n",
        "#     'datetime': [...],  # วันที่ซื้อ\n",
        "#     'money': [...]      # ยอดขาย\n",
        "# })\n",
        "\n",
        "# แปลงคอลัมน์ datetime เป็น datetime object\n",
        "coff2['datetime'] = pd.to_datetime(coff2['datetime'])\n",
        "\n",
        "# สร้างคอลัมน์ใหม่สำหรับเดือน\n",
        "coff2['month'] = coff2['datetime'].dt.to_period('M')\n",
        "\n",
        "# สร้างคอลัมน์สำหรับวันในสัปดาห์\n",
        "coff2['day_of_week'] = coff2['datetime'].dt.day_name()\n",
        "\n",
        "# กรองเฉพาะวันจันทร์ถึงวันศุกร์\n",
        "weekdays = ['Monday', 'Tuesday', 'Wednesday', 'Thursday', 'Friday']\n",
        "coff2_filtered = coff2[coff2['day_of_week'].isin(weekdays)]\n",
        "\n",
        "# กลุ่มข้อมูลตามเดือนและวันในสัปดาห์ แล้วคำนวณยอดขาย\n",
        "daily_sales_by_month = coff2_filtered.groupby([coff2_filtered['month'], coff2_filtered['day_of_week']])['money'].sum()\n",
        "\n",
        "# หาวันที่มียอดขายสูงสุดในแต่ละเดือน\n",
        "max_sales_day = daily_sales_by_month.groupby(level=0).idxmax()\n",
        "max_sales_value = daily_sales_by_month.groupby(level=0).max()\n",
        "\n",
        "# สร้าง DataFrame สำหรับแสดงผลลัพธ์\n",
        "result = pd.DataFrame({\n",
        "    'month': max_sales_day.index,\n",
        "    'max_sales_day': [day[1] for day in max_sales_day],\n",
        "    'max_sales_value': max_sales_value\n",
        "}).reset_index(drop=True)\n",
        "\n",
        "print(result)\n"
      ]
    },
    {
      "cell_type": "markdown",
      "metadata": {
        "id": "JV2sybXBKpin"
      },
      "source": [
        "จากข้อมูลทั้งหมด วัน พฤหัสบดี เป็นวันที่มียอดขายสูงสุดในหลายเดือน ซึ่งแสดงให้เห็นว่ามีการซื้อขายกาแฟในวันพฤหัสบดีมากที่สุด\n",
        "รองลงมาคือวัน อังคาร ที่มียอดขายสูงในหลายเดือนเช่นกัน"
      ]
    },
    {
      "cell_type": "markdown",
      "metadata": {
        "id": "NAn8BRnYIYGf"
      },
      "source": [
        "กูทำไรไม่รู้ ยอดขายสูงสุดในแต่ละเดือนมั้ง ทำทำไม แชทมันทำให้กูเอง"
      ]
    },
    {
      "cell_type": "code",
      "execution_count": 169,
      "metadata": {
        "colab": {
          "base_uri": "https://localhost:8080/"
        },
        "id": "rIX_zc99Hl0z",
        "outputId": "4fa8fe7f-27d5-4a06-ae90-051d0c47a01a"
      },
      "outputs": [
        {
          "name": "stdout",
          "output_type": "stream",
          "text": [
            "     month  max_sales_day  max_sales_value\n",
            "0  2024-03   (2024-03, 9)           479.40\n",
            "1  2024-04  (2024-04, 20)           494.30\n",
            "2  2024-05  (2024-05, 23)           575.40\n",
            "3  2024-06   (2024-06, 4)           474.18\n",
            "4  2024-07  (2024-07, 30)           650.48\n",
            "5  2024-08  (2024-08, 15)           446.72\n",
            "6  2024-09   (2024-09, 3)           513.84\n"
          ]
        }
      ],
      "source": [
        "# แปลงคอลัมน์ datetime เป็น datetime object\n",
        "coff2['datetime'] = pd.to_datetime(coff2['datetime'])\n",
        "\n",
        "# สร้างคอลัมน์ใหม่สำหรับเดือน\n",
        "coff2['month'] = coff2['datetime'].dt.to_period('M')\n",
        "\n",
        "# กลุ่มข้อมูลตามเดือนและวัน แล้วคำนวณยอดขาย\n",
        "daily_sales_by_month = coff2.groupby([coff2['month'], coff2['datetime'].dt.day])['money'].sum()\n",
        "\n",
        "# หาวันที่มียอดขายสูงสุดในแต่ละเดือน\n",
        "max_sales_day = daily_sales_by_month.groupby(level=0).idxmax()\n",
        "max_sales_value = daily_sales_by_month.groupby(level=0).max()\n",
        "\n",
        "# สร้าง DataFrame สำหรับแสดงผลลัพธ์\n",
        "result = pd.DataFrame({\n",
        "    'max_sales_day': max_sales_day,\n",
        "    'max_sales_value': max_sales_value\n",
        "}).reset_index()\n",
        "\n",
        "print(result)"
      ]
    },
    {
      "cell_type": "code",
      "execution_count": 170,
      "metadata": {
        "colab": {
          "base_uri": "https://localhost:8080/"
        },
        "id": "mh-RsLw7E7zg",
        "outputId": "e3bedc12-5b05-4d89-f58d-7f6f86e8f187"
      },
      "outputs": [
        {
          "name": "stdout",
          "output_type": "stream",
          "text": [
            "day_of_week\n",
            "Friday       32.833333\n",
            "Monday       28.571429\n",
            "Saturday     33.500000\n",
            "Sunday       28.285714\n",
            "Thursday     31.714286\n",
            "Tuesday      33.857143\n",
            "Wednesday    29.857143\n",
            "dtype: float64\n"
          ]
        }
      ],
      "source": [
        "# Group by 'day_of_week' and 'month', then calculate the size of each group (number of sales)\n",
        "daily_sales_by_month = coff2.groupby(['day_of_week', 'month']).size()\n",
        "\n",
        "# Calculate the mean sales for each day of the week across all months\n",
        "result = daily_sales_by_month.groupby('day_of_week').mean()\n",
        "\n",
        "print(result)"
      ]
    },
    {
      "cell_type": "code",
      "execution_count": 171,
      "metadata": {
        "colab": {
          "base_uri": "https://localhost:8080/",
          "height": 335
        },
        "id": "RVv6z4RyCZtn",
        "outputId": "e9076a91-9ae8-4f13-9015-4e805fb8ee1d"
      },
      "outputs": [
        {
          "data": {
            "text/plain": [
              "day_of_week\n",
              "Friday       197\n",
              "Monday       200\n",
              "Saturday     201\n",
              "Sunday       198\n",
              "Thursday     222\n",
              "Tuesday      237\n",
              "Wednesday    209\n",
              "dtype: int64"
            ]
          },
          "execution_count": 171,
          "metadata": {},
          "output_type": "execute_result"
        }
      ],
      "source": [
        "result = coff2.groupby(['day_of_week']).size()\n",
        "result\n",
        "#แบ่งเป็นรายเดือน"
      ]
    },
    {
      "cell_type": "code",
      "execution_count": 172,
      "metadata": {
        "colab": {
          "base_uri": "https://localhost:8080/"
        },
        "id": "CaTM6Q5HDVbH",
        "outputId": "f34336dc-0679-4b4e-e061-862ee3c7fbd9"
      },
      "outputs": [
        {
          "name": "stdout",
          "output_type": "stream",
          "text": [
            "day_of_week\n",
            "Friday       6306.20\n",
            "Monday       6391.66\n",
            "Saturday     6479.50\n",
            "Sunday       6421.24\n",
            "Thursday     7086.10\n",
            "Tuesday      7627.62\n",
            "Wednesday    6555.68\n",
            "Name: money, dtype: float64\n",
            "วันที่มียอดขายสูงสุดคือ: Tuesday ด้วยยอดขาย: 7627.62\n"
          ]
        }
      ],
      "source": [
        "# คำนวณยอดขาย (ใช้เงินหรือจำนวน) ตามวันในสัปดาห์\n",
        "sales_by_day = coff2.groupby('day_of_week')['money'].sum()\n",
        "print(sales_by_day)\n",
        "# หาวันที่มียอดขายสูงสุด\n",
        "max_sales_day = sales_by_day.idxmax()\n",
        "max_sales_value = sales_by_day.max()\n",
        "\n",
        "print(f'วันที่มียอดขายสูงสุดคือ: {max_sales_day} ด้วยยอดขาย: {max_sales_value}')\n"
      ]
    }
  ],
  "metadata": {
    "colab": {
      "provenance": []
    },
    "kernelspec": {
      "display_name": "Python 3",
      "language": "python",
      "name": "python3"
    },
    "language_info": {
      "codemirror_mode": {
        "name": "ipython",
        "version": 3
      },
      "file_extension": ".py",
      "mimetype": "text/x-python",
      "name": "python",
      "nbconvert_exporter": "python",
      "pygments_lexer": "ipython3",
      "version": "3.10.12"
    }
  },
  "nbformat": 4,
  "nbformat_minor": 0
}
