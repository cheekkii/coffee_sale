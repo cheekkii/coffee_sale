{
 "cells": [
  {
   "cell_type": "markdown",
   "metadata": {},
   "source": [
    "import pandas เพื่อวิเคราะห์ข้อมูลสถิติ"
   ]
  },
  {
   "cell_type": "code",
   "execution_count": 647,
   "metadata": {},
   "outputs": [],
   "source": [
    "import pandas as pd\n",
    "import matplotlib.pyplot as plt"
   ]
  },
  {
   "cell_type": "code",
   "execution_count": 648,
   "metadata": {},
   "outputs": [],
   "source": [
    "#copy path ของไฟล์data index.csv แล้วเอามาวาง\n",
    "coff = pd.read_csv(\"/home/gamgamgam/Documents/Term1SecondYear/204203/coffee_sale/data/index.csv\")"
   ]
  },
  {
   "cell_type": "markdown",
   "metadata": {},
   "source": [
    "ข้อมูลสรุปเชิงสถิติและการกระจายตัวของข้อมูล\n",
    "1.ยอดขายในแต่ละเดือนที่ขายกาแฟได้\n",
    "2.ในแต่ละเดือนกาแฟในแต่ละเดื่อน\n",
    "3.ในแต่ละเดือนผู้คนส่วนใหญ่ใช้อะไรในการจ่ายค่ากาแฟ\n",
    "3.ช่วงเวลาที่ขายกาแฟได้มากที่สุดในแต่ละเดือน\n",
    "4.หายอดขายกาแฟอะไรมากที่สุดในแต่ละเดือน\n",
    "5.จำนวนลูกค้าในแต่ละวัน"
   ]
  },
  {
   "cell_type": "code",
   "execution_count": 649,
   "metadata": {},
   "outputs": [
    {
     "data": {
      "text/html": [
       "<div>\n",
       "<style scoped>\n",
       "    .dataframe tbody tr th:only-of-type {\n",
       "        vertical-align: middle;\n",
       "    }\n",
       "\n",
       "    .dataframe tbody tr th {\n",
       "        vertical-align: top;\n",
       "    }\n",
       "\n",
       "    .dataframe thead th {\n",
       "        text-align: right;\n",
       "    }\n",
       "</style>\n",
       "<table border=\"1\" class=\"dataframe\">\n",
       "  <thead>\n",
       "    <tr style=\"text-align: right;\">\n",
       "      <th></th>\n",
       "      <th>date</th>\n",
       "      <th>datetime</th>\n",
       "      <th>cash_type</th>\n",
       "      <th>card</th>\n",
       "      <th>money</th>\n",
       "      <th>coffee_name</th>\n",
       "    </tr>\n",
       "  </thead>\n",
       "  <tbody>\n",
       "    <tr>\n",
       "      <th>0</th>\n",
       "      <td>2024-03-01</td>\n",
       "      <td>2024-03-01 10:15:50.520</td>\n",
       "      <td>card</td>\n",
       "      <td>ANON-0000-0000-0001</td>\n",
       "      <td>38.7</td>\n",
       "      <td>Latte</td>\n",
       "    </tr>\n",
       "    <tr>\n",
       "      <th>1</th>\n",
       "      <td>2024-03-01</td>\n",
       "      <td>2024-03-01 12:19:22.539</td>\n",
       "      <td>card</td>\n",
       "      <td>ANON-0000-0000-0002</td>\n",
       "      <td>38.7</td>\n",
       "      <td>Hot Chocolate</td>\n",
       "    </tr>\n",
       "    <tr>\n",
       "      <th>2</th>\n",
       "      <td>2024-03-01</td>\n",
       "      <td>2024-03-01 12:20:18.089</td>\n",
       "      <td>card</td>\n",
       "      <td>ANON-0000-0000-0002</td>\n",
       "      <td>38.7</td>\n",
       "      <td>Hot Chocolate</td>\n",
       "    </tr>\n",
       "    <tr>\n",
       "      <th>3</th>\n",
       "      <td>2024-03-01</td>\n",
       "      <td>2024-03-01 13:46:33.006</td>\n",
       "      <td>card</td>\n",
       "      <td>ANON-0000-0000-0003</td>\n",
       "      <td>28.9</td>\n",
       "      <td>Americano</td>\n",
       "    </tr>\n",
       "    <tr>\n",
       "      <th>4</th>\n",
       "      <td>2024-03-01</td>\n",
       "      <td>2024-03-01 13:48:14.626</td>\n",
       "      <td>card</td>\n",
       "      <td>ANON-0000-0000-0004</td>\n",
       "      <td>38.7</td>\n",
       "      <td>Latte</td>\n",
       "    </tr>\n",
       "    <tr>\n",
       "      <th>5</th>\n",
       "      <td>2024-03-01</td>\n",
       "      <td>2024-03-01 15:39:47.726</td>\n",
       "      <td>card</td>\n",
       "      <td>ANON-0000-0000-0005</td>\n",
       "      <td>33.8</td>\n",
       "      <td>Americano with Milk</td>\n",
       "    </tr>\n",
       "    <tr>\n",
       "      <th>6</th>\n",
       "      <td>2024-03-01</td>\n",
       "      <td>2024-03-01 16:19:02.756</td>\n",
       "      <td>card</td>\n",
       "      <td>ANON-0000-0000-0006</td>\n",
       "      <td>38.7</td>\n",
       "      <td>Hot Chocolate</td>\n",
       "    </tr>\n",
       "    <tr>\n",
       "      <th>7</th>\n",
       "      <td>2024-03-01</td>\n",
       "      <td>2024-03-01 18:39:03.580</td>\n",
       "      <td>card</td>\n",
       "      <td>ANON-0000-0000-0007</td>\n",
       "      <td>33.8</td>\n",
       "      <td>Americano with Milk</td>\n",
       "    </tr>\n",
       "    <tr>\n",
       "      <th>8</th>\n",
       "      <td>2024-03-01</td>\n",
       "      <td>2024-03-01 19:22:01.762</td>\n",
       "      <td>card</td>\n",
       "      <td>ANON-0000-0000-0008</td>\n",
       "      <td>38.7</td>\n",
       "      <td>Cocoa</td>\n",
       "    </tr>\n",
       "    <tr>\n",
       "      <th>9</th>\n",
       "      <td>2024-03-01</td>\n",
       "      <td>2024-03-01 19:23:15.887</td>\n",
       "      <td>card</td>\n",
       "      <td>ANON-0000-0000-0008</td>\n",
       "      <td>33.8</td>\n",
       "      <td>Americano with Milk</td>\n",
       "    </tr>\n",
       "  </tbody>\n",
       "</table>\n",
       "</div>"
      ],
      "text/plain": [
       "         date                 datetime cash_type                 card  money  \\\n",
       "0  2024-03-01  2024-03-01 10:15:50.520      card  ANON-0000-0000-0001   38.7   \n",
       "1  2024-03-01  2024-03-01 12:19:22.539      card  ANON-0000-0000-0002   38.7   \n",
       "2  2024-03-01  2024-03-01 12:20:18.089      card  ANON-0000-0000-0002   38.7   \n",
       "3  2024-03-01  2024-03-01 13:46:33.006      card  ANON-0000-0000-0003   28.9   \n",
       "4  2024-03-01  2024-03-01 13:48:14.626      card  ANON-0000-0000-0004   38.7   \n",
       "5  2024-03-01  2024-03-01 15:39:47.726      card  ANON-0000-0000-0005   33.8   \n",
       "6  2024-03-01  2024-03-01 16:19:02.756      card  ANON-0000-0000-0006   38.7   \n",
       "7  2024-03-01  2024-03-01 18:39:03.580      card  ANON-0000-0000-0007   33.8   \n",
       "8  2024-03-01  2024-03-01 19:22:01.762      card  ANON-0000-0000-0008   38.7   \n",
       "9  2024-03-01  2024-03-01 19:23:15.887      card  ANON-0000-0000-0008   33.8   \n",
       "\n",
       "           coffee_name  \n",
       "0                Latte  \n",
       "1        Hot Chocolate  \n",
       "2        Hot Chocolate  \n",
       "3            Americano  \n",
       "4                Latte  \n",
       "5  Americano with Milk  \n",
       "6        Hot Chocolate  \n",
       "7  Americano with Milk  \n",
       "8                Cocoa  \n",
       "9  Americano with Milk  "
      ]
     },
     "execution_count": 649,
     "metadata": {},
     "output_type": "execute_result"
    }
   ],
   "source": [
    "coff.head(10)"
   ]
  },
  {
   "cell_type": "code",
   "execution_count": 650,
   "metadata": {},
   "outputs": [
    {
     "name": "stdout",
     "output_type": "stream",
     "text": [
      "<class 'pandas.core.frame.DataFrame'>\n",
      "RangeIndex: 1464 entries, 0 to 1463\n",
      "Data columns (total 6 columns):\n",
      " #   Column       Non-Null Count  Dtype  \n",
      "---  ------       --------------  -----  \n",
      " 0   date         1464 non-null   object \n",
      " 1   datetime     1464 non-null   object \n",
      " 2   cash_type    1464 non-null   object \n",
      " 3   card         1375 non-null   object \n",
      " 4   money        1464 non-null   float64\n",
      " 5   coffee_name  1464 non-null   object \n",
      "dtypes: float64(1), object(5)\n",
      "memory usage: 68.8+ KB\n"
     ]
    }
   ],
   "source": [
    "coff.info()"
   ]
  },
  {
   "cell_type": "markdown",
   "metadata": {},
   "source": [
    "เตรียมข้อมูล"
   ]
  },
  {
   "cell_type": "code",
   "execution_count": 651,
   "metadata": {},
   "outputs": [
    {
     "data": {
      "text/html": [
       "<div>\n",
       "<style scoped>\n",
       "    .dataframe tbody tr th:only-of-type {\n",
       "        vertical-align: middle;\n",
       "    }\n",
       "\n",
       "    .dataframe tbody tr th {\n",
       "        vertical-align: top;\n",
       "    }\n",
       "\n",
       "    .dataframe thead th {\n",
       "        text-align: right;\n",
       "    }\n",
       "</style>\n",
       "<table border=\"1\" class=\"dataframe\">\n",
       "  <thead>\n",
       "    <tr style=\"text-align: right;\">\n",
       "      <th></th>\n",
       "      <th>date</th>\n",
       "      <th>datetime</th>\n",
       "      <th>cash_type</th>\n",
       "      <th>card</th>\n",
       "      <th>money</th>\n",
       "      <th>coffee_name</th>\n",
       "      <th>month</th>\n",
       "      <th>day</th>\n",
       "      <th>hour</th>\n",
       "      <th>money_THB</th>\n",
       "      <th>time_period</th>\n",
       "    </tr>\n",
       "  </thead>\n",
       "  <tbody>\n",
       "    <tr>\n",
       "      <th>0</th>\n",
       "      <td>2024-03-01</td>\n",
       "      <td>2024-03-01 10:15:50.520</td>\n",
       "      <td>card</td>\n",
       "      <td>ANON-0000-0000-0001</td>\n",
       "      <td>38.70</td>\n",
       "      <td>Latte</td>\n",
       "      <td>03</td>\n",
       "      <td>01</td>\n",
       "      <td>10</td>\n",
       "      <td>30.5730</td>\n",
       "      <td>Morning</td>\n",
       "    </tr>\n",
       "    <tr>\n",
       "      <th>1</th>\n",
       "      <td>2024-03-01</td>\n",
       "      <td>2024-03-01 12:19:22.539</td>\n",
       "      <td>card</td>\n",
       "      <td>ANON-0000-0000-0002</td>\n",
       "      <td>38.70</td>\n",
       "      <td>Hot Chocolate</td>\n",
       "      <td>03</td>\n",
       "      <td>01</td>\n",
       "      <td>12</td>\n",
       "      <td>30.5730</td>\n",
       "      <td>Afternoon</td>\n",
       "    </tr>\n",
       "    <tr>\n",
       "      <th>2</th>\n",
       "      <td>2024-03-01</td>\n",
       "      <td>2024-03-01 12:20:18.089</td>\n",
       "      <td>card</td>\n",
       "      <td>ANON-0000-0000-0002</td>\n",
       "      <td>38.70</td>\n",
       "      <td>Hot Chocolate</td>\n",
       "      <td>03</td>\n",
       "      <td>01</td>\n",
       "      <td>12</td>\n",
       "      <td>30.5730</td>\n",
       "      <td>Afternoon</td>\n",
       "    </tr>\n",
       "    <tr>\n",
       "      <th>3</th>\n",
       "      <td>2024-03-01</td>\n",
       "      <td>2024-03-01 13:46:33.006</td>\n",
       "      <td>card</td>\n",
       "      <td>ANON-0000-0000-0003</td>\n",
       "      <td>28.90</td>\n",
       "      <td>Americano</td>\n",
       "      <td>03</td>\n",
       "      <td>01</td>\n",
       "      <td>13</td>\n",
       "      <td>22.8310</td>\n",
       "      <td>Afternoon</td>\n",
       "    </tr>\n",
       "    <tr>\n",
       "      <th>4</th>\n",
       "      <td>2024-03-01</td>\n",
       "      <td>2024-03-01 13:48:14.626</td>\n",
       "      <td>card</td>\n",
       "      <td>ANON-0000-0000-0004</td>\n",
       "      <td>38.70</td>\n",
       "      <td>Latte</td>\n",
       "      <td>03</td>\n",
       "      <td>01</td>\n",
       "      <td>13</td>\n",
       "      <td>30.5730</td>\n",
       "      <td>Afternoon</td>\n",
       "    </tr>\n",
       "    <tr>\n",
       "      <th>...</th>\n",
       "      <td>...</td>\n",
       "      <td>...</td>\n",
       "      <td>...</td>\n",
       "      <td>...</td>\n",
       "      <td>...</td>\n",
       "      <td>...</td>\n",
       "      <td>...</td>\n",
       "      <td>...</td>\n",
       "      <td>...</td>\n",
       "      <td>...</td>\n",
       "      <td>...</td>\n",
       "    </tr>\n",
       "    <tr>\n",
       "      <th>1459</th>\n",
       "      <td>2024-09-05</td>\n",
       "      <td>2024-09-05 20:30:14.964</td>\n",
       "      <td>card</td>\n",
       "      <td>ANON-0000-0000-0587</td>\n",
       "      <td>32.82</td>\n",
       "      <td>Cappuccino</td>\n",
       "      <td>09</td>\n",
       "      <td>05</td>\n",
       "      <td>20</td>\n",
       "      <td>25.9278</td>\n",
       "      <td>Evening</td>\n",
       "    </tr>\n",
       "    <tr>\n",
       "      <th>1460</th>\n",
       "      <td>2024-09-05</td>\n",
       "      <td>2024-09-05 20:54:24.429</td>\n",
       "      <td>card</td>\n",
       "      <td>ANON-0000-0000-0588</td>\n",
       "      <td>23.02</td>\n",
       "      <td>Americano</td>\n",
       "      <td>09</td>\n",
       "      <td>05</td>\n",
       "      <td>20</td>\n",
       "      <td>18.1858</td>\n",
       "      <td>Evening</td>\n",
       "    </tr>\n",
       "    <tr>\n",
       "      <th>1461</th>\n",
       "      <td>2024-09-05</td>\n",
       "      <td>2024-09-05 20:55:31.429</td>\n",
       "      <td>card</td>\n",
       "      <td>ANON-0000-0000-0588</td>\n",
       "      <td>32.82</td>\n",
       "      <td>Cappuccino</td>\n",
       "      <td>09</td>\n",
       "      <td>05</td>\n",
       "      <td>20</td>\n",
       "      <td>25.9278</td>\n",
       "      <td>Evening</td>\n",
       "    </tr>\n",
       "    <tr>\n",
       "      <th>1462</th>\n",
       "      <td>2024-09-05</td>\n",
       "      <td>2024-09-05 21:26:28.836</td>\n",
       "      <td>card</td>\n",
       "      <td>ANON-0000-0000-0040</td>\n",
       "      <td>27.92</td>\n",
       "      <td>Americano with Milk</td>\n",
       "      <td>09</td>\n",
       "      <td>05</td>\n",
       "      <td>21</td>\n",
       "      <td>22.0568</td>\n",
       "      <td>Evening</td>\n",
       "    </tr>\n",
       "    <tr>\n",
       "      <th>1463</th>\n",
       "      <td>2024-09-05</td>\n",
       "      <td>2024-09-05 21:27:29.969</td>\n",
       "      <td>card</td>\n",
       "      <td>ANON-0000-0000-0040</td>\n",
       "      <td>27.92</td>\n",
       "      <td>Americano with Milk</td>\n",
       "      <td>09</td>\n",
       "      <td>05</td>\n",
       "      <td>21</td>\n",
       "      <td>22.0568</td>\n",
       "      <td>Evening</td>\n",
       "    </tr>\n",
       "  </tbody>\n",
       "</table>\n",
       "<p>1464 rows × 11 columns</p>\n",
       "</div>"
      ],
      "text/plain": [
       "            date                 datetime cash_type                 card  \\\n",
       "0     2024-03-01  2024-03-01 10:15:50.520      card  ANON-0000-0000-0001   \n",
       "1     2024-03-01  2024-03-01 12:19:22.539      card  ANON-0000-0000-0002   \n",
       "2     2024-03-01  2024-03-01 12:20:18.089      card  ANON-0000-0000-0002   \n",
       "3     2024-03-01  2024-03-01 13:46:33.006      card  ANON-0000-0000-0003   \n",
       "4     2024-03-01  2024-03-01 13:48:14.626      card  ANON-0000-0000-0004   \n",
       "...          ...                      ...       ...                  ...   \n",
       "1459  2024-09-05  2024-09-05 20:30:14.964      card  ANON-0000-0000-0587   \n",
       "1460  2024-09-05  2024-09-05 20:54:24.429      card  ANON-0000-0000-0588   \n",
       "1461  2024-09-05  2024-09-05 20:55:31.429      card  ANON-0000-0000-0588   \n",
       "1462  2024-09-05  2024-09-05 21:26:28.836      card  ANON-0000-0000-0040   \n",
       "1463  2024-09-05  2024-09-05 21:27:29.969      card  ANON-0000-0000-0040   \n",
       "\n",
       "      money          coffee_name month day hour  money_THB time_period  \n",
       "0     38.70                Latte    03  01   10    30.5730     Morning  \n",
       "1     38.70        Hot Chocolate    03  01   12    30.5730   Afternoon  \n",
       "2     38.70        Hot Chocolate    03  01   12    30.5730   Afternoon  \n",
       "3     28.90            Americano    03  01   13    22.8310   Afternoon  \n",
       "4     38.70                Latte    03  01   13    30.5730   Afternoon  \n",
       "...     ...                  ...   ...  ..  ...        ...         ...  \n",
       "1459  32.82           Cappuccino    09  05   20    25.9278     Evening  \n",
       "1460  23.02            Americano    09  05   20    18.1858     Evening  \n",
       "1461  32.82           Cappuccino    09  05   20    25.9278     Evening  \n",
       "1462  27.92  Americano with Milk    09  05   21    22.0568     Evening  \n",
       "1463  27.92  Americano with Milk    09  05   21    22.0568     Evening  \n",
       "\n",
       "[1464 rows x 11 columns]"
      ]
     },
     "execution_count": 651,
     "metadata": {},
     "output_type": "execute_result"
    }
   ],
   "source": [
    "coff['month'] = coff['date'].apply(lambda x : x.split('-')[1])\n",
    "coff['day'] = coff['date'].apply(lambda x : x.split('-')[2])\n",
    "coff['hour'] = coff['datetime'].apply(lambda x : x.split(' ')[1][:2])\n",
    "#ค่าเงินจากยูเครนฮรีฟเนีย (UAH) 25 ก.ย. 17:02 UTC 1uah = 0.79\n",
    "coff['money_THB'] = coff['money']*0.79\n",
    "\n",
    "def get_time_period(hour):\n",
    "    if '07' <= hour < '12':\n",
    "        return 'Morning'\n",
    "    elif '12' <= hour < '18':\n",
    "        return 'Afternoon'\n",
    "    else:\n",
    "        return 'Evening'\n",
    "\n",
    "coff['time_period'] = coff['hour'].apply(get_time_period)\n",
    "coff"
   ]
  },
  {
   "cell_type": "code",
   "execution_count": 652,
   "metadata": {},
   "outputs": [
    {
     "data": {
      "text/html": [
       "<div>\n",
       "<style scoped>\n",
       "    .dataframe tbody tr th:only-of-type {\n",
       "        vertical-align: middle;\n",
       "    }\n",
       "\n",
       "    .dataframe tbody tr th {\n",
       "        vertical-align: top;\n",
       "    }\n",
       "\n",
       "    .dataframe thead th {\n",
       "        text-align: right;\n",
       "    }\n",
       "</style>\n",
       "<table border=\"1\" class=\"dataframe\">\n",
       "  <thead>\n",
       "    <tr style=\"text-align: right;\">\n",
       "      <th></th>\n",
       "      <th>money</th>\n",
       "      <th>money_THB</th>\n",
       "    </tr>\n",
       "  </thead>\n",
       "  <tbody>\n",
       "    <tr>\n",
       "      <th>count</th>\n",
       "      <td>1464.000000</td>\n",
       "      <td>1464.000000</td>\n",
       "    </tr>\n",
       "    <tr>\n",
       "      <th>mean</th>\n",
       "      <td>32.081967</td>\n",
       "      <td>25.344754</td>\n",
       "    </tr>\n",
       "    <tr>\n",
       "      <th>std</th>\n",
       "      <td>5.888605</td>\n",
       "      <td>4.651998</td>\n",
       "    </tr>\n",
       "    <tr>\n",
       "      <th>min</th>\n",
       "      <td>18.120000</td>\n",
       "      <td>14.314800</td>\n",
       "    </tr>\n",
       "    <tr>\n",
       "      <th>25%</th>\n",
       "      <td>27.920000</td>\n",
       "      <td>22.056800</td>\n",
       "    </tr>\n",
       "    <tr>\n",
       "      <th>50%</th>\n",
       "      <td>32.820000</td>\n",
       "      <td>25.927800</td>\n",
       "    </tr>\n",
       "    <tr>\n",
       "      <th>75%</th>\n",
       "      <td>37.720000</td>\n",
       "      <td>29.798800</td>\n",
       "    </tr>\n",
       "    <tr>\n",
       "      <th>max</th>\n",
       "      <td>128.900000</td>\n",
       "      <td>101.831000</td>\n",
       "    </tr>\n",
       "  </tbody>\n",
       "</table>\n",
       "</div>"
      ],
      "text/plain": [
       "             money    money_THB\n",
       "count  1464.000000  1464.000000\n",
       "mean     32.081967    25.344754\n",
       "std       5.888605     4.651998\n",
       "min      18.120000    14.314800\n",
       "25%      27.920000    22.056800\n",
       "50%      32.820000    25.927800\n",
       "75%      37.720000    29.798800\n",
       "max     128.900000   101.831000"
      ]
     },
     "execution_count": 652,
     "metadata": {},
     "output_type": "execute_result"
    }
   ],
   "source": [
    "coff.describe()"
   ]
  },
  {
   "cell_type": "markdown",
   "metadata": {},
   "source": [
    "หาค่ากลางหรือค่ามัธยฐาน ค่าความแปรปรวน และค่าฐานนิยม"
   ]
  },
  {
   "cell_type": "code",
   "execution_count": 653,
   "metadata": {},
   "outputs": [
    {
     "name": "stdout",
     "output_type": "stream",
     "text": [
      "ฐานนิยม: 25.9278\n",
      "ค่าความแปรปรวน: 21.64108510285401\n",
      "ค่ามัธยฐาน: 25.9278\n"
     ]
    }
   ],
   "source": [
    "mode = coff['money_THB'].mode().iloc[0]\n",
    "var = coff['money_THB'].var()\n",
    "med = coff['money_THB'].median()\n",
    "\n",
    "print(f\"ฐานนิยม: {mode}\")\n",
    "print(f\"ค่าความแปรปรวน: {var}\")\n",
    "print(f\"ค่ามัธยฐาน: {med}\")"
   ]
  },
  {
   "cell_type": "code",
   "execution_count": 654,
   "metadata": {},
   "outputs": [
    {
     "name": "stdout",
     "output_type": "stream",
     "text": [
      "จำนวนแถวของข้อมูล : 1464\n",
      "จำนวนแถวของข้อมูล : 11\n"
     ]
    }
   ],
   "source": [
    "print(f\"จำนวนแถวของข้อมูล : {coff.shape[0]}\")\n",
    "print(f\"จำนวนแถวของข้อมูล : {coff.shape[1]}\")"
   ]
  },
  {
   "cell_type": "code",
   "execution_count": 655,
   "metadata": {},
   "outputs": [
    {
     "name": "stdout",
     "output_type": "stream",
     "text": [
      "วันที่ : 2024-03-03\n",
      "เวลา : 7:08:45.895\n",
      "ประเภทในการจ่ายเงิน : card\n",
      "เลขบัตรเครดิต : ANON-0000-0000-0019\n",
      "จำนวนเงิน : 101.831\n",
      "กาแฟ : Cortado\n"
     ]
    }
   ],
   "source": [
    "result = coff[coff['money_THB'] == coff['money_THB'].max()].iloc[0]\n",
    "print(f\"วันที่ : {result['date']}\")\n",
    "print(f\"เวลา : {result['datetime'][12:]}\")\n",
    "print(f\"ประเภทในการจ่ายเงิน : {result['cash_type']}\")\n",
    "print(f\"เลขบัตรเครดิต : {result['card']}\")\n",
    "print(f\"จำนวนเงิน : {result['money_THB']}\")\n",
    "print(f\"กาแฟ : {result['coffee_name']}\")\n"
   ]
  },
  {
   "cell_type": "code",
   "execution_count": 656,
   "metadata": {},
   "outputs": [
    {
     "name": "stdout",
     "output_type": "stream",
     "text": [
      "Q1 : 22.056800000000003\n",
      "Q3 : 29.7988\n",
      "IQR : 7.741999999999997\n",
      "ค่าเฉลี่ยของข้อมูล : 25.344754098360657\n",
      "lower_bound : 10.443800000000007\n",
      "upper_bound : 41.4118\n"
     ]
    }
   ],
   "source": [
    "Q1 = coff['money_THB'].quantile(0.25)\n",
    "Q3 = coff['money_THB'].quantile(0.75)\n",
    "#หา Q1 Q3 ด้วย เปอร์เซ็นพาย\n",
    "IQR = Q3 - Q1\n",
    "\n",
    "print(f\"Q1 : {Q1}\")\n",
    "print(f\"Q3 : {Q3}\")\n",
    "print(f\"IQR : {IQR}\")\n",
    "print(f\"ค่าเฉลี่ยของข้อมูล : {coff['money_THB'].mean()}\")\n",
    "\n",
    "# Define outlier range\n",
    "lower_bound = Q1 - 1.5 * IQR # ถ้าน้อยกว่าค่านี้จะเป็นค่าผิดปกติ\n",
    "upper_bound = Q3 + 1.5 * IQR # ถ้ามากกว่าจะเป็นค่าผิดปกติ\n",
    "\n",
    "print(f\"lower_bound : {lower_bound}\")\n",
    "print(f\"upper_bound : {upper_bound}\")\n",
    "coff2 = coff[(coff['money_THB'] >= lower_bound) & (coff['money_THB'] <= upper_bound)] # ลบ data ที่ผิดปกติออกทั้งแถว!"
   ]
  },
  {
   "cell_type": "markdown",
   "metadata": {},
   "source": [
    "จากการตรวจสอบการกระจายของข้อมูล พบว่ามีข้อมูลที่ผิดปกติอยู่หนึ่งค่าที่ไม่สามารถอธิบายได้ว่าเกิดจากอะไร เราได้ทำการเช็ควันที่ขายกาแฟวันนั้นแล้วก็มีค่ากาแฟชนิดนี้ซึ่งไม่เกิน30สิบ แล้วก็ดูค่าเฉลี่ยของกาแฟชนิดก็ไม่เกิน 30 เช่นกัน จากนั้นเราก็ได้ตรวจสอบการใข้บัตรของลูกค้าคนนี้ก็พบว่าการที่ลูกค่ามาซื้อของวันอื่นก็ไม่ได้มีค่าที่ผิดปกติอะไร เราจึงทำการดรอปข้อมูลนี้ทิ้งไป"
   ]
  },
  {
   "cell_type": "code",
   "execution_count": 657,
   "metadata": {},
   "outputs": [
    {
     "name": "stdout",
     "output_type": "stream",
     "text": [
      "          date                 datetime cash_type                 card  money  \\\n",
      "24  2024-03-03  2024-03-03 17:08:45.895      card  ANON-0000-0000-0019  128.9   \n",
      "\n",
      "   coffee_name month day hour  money_THB time_period  \n",
      "24     Cortado    03  03   17    101.831   Afternoon  \n"
     ]
    }
   ],
   "source": [
    "ans1 = coff[coff['coffee_name'] == 'Cortado']\n",
    "ans2 = coff[(coff['money_THB'] <= lower_bound) | (coff['money_THB'] >= upper_bound)]\n",
    "ans3 = coff[coff['date'] == '2024-03-03']\n",
    "ans4 = coff[coff['card'] == 'ANON-0000-0000-0019']\n",
    "print(ans2)"
   ]
  },
  {
   "cell_type": "code",
   "execution_count": 658,
   "metadata": {},
   "outputs": [
    {
     "name": "stdout",
     "output_type": "stream",
     "text": [
      "จำนวนแถวของข้อมูล : 1463\n",
      "จำนวนแถวของข้อมูล : 11\n"
     ]
    }
   ],
   "source": [
    "print(f\"จำนวนแถวของข้อมูล : {coff2.shape[0]}\")\n",
    "print(f\"จำนวนแถวของข้อมูล : {coff2.shape[1]}\")"
   ]
  },
  {
   "cell_type": "code",
   "execution_count": 659,
   "metadata": {},
   "outputs": [
    {
     "data": {
      "text/html": [
       "<div>\n",
       "<style scoped>\n",
       "    .dataframe tbody tr th:only-of-type {\n",
       "        vertical-align: middle;\n",
       "    }\n",
       "\n",
       "    .dataframe tbody tr th {\n",
       "        vertical-align: top;\n",
       "    }\n",
       "\n",
       "    .dataframe thead th {\n",
       "        text-align: right;\n",
       "    }\n",
       "</style>\n",
       "<table border=\"1\" class=\"dataframe\">\n",
       "  <thead>\n",
       "    <tr style=\"text-align: right;\">\n",
       "      <th></th>\n",
       "      <th>date</th>\n",
       "      <th>datetime</th>\n",
       "      <th>cash_type</th>\n",
       "      <th>card</th>\n",
       "      <th>money</th>\n",
       "      <th>coffee_name</th>\n",
       "      <th>month</th>\n",
       "      <th>day</th>\n",
       "      <th>hour</th>\n",
       "      <th>money_THB</th>\n",
       "      <th>time_period</th>\n",
       "    </tr>\n",
       "  </thead>\n",
       "  <tbody>\n",
       "    <tr>\n",
       "      <th>0</th>\n",
       "      <td>2024-03-01</td>\n",
       "      <td>2024-03-01 10:15:50.520</td>\n",
       "      <td>card</td>\n",
       "      <td>ANON-0000-0000-0001</td>\n",
       "      <td>38.7</td>\n",
       "      <td>Latte</td>\n",
       "      <td>03</td>\n",
       "      <td>01</td>\n",
       "      <td>10</td>\n",
       "      <td>30.573</td>\n",
       "      <td>Morning</td>\n",
       "    </tr>\n",
       "    <tr>\n",
       "      <th>1</th>\n",
       "      <td>2024-03-01</td>\n",
       "      <td>2024-03-01 12:19:22.539</td>\n",
       "      <td>card</td>\n",
       "      <td>ANON-0000-0000-0002</td>\n",
       "      <td>38.7</td>\n",
       "      <td>Hot Chocolate</td>\n",
       "      <td>03</td>\n",
       "      <td>01</td>\n",
       "      <td>12</td>\n",
       "      <td>30.573</td>\n",
       "      <td>Afternoon</td>\n",
       "    </tr>\n",
       "    <tr>\n",
       "      <th>2</th>\n",
       "      <td>2024-03-01</td>\n",
       "      <td>2024-03-01 12:20:18.089</td>\n",
       "      <td>card</td>\n",
       "      <td>ANON-0000-0000-0002</td>\n",
       "      <td>38.7</td>\n",
       "      <td>Hot Chocolate</td>\n",
       "      <td>03</td>\n",
       "      <td>01</td>\n",
       "      <td>12</td>\n",
       "      <td>30.573</td>\n",
       "      <td>Afternoon</td>\n",
       "    </tr>\n",
       "    <tr>\n",
       "      <th>3</th>\n",
       "      <td>2024-03-01</td>\n",
       "      <td>2024-03-01 13:46:33.006</td>\n",
       "      <td>card</td>\n",
       "      <td>ANON-0000-0000-0003</td>\n",
       "      <td>28.9</td>\n",
       "      <td>Americano</td>\n",
       "      <td>03</td>\n",
       "      <td>01</td>\n",
       "      <td>13</td>\n",
       "      <td>22.831</td>\n",
       "      <td>Afternoon</td>\n",
       "    </tr>\n",
       "    <tr>\n",
       "      <th>4</th>\n",
       "      <td>2024-03-01</td>\n",
       "      <td>2024-03-01 13:48:14.626</td>\n",
       "      <td>card</td>\n",
       "      <td>ANON-0000-0000-0004</td>\n",
       "      <td>38.7</td>\n",
       "      <td>Latte</td>\n",
       "      <td>03</td>\n",
       "      <td>01</td>\n",
       "      <td>13</td>\n",
       "      <td>30.573</td>\n",
       "      <td>Afternoon</td>\n",
       "    </tr>\n",
       "  </tbody>\n",
       "</table>\n",
       "</div>"
      ],
      "text/plain": [
       "         date                 datetime cash_type                 card  money  \\\n",
       "0  2024-03-01  2024-03-01 10:15:50.520      card  ANON-0000-0000-0001   38.7   \n",
       "1  2024-03-01  2024-03-01 12:19:22.539      card  ANON-0000-0000-0002   38.7   \n",
       "2  2024-03-01  2024-03-01 12:20:18.089      card  ANON-0000-0000-0002   38.7   \n",
       "3  2024-03-01  2024-03-01 13:46:33.006      card  ANON-0000-0000-0003   28.9   \n",
       "4  2024-03-01  2024-03-01 13:48:14.626      card  ANON-0000-0000-0004   38.7   \n",
       "\n",
       "     coffee_name month day hour  money_THB time_period  \n",
       "0          Latte    03  01   10     30.573     Morning  \n",
       "1  Hot Chocolate    03  01   12     30.573   Afternoon  \n",
       "2  Hot Chocolate    03  01   12     30.573   Afternoon  \n",
       "3      Americano    03  01   13     22.831   Afternoon  \n",
       "4          Latte    03  01   13     30.573   Afternoon  "
      ]
     },
     "execution_count": 659,
     "metadata": {},
     "output_type": "execute_result"
    }
   ],
   "source": [
    "coff2.head()"
   ]
  },
  {
   "cell_type": "code",
   "execution_count": 660,
   "metadata": {},
   "outputs": [
    {
     "name": "stdout",
     "output_type": "stream",
     "text": [
      "<class 'pandas.core.frame.DataFrame'>\n",
      "Index: 1463 entries, 0 to 1463\n",
      "Data columns (total 11 columns):\n",
      " #   Column       Non-Null Count  Dtype  \n",
      "---  ------       --------------  -----  \n",
      " 0   date         1463 non-null   object \n",
      " 1   datetime     1463 non-null   object \n",
      " 2   cash_type    1463 non-null   object \n",
      " 3   card         1374 non-null   object \n",
      " 4   money        1463 non-null   float64\n",
      " 5   coffee_name  1463 non-null   object \n",
      " 6   month        1463 non-null   object \n",
      " 7   day          1463 non-null   object \n",
      " 8   hour         1463 non-null   object \n",
      " 9   money_THB    1463 non-null   float64\n",
      " 10  time_period  1463 non-null   object \n",
      "dtypes: float64(2), object(9)\n",
      "memory usage: 137.2+ KB\n"
     ]
    },
    {
     "data": {
      "text/html": [
       "<div>\n",
       "<style scoped>\n",
       "    .dataframe tbody tr th:only-of-type {\n",
       "        vertical-align: middle;\n",
       "    }\n",
       "\n",
       "    .dataframe tbody tr th {\n",
       "        vertical-align: top;\n",
       "    }\n",
       "\n",
       "    .dataframe thead th {\n",
       "        text-align: right;\n",
       "    }\n",
       "</style>\n",
       "<table border=\"1\" class=\"dataframe\">\n",
       "  <thead>\n",
       "    <tr style=\"text-align: right;\">\n",
       "      <th></th>\n",
       "      <th>money</th>\n",
       "      <th>money_THB</th>\n",
       "    </tr>\n",
       "  </thead>\n",
       "  <tbody>\n",
       "    <tr>\n",
       "      <th>count</th>\n",
       "      <td>1463.000000</td>\n",
       "      <td>1463.000000</td>\n",
       "    </tr>\n",
       "    <tr>\n",
       "      <th>mean</th>\n",
       "      <td>32.015789</td>\n",
       "      <td>25.292474</td>\n",
       "    </tr>\n",
       "    <tr>\n",
       "      <th>std</th>\n",
       "      <td>5.318216</td>\n",
       "      <td>4.201391</td>\n",
       "    </tr>\n",
       "    <tr>\n",
       "      <th>min</th>\n",
       "      <td>18.120000</td>\n",
       "      <td>14.314800</td>\n",
       "    </tr>\n",
       "    <tr>\n",
       "      <th>25%</th>\n",
       "      <td>27.920000</td>\n",
       "      <td>22.056800</td>\n",
       "    </tr>\n",
       "    <tr>\n",
       "      <th>50%</th>\n",
       "      <td>32.820000</td>\n",
       "      <td>25.927800</td>\n",
       "    </tr>\n",
       "    <tr>\n",
       "      <th>75%</th>\n",
       "      <td>37.720000</td>\n",
       "      <td>29.798800</td>\n",
       "    </tr>\n",
       "    <tr>\n",
       "      <th>max</th>\n",
       "      <td>40.000000</td>\n",
       "      <td>31.600000</td>\n",
       "    </tr>\n",
       "  </tbody>\n",
       "</table>\n",
       "</div>"
      ],
      "text/plain": [
       "             money    money_THB\n",
       "count  1463.000000  1463.000000\n",
       "mean     32.015789    25.292474\n",
       "std       5.318216     4.201391\n",
       "min      18.120000    14.314800\n",
       "25%      27.920000    22.056800\n",
       "50%      32.820000    25.927800\n",
       "75%      37.720000    29.798800\n",
       "max      40.000000    31.600000"
      ]
     },
     "execution_count": 660,
     "metadata": {},
     "output_type": "execute_result"
    }
   ],
   "source": [
    "coff2.info()\n",
    "coff2.describe()"
   ]
  },
  {
   "cell_type": "code",
   "execution_count": 661,
   "metadata": {},
   "outputs": [
    {
     "name": "stdout",
     "output_type": "stream",
     "text": [
      "ฐานนิยม: 25.9278\n",
      "ค่าความแปรปรวน: 17.651684651666788\n",
      "ค่ามัธยฐาน: 25.9278\n"
     ]
    }
   ],
   "source": [
    "mode = coff2['money_THB'].mode().iloc[0]\n",
    "var = coff2['money_THB'].var()\n",
    "med = coff2['money_THB'].median()\n",
    "\n",
    "print(f\"ฐานนิยม: {mode}\")\n",
    "print(f\"ค่าความแปรปรวน: {var}\")\n",
    "print(f\"ค่ามัธยฐาน: {med}\")"
   ]
  },
  {
   "cell_type": "markdown",
   "metadata": {},
   "source": [
    "จำนวนลูกค้าในแต่ละเดือน ตั้งแต่เดือน มีนาคม ถึง กันยายน"
   ]
  },
  {
   "cell_type": "code",
   "execution_count": 662,
   "metadata": {},
   "outputs": [
    {
     "name": "stdout",
     "output_type": "stream",
     "text": [
      "month\n",
      "08    272\n",
      "05    267\n",
      "07    237\n",
      "06    227\n",
      "03    205\n",
      "04    196\n",
      "09     59\n",
      "Name: count, dtype: int64\n"
     ]
    }
   ],
   "source": [
    "ans = coff2['month'].value_counts()\n",
    "print(ans)"
   ]
  },
  {
   "cell_type": "markdown",
   "metadata": {},
   "source": [
    "ยอดขายในแต่ละเดือนที่ขายกาแฟได้ ตั้งแต่เดือน มีนาคม ถึง กันยายน"
   ]
  },
  {
   "cell_type": "code",
   "execution_count": 663,
   "metadata": {},
   "outputs": [
    {
     "data": {
      "text/plain": [
       "month\n",
       "09    1378.7712\n",
       "04    5309.2424\n",
       "07    5463.5926\n",
       "03    5546.8270\n",
       "08    6014.9336\n",
       "06    6129.4204\n",
       "05    7160.1018\n",
       "Name: money_THB, dtype: float64"
      ]
     },
     "execution_count": 663,
     "metadata": {},
     "output_type": "execute_result"
    }
   ],
   "source": [
    "value = coff2.groupby(coff2['month'])['money_THB'].sum().sort_values()\n",
    "value\n"
   ]
  },
  {
   "cell_type": "markdown",
   "metadata": {},
   "source": [
    "จำนวนการขายกาแฟในแต่ละครั้ง"
   ]
  },
  {
   "cell_type": "code",
   "execution_count": 664,
   "metadata": {},
   "outputs": [
    {
     "name": "stdout",
     "output_type": "stream",
     "text": [
      "จำนวนกาแฟที่ขายไป\n",
      "coffee_name\n",
      "Cocoa                   51\n",
      "Espresso                63\n",
      "Hot Chocolate           80\n",
      "Cortado                140\n",
      "Americano              213\n",
      "Cappuccino             239\n",
      "Latte                  316\n",
      "Americano with Milk    361\n",
      "Name: money_THB, dtype: int64\n",
      "ยอดขายกาแฟ\n",
      "coffee_name\n",
      "Espresso               1069.8970\n",
      "Cocoa                  1438.6374\n",
      "Hot Chocolate          2350.5660\n",
      "Cortado                2909.5858\n",
      "Americano              4469.3618\n",
      "Cappuccino             6908.0760\n",
      "Americano with Milk    8846.8150\n",
      "Latte                  9009.9500\n",
      "Name: money_THB, dtype: float64\n"
     ]
    }
   ],
   "source": [
    "value1 = coff2.groupby(['coffee_name'])['money_THB'].count().sort_values()\n",
    "value2 = coff2.groupby(['coffee_name'])['money_THB'].sum().sort_values()\n",
    "print('จำนวนกาแฟที่ขายไป')\n",
    "print(value1)\n",
    "print('ยอดขายกาแฟ')\n",
    "print(value2)"
   ]
  },
  {
   "cell_type": "markdown",
   "metadata": {},
   "source": [
    "ในแต่ละเดือนกาแฟอะไรขายดีที่สุด"
   ]
  },
  {
   "cell_type": "code",
   "execution_count": 665,
   "metadata": {},
   "outputs": [
    {
     "data": {
      "text/plain": [
       "month  coffee_name        \n",
       "03     Americano               825.3920\n",
       "       Americano with Milk     911.6600\n",
       "       Cappuccino              616.5950\n",
       "       Cocoa                   183.4380\n",
       "       Cortado                 663.8370\n",
       "       Espresso                190.3900\n",
       "       Hot Chocolate           674.6600\n",
       "       Latte                  1480.8550\n",
       "04     Americano               791.5326\n",
       "       Americano with Milk    1112.1146\n",
       "       Cappuccino             1310.9576\n",
       "       Cocoa                   183.9278\n",
       "       Cortado                 433.2992\n",
       "       Espresso                135.0900\n",
       "       Hot Chocolate           399.7558\n",
       "       Latte                   942.5648\n",
       "05     Americano              1065.5520\n",
       "       Americano with Milk    1507.5412\n",
       "       Cappuccino             1641.9676\n",
       "       Cocoa                   269.2004\n",
       "       Cortado                 374.9656\n",
       "       Espresso                146.2606\n",
       "       Hot Chocolate           418.1944\n",
       "       Latte                  1736.4200\n",
       "06     Americano               308.7952\n",
       "       Americano with Milk    1791.8148\n",
       "       Cappuccino             1370.7448\n",
       "       Cocoa                   150.0052\n",
       "       Cortado                 419.0792\n",
       "       Espresso                181.8580\n",
       "       Hot Chocolate           417.1832\n",
       "       Latte                  1489.9400\n",
       "07     Americano               677.9148\n",
       "       Americano with Milk    1472.4020\n",
       "       Cappuccino              852.9156\n",
       "       Cocoa                   237.2212\n",
       "       Cortado                 254.6012\n",
       "       Espresso                215.8912\n",
       "       Hot Chocolate           285.2058\n",
       "       Latte                  1467.4408\n",
       "08     Americano               672.8746\n",
       "       Americano with Milk    1588.0896\n",
       "       Cappuccino              881.5452\n",
       "       Cocoa                   285.2058\n",
       "       Cortado                 727.4320\n",
       "       Espresso                200.4072\n",
       "       Hot Chocolate           155.5668\n",
       "       Latte                  1503.8124\n",
       "09     Americano               127.3006\n",
       "       Americano with Milk     463.1928\n",
       "       Cappuccino              233.3502\n",
       "       Cocoa                   129.6390\n",
       "       Cortado                  36.3716\n",
       "       Latte                   388.9170\n",
       "Name: money_THB, dtype: float64"
      ]
     },
     "execution_count": 665,
     "metadata": {},
     "output_type": "execute_result"
    }
   ],
   "source": [
    "value = coff2.groupby(['month','coffee_name'])['money_THB'].sum()\n",
    "value"
   ]
  },
  {
   "cell_type": "markdown",
   "metadata": {},
   "source": [
    "ในแต่ละเดือนผู้คนส่วนใหญ่ใช้อะไรในการจ่ายค่ากาแฟ"
   ]
  },
  {
   "cell_type": "code",
   "execution_count": 666,
   "metadata": {},
   "outputs": [
    {
     "data": {
      "text/plain": [
       "month  cash_type\n",
       "03     card         174\n",
       "       cash          31\n",
       "04     card         168\n",
       "       cash          28\n",
       "05     card         241\n",
       "       cash          26\n",
       "06     card         223\n",
       "       cash           4\n",
       "07     card         237\n",
       "08     card         272\n",
       "09     card          59\n",
       "Name: count, dtype: int64"
      ]
     },
     "execution_count": 666,
     "metadata": {},
     "output_type": "execute_result"
    }
   ],
   "source": [
    "value = coff2.groupby(coff2['month'])['cash_type'].value_counts()\n",
    "value"
   ]
  },
  {
   "cell_type": "markdown",
   "metadata": {},
   "source": [
    "ช่วงเวลาที่ขายกาแฟได้มากที่สุดในแต่ละเดือน\n",
    "เช้า (Morning): 07:00 - 12:00\n",
    "บ่าย (Afternoon): 12:00 - 18:00\n",
    "เย็น (Evening): 18:00 - 22:00"
   ]
  },
  {
   "cell_type": "code",
   "execution_count": 667,
   "metadata": {},
   "outputs": [
    {
     "name": "stdout",
     "output_type": "stream",
     "text": [
      "hour\n",
      "07     20\n",
      "08     83\n",
      "09     83\n",
      "10    159\n",
      "11    141\n",
      "12    114\n",
      "13     93\n",
      "14     90\n",
      "15     83\n",
      "16     91\n",
      "17     93\n",
      "18     90\n",
      "19    113\n",
      "20     74\n",
      "21     93\n",
      "22     43\n",
      "dtype: int64\n"
     ]
    }
   ],
   "source": [
    "value1 = coff2.groupby('hour').size()\n",
    "print(value1)"
   ]
  },
  {
   "cell_type": "code",
   "execution_count": 668,
   "metadata": {},
   "outputs": [
    {
     "name": "stdout",
     "output_type": "stream",
     "text": [
      "hour\n",
      "07     476.3226\n",
      "08    1908.1344\n",
      "09    1952.2006\n",
      "10    4135.6500\n",
      "11    3362.1610\n",
      "12    2828.1526\n",
      "13    2326.6290\n",
      "14    2271.8820\n",
      "15    2110.1848\n",
      "16    2303.8296\n",
      "17    2471.8468\n",
      "18    2351.7036\n",
      "19    3082.7064\n",
      "20    1933.0668\n",
      "21    2397.6658\n",
      "22    1090.7530\n",
      "Name: money_THB, dtype: float64\n"
     ]
    }
   ],
   "source": [
    "value2 = coff2.groupby('hour')['money_THB'].sum()\n",
    "print(value2)"
   ]
  },
  {
   "cell_type": "code",
   "execution_count": 669,
   "metadata": {},
   "outputs": [
    {
     "name": "stdout",
     "output_type": "stream",
     "text": [
      "จำนวนข้อมูลในช่วงเช้า 07:00 - 13:00 : 486\n",
      "จำนวนข้อมูลในช่วงบ่าย 13:00 - 19:00 : 564\n",
      "จำนวนข้อมูลในช่วงเย็น 19:00 - 22:00 : 413\n"
     ]
    }
   ],
   "source": [
    "#value = coff2.groupby('hour')\n",
    "\n",
    "# 07:00 - 12:00 (เช้า)\n",
    "morning_customers = coff2[coff2['hour'].between('07', '11')].shape[0]\n",
    "\n",
    "# 12:00 - 18:00 (บ่าย)\n",
    "afternoon_customers = coff2[coff2['hour'].between('12', '17')].shape[0]\n",
    "\n",
    "# 18:00 - 22:00 (เย็น)\n",
    "evening_customers = coff2[coff2['hour'].between('18', '22')].shape[0]\n",
    "\n",
    "\n",
    "print(f\"จำนวนข้อมูลในช่วงเช้า 07:00 - 13:00 : {morning_customers}\")\n",
    "print(f\"จำนวนข้อมูลในช่วงบ่าย 13:00 - 19:00 : {afternoon_customers}\")\n",
    "print(f\"จำนวนข้อมูลในช่วงเย็น 19:00 - 22:00 : {evening_customers}\")"
   ]
  },
  {
   "cell_type": "code",
   "execution_count": 670,
   "metadata": {},
   "outputs": [
    {
     "name": "stdout",
     "output_type": "stream",
     "text": [
      "จำนวนข้อมูลในช่วงเช้า 07:00 - 13:00 : 11834.4686 บาท\n",
      "จำนวนข้อมูลในช่วงบ่าย 13:00 - 19:00 : 14312.524800000001 บาท\n",
      "จำนวนข้อมูลในช่วงเย็น 19:00 - 22:00 : 10855.8956 บาท\n"
     ]
    }
   ],
   "source": [
    "#value = coff2.groupby('hour')\n",
    "\n",
    "# 07:00 - 12:00 (เช้า)\n",
    "morning_customers = coff2[coff2['hour'].between('07', '11')]['money_THB'].sum()\n",
    "\n",
    "# 12:00 - 18:00 (บ่าย)\n",
    "afternoon_customers = coff2[coff2['hour'].between('12', '17')]['money_THB'].sum()\n",
    "\n",
    "# 18:00 - 22:00 (เย็น)\n",
    "evening_customers = coff2[coff2['hour'].between('18', '22')]['money_THB'].sum()\n",
    "\n",
    "\n",
    "print(f\"จำนวนข้อมูลในช่วงเช้า 07:00 - 13:00 : {morning_customers} บาท\")\n",
    "print(f\"จำนวนข้อมูลในช่วงบ่าย 13:00 - 19:00 : {afternoon_customers} บาท\")\n",
    "print(f\"จำนวนข้อมูลในช่วงเย็น 19:00 - 22:00 : {evening_customers} บาท\")"
   ]
  },
  {
   "cell_type": "markdown",
   "metadata": {},
   "source": [
    "หายอดขายกาแฟอะไรมากที่สุดในแต่ละเดือน\n",
    "Americano with Milk: มีน้ำร้อนมากกว่าเน้นรสกาแฟเข้มข้น\n",
    "Latte: มีนมมากกว่าทำให้รสชาติของกาแฟนุ่มนวลและครีมมี่\n",
    "Espresso เป็นพื้นฐานของเครื่องดื่มหลายชนิด\n",
    "Cortado และ Cappuccino มีนมเป็นส่วนสำคัญ แต่มีปริมาณที่แตกต่างกัน\n",
    "Americano จะมีน้ำร้อนเป็นหลัก ส่วน Latte จะมีนมมากกว่าจึงมีความนุ่มนวลกว่า\n",
    "Cocoa และ Hot Chocolate เป็นเครื่องดื่มช็อกโกแลตที่ไม่มีกาแฟ"
   ]
  },
  {
   "cell_type": "code",
   "execution_count": 671,
   "metadata": {},
   "outputs": [
    {
     "name": "stdout",
     "output_type": "stream",
     "text": [
      "   month          coffee_name  money_THB\n",
      "7     03                Latte  1480.8550\n",
      "10    04           Cappuccino  1310.9576\n",
      "23    05                Latte  1736.4200\n",
      "25    06  Americano with Milk  1791.8148\n",
      "33    07  Americano with Milk  1472.4020\n",
      "41    08  Americano with Milk  1588.0896\n",
      "49    09  Americano with Milk   463.1928\n"
     ]
    }
   ],
   "source": [
    "# รวมกลุ่มตามเดือนและชื่อกาแฟและหายอดขายรวม\n",
    "value = coff.groupby(['month', 'coffee_name'])['money_THB'].sum().reset_index()\n",
    "\n",
    "# หาสินค้าขายดีในแต่ละเดือน\n",
    "best_selling_per_month = value.loc[value.groupby('month')['money_THB'].idxmax()]\n",
    "\n",
    "# แสดงผลลัพธ์\n",
    "print(best_selling_per_month)\n"
   ]
  },
  {
   "cell_type": "code",
   "execution_count": 672,
   "metadata": {},
   "outputs": [
    {
     "data": {
      "image/png": "[encoded data removed]",
      "text/plain": [
       "<Figure size 1000x600 with 1 Axes>"
      ]
     },
     "metadata": {},
     "output_type": "display_data"
    },
    {
     "data": {
      "image/png": "[encoded data removed]",
      "text/plain": [
       "<Figure size 1200x600 with 1 Axes>"
      ]
     },
     "metadata": {},
     "output_type": "display_data"
    }
   ],
   "source": [
    "import seaborn as sns\n",
    "import matplotlib.pyplot as plt\n",
    "\n",
    "# Visualize the distribution of money spent to check for outliers\n",
    "plt.figure(figsize=(10, 6))\n",
    "sns.boxplot(data=coff2, x='money')\n",
    "plt.title(\"Distribution of Money Spent\")\n",
    "plt.show()\n",
    "\n",
    "# Analyzing the most popular coffee types\n",
    "plt.figure(figsize=(12, 6))\n",
    "sns.countplot(data=coff2, y='coffee_name', order=coff2['coffee_name'].value_counts().index)\n",
    "plt.title(\"Most Popular Coffee Types\")\n",
    "plt.show()\n"
   ]
  },
  {
   "cell_type": "code",
   "execution_count": 673,
   "metadata": {},
   "outputs": [
    {
     "name": "stdout",
     "output_type": "stream",
     "text": [
      "  time_period     money\n",
      "0   Afternoon  18246.02\n",
      "1     Evening  13741.64\n",
      "2     Morning  14980.34\n"
     ]
    }
   ],
   "source": [
    "sales_by_time = coff.groupby('time_period')['money'].sum().reset_index()\n",
    "print(sales_by_time)"
   ]
  },
  {
   "cell_type": "code",
   "execution_count": 674,
   "metadata": {},
   "outputs": [
    {
     "name": "stdout",
     "output_type": "stream",
     "text": [
      "  cash_type    money\n",
      "0      card  43782.0\n",
      "1      cash   3186.0\n"
     ]
    }
   ],
   "source": [
    "sales_by_payment = coff.groupby('cash_type')['money'].sum().reset_index()\n",
    "print(sales_by_payment)"
   ]
  },
  {
   "cell_type": "code",
   "execution_count": 675,
   "metadata": {},
   "outputs": [
    {
     "data": {
      "image/png": "[encoded data removed]",
      "text/plain": [
       "<Figure size 640x480 with 1 Axes>"
      ]
     },
     "metadata": {},
     "output_type": "display_data"
    }
   ],
   "source": [
    "import seaborn as sns\n",
    "import matplotlib.pyplot as plt\n",
    "\n",
    "sns.barplot(x='time_period', y='money', data=sales_by_time)\n",
    "plt.title('Sales by Time Period')\n",
    "plt.xlabel('Time Period')\n",
    "plt.ylabel('Total Sales (THB)')\n",
    "plt.show()"
   ]
  },
  {
   "cell_type": "code",
   "execution_count": 676,
   "metadata": {},
   "outputs": [
    {
     "data": {
      "image/png": "[encoded data removed]",
      "text/plain": [
       "<Figure size 640x480 with 1 Axes>"
      ]
     },
     "metadata": {},
     "output_type": "display_data"
    }
   ],
   "source": [
    "sns.barplot(x='cash_type', y='money', data=sales_by_payment)\n",
    "plt.title('Sales by Payment Method')\n",
    "plt.xlabel('Payment Method')\n",
    "plt.ylabel('Total Sales (THB)')\n",
    "plt.show()"
   ]
  },
  {
   "cell_type": "markdown",
   "metadata": {},
   "source": [
    "การทำการทดสอบสถิติเพื่อดูว่ายอดขายในช่วงเวลาต่าง หากคุณต้องการเปรียบเทียบยอดขายระหว่างสามช่วงเวลา (เช้า บ่าย เย็น) คุณสามารถใช้ การทดสอบ ANOVA (Analysis of Variance) ได้"
   ]
  }
 ],
 "metadata": {
  "kernelspec": {
   "display_name": "Python 3",
   "language": "python",
   "name": "python3"
  },
  "language_info": {
   "codemirror_mode": {
    "name": "ipython",
    "version": 3
   },
   "file_extension": ".py",
   "mimetype": "text/x-python",
   "name": "python",
   "nbconvert_exporter": "python",
   "pygments_lexer": "ipython3",
   "version": "3.10.12"
  }
 },
 "nbformat": 4,
 "nbformat_minor": 2
}
