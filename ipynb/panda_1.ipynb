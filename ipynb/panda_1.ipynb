{
 "cells": [
  {
   "cell_type": "markdown",
   "metadata": {},
   "source": [
    "import pandas เพื่อวิเคราะห์ข้อมูลสถิติ"
   ]
  },
  {
   "cell_type": "code",
   "execution_count": 171,
   "metadata": {},
   "outputs": [],
   "source": [
    "import pandas as pd"
   ]
  },
  {
   "cell_type": "code",
   "execution_count": 172,
   "metadata": {},
   "outputs": [],
   "source": [
    "coff = pd.read_csv(\"/home/gamgamgam/Documents/Term1SecondYear/204203/coffee_sale/data/index.csv\")"
   ]
  },
  {
   "cell_type": "markdown",
   "metadata": {},
   "source": [
    "ข้อมูลสรุปเชิงสถิติและการกระจายตัวของข้อมูล\n",
    "1.ยอดขายในแต่ละเดือนที่ขายกาแฟได้\n",
    "2.ในแต่ละเดือนกาแฟอะไรขายดีที่สุด\n",
    "3.ในแต่ละเดือนผู้คนส่วนใหญ่ใช้อะไรในการจ่ายค่ากาแฟ\n",
    "3.ช่วงเวลาที่ขายกาแฟได้มากที่สุดในแต่ละเดือน\n",
    "4.หายอดขายกาแฟอะไรมากที่สุดในแต่ละเดือน\n",
    "5.จำนวนลูกค้าในแต่ละวัน"
   ]
  },
  {
   "cell_type": "code",
   "execution_count": 173,
   "metadata": {},
   "outputs": [
    {
     "data": {
      "text/html": [
       "<div>\n",
       "<style scoped>\n",
       "    .dataframe tbody tr th:only-of-type {\n",
       "        vertical-align: middle;\n",
       "    }\n",
       "\n",
       "    .dataframe tbody tr th {\n",
       "        vertical-align: top;\n",
       "    }\n",
       "\n",
       "    .dataframe thead th {\n",
       "        text-align: right;\n",
       "    }\n",
       "</style>\n",
       "<table border=\"1\" class=\"dataframe\">\n",
       "  <thead>\n",
       "    <tr style=\"text-align: right;\">\n",
       "      <th></th>\n",
       "      <th>date</th>\n",
       "      <th>datetime</th>\n",
       "      <th>cash_type</th>\n",
       "      <th>card</th>\n",
       "      <th>money</th>\n",
       "      <th>coffee_name</th>\n",
       "    </tr>\n",
       "  </thead>\n",
       "  <tbody>\n",
       "    <tr>\n",
       "      <th>0</th>\n",
       "      <td>2024-03-01</td>\n",
       "      <td>2024-03-01 10:15:50.520</td>\n",
       "      <td>card</td>\n",
       "      <td>ANON-0000-0000-0001</td>\n",
       "      <td>38.7</td>\n",
       "      <td>Latte</td>\n",
       "    </tr>\n",
       "    <tr>\n",
       "      <th>1</th>\n",
       "      <td>2024-03-01</td>\n",
       "      <td>2024-03-01 12:19:22.539</td>\n",
       "      <td>card</td>\n",
       "      <td>ANON-0000-0000-0002</td>\n",
       "      <td>38.7</td>\n",
       "      <td>Hot Chocolate</td>\n",
       "    </tr>\n",
       "    <tr>\n",
       "      <th>2</th>\n",
       "      <td>2024-03-01</td>\n",
       "      <td>2024-03-01 12:20:18.089</td>\n",
       "      <td>card</td>\n",
       "      <td>ANON-0000-0000-0002</td>\n",
       "      <td>38.7</td>\n",
       "      <td>Hot Chocolate</td>\n",
       "    </tr>\n",
       "    <tr>\n",
       "      <th>3</th>\n",
       "      <td>2024-03-01</td>\n",
       "      <td>2024-03-01 13:46:33.006</td>\n",
       "      <td>card</td>\n",
       "      <td>ANON-0000-0000-0003</td>\n",
       "      <td>28.9</td>\n",
       "      <td>Americano</td>\n",
       "    </tr>\n",
       "    <tr>\n",
       "      <th>4</th>\n",
       "      <td>2024-03-01</td>\n",
       "      <td>2024-03-01 13:48:14.626</td>\n",
       "      <td>card</td>\n",
       "      <td>ANON-0000-0000-0004</td>\n",
       "      <td>38.7</td>\n",
       "      <td>Latte</td>\n",
       "    </tr>\n",
       "    <tr>\n",
       "      <th>5</th>\n",
       "      <td>2024-03-01</td>\n",
       "      <td>2024-03-01 15:39:47.726</td>\n",
       "      <td>card</td>\n",
       "      <td>ANON-0000-0000-0005</td>\n",
       "      <td>33.8</td>\n",
       "      <td>Americano with Milk</td>\n",
       "    </tr>\n",
       "    <tr>\n",
       "      <th>6</th>\n",
       "      <td>2024-03-01</td>\n",
       "      <td>2024-03-01 16:19:02.756</td>\n",
       "      <td>card</td>\n",
       "      <td>ANON-0000-0000-0006</td>\n",
       "      <td>38.7</td>\n",
       "      <td>Hot Chocolate</td>\n",
       "    </tr>\n",
       "    <tr>\n",
       "      <th>7</th>\n",
       "      <td>2024-03-01</td>\n",
       "      <td>2024-03-01 18:39:03.580</td>\n",
       "      <td>card</td>\n",
       "      <td>ANON-0000-0000-0007</td>\n",
       "      <td>33.8</td>\n",
       "      <td>Americano with Milk</td>\n",
       "    </tr>\n",
       "    <tr>\n",
       "      <th>8</th>\n",
       "      <td>2024-03-01</td>\n",
       "      <td>2024-03-01 19:22:01.762</td>\n",
       "      <td>card</td>\n",
       "      <td>ANON-0000-0000-0008</td>\n",
       "      <td>38.7</td>\n",
       "      <td>Cocoa</td>\n",
       "    </tr>\n",
       "    <tr>\n",
       "      <th>9</th>\n",
       "      <td>2024-03-01</td>\n",
       "      <td>2024-03-01 19:23:15.887</td>\n",
       "      <td>card</td>\n",
       "      <td>ANON-0000-0000-0008</td>\n",
       "      <td>33.8</td>\n",
       "      <td>Americano with Milk</td>\n",
       "    </tr>\n",
       "  </tbody>\n",
       "</table>\n",
       "</div>"
      ],
      "text/plain": [
       "         date                 datetime cash_type                 card  money  \\\n",
       "0  2024-03-01  2024-03-01 10:15:50.520      card  ANON-0000-0000-0001   38.7   \n",
       "1  2024-03-01  2024-03-01 12:19:22.539      card  ANON-0000-0000-0002   38.7   \n",
       "2  2024-03-01  2024-03-01 12:20:18.089      card  ANON-0000-0000-0002   38.7   \n",
       "3  2024-03-01  2024-03-01 13:46:33.006      card  ANON-0000-0000-0003   28.9   \n",
       "4  2024-03-01  2024-03-01 13:48:14.626      card  ANON-0000-0000-0004   38.7   \n",
       "5  2024-03-01  2024-03-01 15:39:47.726      card  ANON-0000-0000-0005   33.8   \n",
       "6  2024-03-01  2024-03-01 16:19:02.756      card  ANON-0000-0000-0006   38.7   \n",
       "7  2024-03-01  2024-03-01 18:39:03.580      card  ANON-0000-0000-0007   33.8   \n",
       "8  2024-03-01  2024-03-01 19:22:01.762      card  ANON-0000-0000-0008   38.7   \n",
       "9  2024-03-01  2024-03-01 19:23:15.887      card  ANON-0000-0000-0008   33.8   \n",
       "\n",
       "           coffee_name  \n",
       "0                Latte  \n",
       "1        Hot Chocolate  \n",
       "2        Hot Chocolate  \n",
       "3            Americano  \n",
       "4                Latte  \n",
       "5  Americano with Milk  \n",
       "6        Hot Chocolate  \n",
       "7  Americano with Milk  \n",
       "8                Cocoa  \n",
       "9  Americano with Milk  "
      ]
     },
     "execution_count": 173,
     "metadata": {},
     "output_type": "execute_result"
    }
   ],
   "source": [
    "coff.head(10)"
   ]
  },
  {
   "cell_type": "code",
   "execution_count": 174,
   "metadata": {},
   "outputs": [
    {
     "name": "stdout",
     "output_type": "stream",
     "text": [
      "<class 'pandas.core.frame.DataFrame'>\n",
      "RangeIndex: 1464 entries, 0 to 1463\n",
      "Data columns (total 6 columns):\n",
      " #   Column       Non-Null Count  Dtype  \n",
      "---  ------       --------------  -----  \n",
      " 0   date         1464 non-null   object \n",
      " 1   datetime     1464 non-null   object \n",
      " 2   cash_type    1464 non-null   object \n",
      " 3   card         1375 non-null   object \n",
      " 4   money        1464 non-null   float64\n",
      " 5   coffee_name  1464 non-null   object \n",
      "dtypes: float64(1), object(5)\n",
      "memory usage: 68.8+ KB\n"
     ]
    }
   ],
   "source": [
    "coff.info()"
   ]
  },
  {
   "cell_type": "code",
   "execution_count": 175,
   "metadata": {},
   "outputs": [
    {
     "data": {
      "text/html": [
       "<div>\n",
       "<style scoped>\n",
       "    .dataframe tbody tr th:only-of-type {\n",
       "        vertical-align: middle;\n",
       "    }\n",
       "\n",
       "    .dataframe tbody tr th {\n",
       "        vertical-align: top;\n",
       "    }\n",
       "\n",
       "    .dataframe thead th {\n",
       "        text-align: right;\n",
       "    }\n",
       "</style>\n",
       "<table border=\"1\" class=\"dataframe\">\n",
       "  <thead>\n",
       "    <tr style=\"text-align: right;\">\n",
       "      <th></th>\n",
       "      <th>money</th>\n",
       "    </tr>\n",
       "  </thead>\n",
       "  <tbody>\n",
       "    <tr>\n",
       "      <th>count</th>\n",
       "      <td>1464.000000</td>\n",
       "    </tr>\n",
       "    <tr>\n",
       "      <th>mean</th>\n",
       "      <td>32.081967</td>\n",
       "    </tr>\n",
       "    <tr>\n",
       "      <th>std</th>\n",
       "      <td>5.888605</td>\n",
       "    </tr>\n",
       "    <tr>\n",
       "      <th>min</th>\n",
       "      <td>18.120000</td>\n",
       "    </tr>\n",
       "    <tr>\n",
       "      <th>25%</th>\n",
       "      <td>27.920000</td>\n",
       "    </tr>\n",
       "    <tr>\n",
       "      <th>50%</th>\n",
       "      <td>32.820000</td>\n",
       "    </tr>\n",
       "    <tr>\n",
       "      <th>75%</th>\n",
       "      <td>37.720000</td>\n",
       "    </tr>\n",
       "    <tr>\n",
       "      <th>max</th>\n",
       "      <td>128.900000</td>\n",
       "    </tr>\n",
       "  </tbody>\n",
       "</table>\n",
       "</div>"
      ],
      "text/plain": [
       "             money\n",
       "count  1464.000000\n",
       "mean     32.081967\n",
       "std       5.888605\n",
       "min      18.120000\n",
       "25%      27.920000\n",
       "50%      32.820000\n",
       "75%      37.720000\n",
       "max     128.900000"
      ]
     },
     "execution_count": 175,
     "metadata": {},
     "output_type": "execute_result"
    }
   ],
   "source": [
    "coff.describe()"
   ]
  },
  {
   "cell_type": "markdown",
   "metadata": {},
   "source": [
    "จำนวนลูกค้าในแต่ละเดือน ตั้งแต่เดือน มีนาคม ถึง กันยายน"
   ]
  },
  {
   "cell_type": "code",
   "execution_count": 176,
   "metadata": {},
   "outputs": [
    {
     "data": {
      "text/plain": [
       "date\n",
       "2024-08    272\n",
       "2024-05    267\n",
       "2024-07    237\n",
       "2024-06    227\n",
       "2024-03    206\n",
       "2024-04    196\n",
       "2024-09     59\n",
       "Name: count, dtype: int64"
      ]
     },
     "execution_count": 176,
     "metadata": {},
     "output_type": "execute_result"
    }
   ],
   "source": [
    "ans = coff['date'].apply(lambda x : x[:-3])\n",
    "ans.value_counts()"
   ]
  },
  {
   "cell_type": "markdown",
   "metadata": {},
   "source": [
    "ยอดขายในแต่ละเดือนที่ขายกาแฟได้ ตั้งแต่เดือน มีนาคม ถึง กันยายน"
   ]
  },
  {
   "cell_type": "code",
   "execution_count": 177,
   "metadata": {},
   "outputs": [
    {
     "data": {
      "text/plain": [
       "date\n",
       "2024-09    1745.28\n",
       "2024-04    6720.56\n",
       "2024-07    6915.94\n",
       "2024-03    7150.20\n",
       "2024-08    7613.84\n",
       "2024-06    7758.76\n",
       "2024-05    9063.42\n",
       "Name: money, dtype: float64"
      ]
     },
     "execution_count": 177,
     "metadata": {},
     "output_type": "execute_result"
    }
   ],
   "source": [
    "ans = [coff['date'].apply(lambda x : x[:-3])]\n",
    "value = coff.groupby(ans)['money'].sum().sort_values()\n",
    "value\n"
   ]
  },
  {
   "cell_type": "markdown",
   "metadata": {},
   "source": [
    "ในแต่ละเดือนกาแฟอะไรขายดีที่สุด"
   ]
  },
  {
   "cell_type": "code",
   "execution_count": 178,
   "metadata": {},
   "outputs": [
    {
     "data": {
      "text/plain": [
       "date     coffee_name        \n",
       "2024-03  Americano              1044.80\n",
       "         Americano with Milk    1154.00\n",
       "         Cappuccino              780.50\n",
       "         Cocoa                   232.20\n",
       "         Cortado                 969.20\n",
       "         Espresso                241.00\n",
       "         Hot Chocolate           854.00\n",
       "         Latte                  1874.50\n",
       "2024-04  Americano              1001.94\n",
       "         Americano with Milk    1407.74\n",
       "         Cappuccino             1659.44\n",
       "         Cocoa                   232.82\n",
       "         Cortado                 548.48\n",
       "         Espresso                171.00\n",
       "         Hot Chocolate           506.02\n",
       "         Latte                  1193.12\n",
       "2024-05  Americano              1348.80\n",
       "         Americano with Milk    1908.28\n",
       "         Cappuccino             2078.44\n",
       "         Cocoa                   340.76\n",
       "         Cortado                 474.64\n",
       "         Espresso                185.14\n",
       "         Hot Chocolate           529.36\n",
       "         Latte                  2198.00\n",
       "2024-06  Americano               390.88\n",
       "         Americano with Milk    2268.12\n",
       "         Cappuccino             1735.12\n",
       "         Cocoa                   189.88\n",
       "         Cortado                 530.48\n",
       "         Espresso                230.20\n",
       "         Hot Chocolate           528.08\n",
       "         Latte                  1886.00\n",
       "2024-07  Americano               858.12\n",
       "         Americano with Milk    1863.80\n",
       "         Cappuccino             1079.64\n",
       "         Cocoa                   300.28\n",
       "         Cortado                 322.28\n",
       "         Espresso                273.28\n",
       "         Hot Chocolate           361.02\n",
       "         Latte                  1857.52\n",
       "2024-08  Americano               851.74\n",
       "         Americano with Milk    2010.24\n",
       "         Cappuccino             1115.88\n",
       "         Cocoa                   361.02\n",
       "         Cortado                 920.80\n",
       "         Espresso                253.68\n",
       "         Hot Chocolate           196.92\n",
       "         Latte                  1903.56\n",
       "2024-09  Americano               161.14\n",
       "         Americano with Milk     586.32\n",
       "         Cappuccino              295.38\n",
       "         Cocoa                   164.10\n",
       "         Cortado                  46.04\n",
       "         Latte                   492.30\n",
       "Name: money, dtype: float64"
      ]
     },
     "execution_count": 178,
     "metadata": {},
     "output_type": "execute_result"
    }
   ],
   "source": [
    "ans = coff['date'].apply(lambda x : x[:-3])\n",
    "value = coff.groupby([ans,'coffee_name'])['money'].sum()\n",
    "value"
   ]
  },
  {
   "cell_type": "markdown",
   "metadata": {},
   "source": [
    "ในแต่ละเดือนผู้คนส่วนใหญ่ใช้อะไรในการจ่ายค่ากาแฟ"
   ]
  },
  {
   "cell_type": "code",
   "execution_count": 179,
   "metadata": {},
   "outputs": [
    {
     "data": {
      "text/plain": [
       "date     cash_type\n",
       "2024-03  card         175\n",
       "         cash          31\n",
       "2024-04  card         168\n",
       "         cash          28\n",
       "2024-05  card         241\n",
       "         cash          26\n",
       "2024-06  card         223\n",
       "         cash           4\n",
       "2024-07  card         237\n",
       "2024-08  card         272\n",
       "2024-09  card          59\n",
       "Name: count, dtype: int64"
      ]
     },
     "execution_count": 179,
     "metadata": {},
     "output_type": "execute_result"
    }
   ],
   "source": [
    "ans = coff['date'].apply(lambda x : x[:-3])\n",
    "value = coff.groupby([ans])['cash_type'].value_counts()\n",
    "value"
   ]
  },
  {
   "cell_type": "markdown",
   "metadata": {},
   "source": [
    "ช่วงเวลาที่ขายกาแฟได้มากที่สุดในแต่ละเดือน"
   ]
  },
  {
   "cell_type": "code",
   "execution_count": 180,
   "metadata": {},
   "outputs": [
    {
     "data": {
      "text/plain": [
       "datetime        22\n",
       "money       5235.0\n",
       "dtype: object"
      ]
     },
     "execution_count": 180,
     "metadata": {},
     "output_type": "execute_result"
    }
   ],
   "source": [
    "month = coff['date'].apply(lambda x : x[:-3])\n",
    "time = coff['datetime'].apply(lambda x : x.split(' ')[1][:2])\n",
    "value = coff.groupby([time])['money'].sum().reset_index()\n",
    "value.max()"
   ]
  },
  {
   "cell_type": "markdown",
   "metadata": {},
   "source": [
    "หายอดขายกาแฟอะไรมากที่สุดในแต่ละเดือน"
   ]
  },
  {
   "cell_type": "code",
   "execution_count": 181,
   "metadata": {},
   "outputs": [
    {
     "data": {
      "text/html": [
       "<div>\n",
       "<style scoped>\n",
       "    .dataframe tbody tr th:only-of-type {\n",
       "        vertical-align: middle;\n",
       "    }\n",
       "\n",
       "    .dataframe tbody tr th {\n",
       "        vertical-align: top;\n",
       "    }\n",
       "\n",
       "    .dataframe thead th {\n",
       "        text-align: right;\n",
       "    }\n",
       "</style>\n",
       "<table border=\"1\" class=\"dataframe\">\n",
       "  <thead>\n",
       "    <tr style=\"text-align: right;\">\n",
       "      <th></th>\n",
       "      <th>date</th>\n",
       "      <th>coffee_name</th>\n",
       "      <th>money</th>\n",
       "    </tr>\n",
       "  </thead>\n",
       "  <tbody>\n",
       "    <tr>\n",
       "      <th>7</th>\n",
       "      <td>2024-03</td>\n",
       "      <td>Latte</td>\n",
       "      <td>1874.50</td>\n",
       "    </tr>\n",
       "    <tr>\n",
       "      <th>10</th>\n",
       "      <td>2024-04</td>\n",
       "      <td>Cappuccino</td>\n",
       "      <td>1659.44</td>\n",
       "    </tr>\n",
       "    <tr>\n",
       "      <th>23</th>\n",
       "      <td>2024-05</td>\n",
       "      <td>Latte</td>\n",
       "      <td>2198.00</td>\n",
       "    </tr>\n",
       "    <tr>\n",
       "      <th>25</th>\n",
       "      <td>2024-06</td>\n",
       "      <td>Americano with Milk</td>\n",
       "      <td>2268.12</td>\n",
       "    </tr>\n",
       "    <tr>\n",
       "      <th>33</th>\n",
       "      <td>2024-07</td>\n",
       "      <td>Americano with Milk</td>\n",
       "      <td>1863.80</td>\n",
       "    </tr>\n",
       "    <tr>\n",
       "      <th>41</th>\n",
       "      <td>2024-08</td>\n",
       "      <td>Americano with Milk</td>\n",
       "      <td>2010.24</td>\n",
       "    </tr>\n",
       "    <tr>\n",
       "      <th>49</th>\n",
       "      <td>2024-09</td>\n",
       "      <td>Americano with Milk</td>\n",
       "      <td>586.32</td>\n",
       "    </tr>\n",
       "  </tbody>\n",
       "</table>\n",
       "</div>"
      ],
      "text/plain": [
       "       date          coffee_name    money\n",
       "7   2024-03                Latte  1874.50\n",
       "10  2024-04           Cappuccino  1659.44\n",
       "23  2024-05                Latte  2198.00\n",
       "25  2024-06  Americano with Milk  2268.12\n",
       "33  2024-07  Americano with Milk  1863.80\n",
       "41  2024-08  Americano with Milk  2010.24\n",
       "49  2024-09  Americano with Milk   586.32"
      ]
     },
     "execution_count": 181,
     "metadata": {},
     "output_type": "execute_result"
    }
   ],
   "source": [
    "month = coff['date'].apply(lambda x : x[:-3])\n",
    "value = coff.groupby([month,'coffee_name'])['money'].sum().reset_index()\n",
    "\n",
    "best_selling_per_month = value.loc[value.groupby(value['date'].str[:7])['money'].idxmax()]\n",
    "best_selling_per_month"
   ]
  }
 ],
 "metadata": {
  "kernelspec": {
   "display_name": "Python 3",
   "language": "python",
   "name": "python3"
  },
  "language_info": {
   "codemirror_mode": {
    "name": "ipython",
    "version": 3
   },
   "file_extension": ".py",
   "mimetype": "text/x-python",
   "name": "python",
   "nbconvert_exporter": "python",
   "pygments_lexer": "ipython3",
   "version": "3.10.12"
  }
 },
 "nbformat": 4,
 "nbformat_minor": 2
}
