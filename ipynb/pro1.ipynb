{
  "cells": [
    {
      "cell_type": "markdown",
      "metadata": {
        "id": "5j3L5g1i1tFF"
      },
      "source": [
        "import pandas เพื่อวิเคราะห์ข้อมูลสถิติ"
      ]
    },
    {
      "cell_type": "code",
      "execution_count": 2,
      "metadata": {
        "id": "nEeFjjYA1tFG"
      },
      "outputs": [],
      "source": [
        "import pandas as pd \n",
        "import pandas as pd1\n",
        "import matplotlib.pyplot as plt"
      ]
    },
    {
      "cell_type": "code",
      "execution_count": 3,
      "metadata": {
        "id": "DpSIrZj01tFG"
      },
      "outputs": [],
      "source": [
        "#copy path ของไฟล์data index.csv แล้วเอามาวาง\n",
        "coff = pd.read_csv(\"/home/gamgamgam/Documents/Term1SecondYear/204203/coffee_sale/data/cleaned_data.csv\")\n",
        "df = pd1.read_csv(\"/home/gamgamgam/Documents/Term1SecondYear/204203/coffee_sale/data/index.csv\")"
      ]
    },
    {
      "cell_type": "markdown",
      "metadata": {
        "id": "swiJY69Q1tFG"
      },
      "source": [
        "ข้อมูลสรุปเชิงสถิติและการกระจายตัวของข้อมูล\n",
        "1.ยอดขายในแต่ละเดือนที่ขายกาแฟได้\n",
        "2.ในแต่ละเดือนกาแฟในแต่ละเดื่อน\n",
        "3.ในแต่ละเดือนผู้คนส่วนใหญ่ใช้อะไรในการจ่ายค่ากาแฟ\n",
        "3.ช่วงเวลาที่ขายกาแฟได้มากที่สุดในแต่ละเดือน\n",
        "4.หายอดขายกาแฟอะไรมากที่สุดในแต่ละเดือน\n",
        "5.จำนวนลูกค้าในแต่ละวัน"
      ]
    },
    {
      "cell_type": "code",
      "execution_count": 4,
      "metadata": {
        "colab": {
          "base_uri": "https://localhost:8080/",
          "height": 363
        },
        "id": "e_2U4Y_D1tFG",
        "outputId": "5ad0ca03-7285-47f5-ad64-b92e99bbbcc1"
      },
      "outputs": [
        {
          "data": {
            "text/html": [
              "<div>\n",
              "<style scoped>\n",
              "    .dataframe tbody tr th:only-of-type {\n",
              "        vertical-align: middle;\n",
              "    }\n",
              "\n",
              "    .dataframe tbody tr th {\n",
              "        vertical-align: top;\n",
              "    }\n",
              "\n",
              "    .dataframe thead th {\n",
              "        text-align: right;\n",
              "    }\n",
              "</style>\n",
              "<table border=\"1\" class=\"dataframe\">\n",
              "  <thead>\n",
              "    <tr style=\"text-align: right;\">\n",
              "      <th></th>\n",
              "      <th>date</th>\n",
              "      <th>datetime</th>\n",
              "      <th>cash_type</th>\n",
              "      <th>card</th>\n",
              "      <th>money</th>\n",
              "      <th>coffee_name</th>\n",
              "    </tr>\n",
              "  </thead>\n",
              "  <tbody>\n",
              "    <tr>\n",
              "      <th>0</th>\n",
              "      <td>2024-03-01</td>\n",
              "      <td>2024-03-01 10:15:50.520</td>\n",
              "      <td>card</td>\n",
              "      <td>ANON-0000-0000-0001</td>\n",
              "      <td>38.7</td>\n",
              "      <td>Latte</td>\n",
              "    </tr>\n",
              "    <tr>\n",
              "      <th>1</th>\n",
              "      <td>2024-03-01</td>\n",
              "      <td>2024-03-01 12:19:22.539</td>\n",
              "      <td>card</td>\n",
              "      <td>ANON-0000-0000-0002</td>\n",
              "      <td>38.7</td>\n",
              "      <td>Hot Chocolate</td>\n",
              "    </tr>\n",
              "    <tr>\n",
              "      <th>2</th>\n",
              "      <td>2024-03-01</td>\n",
              "      <td>2024-03-01 12:20:18.089</td>\n",
              "      <td>card</td>\n",
              "      <td>ANON-0000-0000-0002</td>\n",
              "      <td>38.7</td>\n",
              "      <td>Hot Chocolate</td>\n",
              "    </tr>\n",
              "    <tr>\n",
              "      <th>3</th>\n",
              "      <td>2024-03-01</td>\n",
              "      <td>2024-03-01 13:46:33.006</td>\n",
              "      <td>card</td>\n",
              "      <td>ANON-0000-0000-0003</td>\n",
              "      <td>28.9</td>\n",
              "      <td>Americano</td>\n",
              "    </tr>\n",
              "    <tr>\n",
              "      <th>4</th>\n",
              "      <td>2024-03-01</td>\n",
              "      <td>2024-03-01 13:48:14.626</td>\n",
              "      <td>card</td>\n",
              "      <td>ANON-0000-0000-0004</td>\n",
              "      <td>38.7</td>\n",
              "      <td>Latte</td>\n",
              "    </tr>\n",
              "    <tr>\n",
              "      <th>5</th>\n",
              "      <td>2024-03-01</td>\n",
              "      <td>2024-03-01 15:39:47.726</td>\n",
              "      <td>card</td>\n",
              "      <td>ANON-0000-0000-0005</td>\n",
              "      <td>33.8</td>\n",
              "      <td>Americano with Milk</td>\n",
              "    </tr>\n",
              "    <tr>\n",
              "      <th>6</th>\n",
              "      <td>2024-03-01</td>\n",
              "      <td>2024-03-01 16:19:02.756</td>\n",
              "      <td>card</td>\n",
              "      <td>ANON-0000-0000-0006</td>\n",
              "      <td>38.7</td>\n",
              "      <td>Hot Chocolate</td>\n",
              "    </tr>\n",
              "    <tr>\n",
              "      <th>7</th>\n",
              "      <td>2024-03-01</td>\n",
              "      <td>2024-03-01 18:39:03.580</td>\n",
              "      <td>card</td>\n",
              "      <td>ANON-0000-0000-0007</td>\n",
              "      <td>33.8</td>\n",
              "      <td>Americano with Milk</td>\n",
              "    </tr>\n",
              "    <tr>\n",
              "      <th>8</th>\n",
              "      <td>2024-03-01</td>\n",
              "      <td>2024-03-01 19:22:01.762</td>\n",
              "      <td>card</td>\n",
              "      <td>ANON-0000-0000-0008</td>\n",
              "      <td>38.7</td>\n",
              "      <td>Cocoa</td>\n",
              "    </tr>\n",
              "    <tr>\n",
              "      <th>9</th>\n",
              "      <td>2024-03-01</td>\n",
              "      <td>2024-03-01 19:23:15.887</td>\n",
              "      <td>card</td>\n",
              "      <td>ANON-0000-0000-0008</td>\n",
              "      <td>33.8</td>\n",
              "      <td>Americano with Milk</td>\n",
              "    </tr>\n",
              "  </tbody>\n",
              "</table>\n",
              "</div>"
            ],
            "text/plain": [
              "         date                 datetime cash_type                 card  money  \\\n",
              "0  2024-03-01  2024-03-01 10:15:50.520      card  ANON-0000-0000-0001   38.7   \n",
              "1  2024-03-01  2024-03-01 12:19:22.539      card  ANON-0000-0000-0002   38.7   \n",
              "2  2024-03-01  2024-03-01 12:20:18.089      card  ANON-0000-0000-0002   38.7   \n",
              "3  2024-03-01  2024-03-01 13:46:33.006      card  ANON-0000-0000-0003   28.9   \n",
              "4  2024-03-01  2024-03-01 13:48:14.626      card  ANON-0000-0000-0004   38.7   \n",
              "5  2024-03-01  2024-03-01 15:39:47.726      card  ANON-0000-0000-0005   33.8   \n",
              "6  2024-03-01  2024-03-01 16:19:02.756      card  ANON-0000-0000-0006   38.7   \n",
              "7  2024-03-01  2024-03-01 18:39:03.580      card  ANON-0000-0000-0007   33.8   \n",
              "8  2024-03-01  2024-03-01 19:22:01.762      card  ANON-0000-0000-0008   38.7   \n",
              "9  2024-03-01  2024-03-01 19:23:15.887      card  ANON-0000-0000-0008   33.8   \n",
              "\n",
              "           coffee_name  \n",
              "0                Latte  \n",
              "1        Hot Chocolate  \n",
              "2        Hot Chocolate  \n",
              "3            Americano  \n",
              "4                Latte  \n",
              "5  Americano with Milk  \n",
              "6        Hot Chocolate  \n",
              "7  Americano with Milk  \n",
              "8                Cocoa  \n",
              "9  Americano with Milk  "
            ]
          },
          "execution_count": 4,
          "metadata": {},
          "output_type": "execute_result"
        }
      ],
      "source": [
        "df.head(10)"
      ]
    },
    {
      "cell_type": "code",
      "execution_count": 5,
      "metadata": {
        "colab": {
          "base_uri": "https://localhost:8080/"
        },
        "id": "SowPjd291tFG",
        "outputId": "b07711d0-4c48-4e6f-de41-86cba1f6197a"
      },
      "outputs": [
        {
          "name": "stdout",
          "output_type": "stream",
          "text": [
            "<class 'pandas.core.frame.DataFrame'>\n",
            "RangeIndex: 1464 entries, 0 to 1463\n",
            "Data columns (total 6 columns):\n",
            " #   Column       Non-Null Count  Dtype  \n",
            "---  ------       --------------  -----  \n",
            " 0   date         1464 non-null   object \n",
            " 1   datetime     1464 non-null   object \n",
            " 2   cash_type    1464 non-null   object \n",
            " 3   card         1375 non-null   object \n",
            " 4   money        1464 non-null   float64\n",
            " 5   coffee_name  1464 non-null   object \n",
            "dtypes: float64(1), object(5)\n",
            "memory usage: 68.8+ KB\n"
          ]
        }
      ],
      "source": [
        "df.info()"
      ]
    },
    {
      "cell_type": "markdown",
      "metadata": {
        "id": "4_gGui2Vzg1w"
      },
      "source": [
        "shape data ที่ยังไม่ได้ทำความสะอาดจะมี 1464 คน (row ,column)\n",
        "และ data มีค่า max สูงกว่าค่าอื่นจนผิดปกติ\n"
      ]
    },
    {
      "cell_type": "code",
      "execution_count": 6,
      "metadata": {
        "colab": {
          "base_uri": "https://localhost:8080/",
          "height": 300
        },
        "id": "SRofIYYg0mNS",
        "outputId": "2e0e574f-9251-46ea-ed9d-5fa83ff80ae7"
      },
      "outputs": [
        {
          "data": {
            "text/html": [
              "<div>\n",
              "<style scoped>\n",
              "    .dataframe tbody tr th:only-of-type {\n",
              "        vertical-align: middle;\n",
              "    }\n",
              "\n",
              "    .dataframe tbody tr th {\n",
              "        vertical-align: top;\n",
              "    }\n",
              "\n",
              "    .dataframe thead th {\n",
              "        text-align: right;\n",
              "    }\n",
              "</style>\n",
              "<table border=\"1\" class=\"dataframe\">\n",
              "  <thead>\n",
              "    <tr style=\"text-align: right;\">\n",
              "      <th></th>\n",
              "      <th>money</th>\n",
              "    </tr>\n",
              "  </thead>\n",
              "  <tbody>\n",
              "    <tr>\n",
              "      <th>count</th>\n",
              "      <td>1464.000000</td>\n",
              "    </tr>\n",
              "    <tr>\n",
              "      <th>mean</th>\n",
              "      <td>32.081967</td>\n",
              "    </tr>\n",
              "    <tr>\n",
              "      <th>std</th>\n",
              "      <td>5.888605</td>\n",
              "    </tr>\n",
              "    <tr>\n",
              "      <th>min</th>\n",
              "      <td>18.120000</td>\n",
              "    </tr>\n",
              "    <tr>\n",
              "      <th>25%</th>\n",
              "      <td>27.920000</td>\n",
              "    </tr>\n",
              "    <tr>\n",
              "      <th>50%</th>\n",
              "      <td>32.820000</td>\n",
              "    </tr>\n",
              "    <tr>\n",
              "      <th>75%</th>\n",
              "      <td>37.720000</td>\n",
              "    </tr>\n",
              "    <tr>\n",
              "      <th>max</th>\n",
              "      <td>128.900000</td>\n",
              "    </tr>\n",
              "  </tbody>\n",
              "</table>\n",
              "</div>"
            ],
            "text/plain": [
              "             money\n",
              "count  1464.000000\n",
              "mean     32.081967\n",
              "std       5.888605\n",
              "min      18.120000\n",
              "25%      27.920000\n",
              "50%      32.820000\n",
              "75%      37.720000\n",
              "max     128.900000"
            ]
          },
          "execution_count": 6,
          "metadata": {},
          "output_type": "execute_result"
        }
      ],
      "source": [
        "df.describe()"
      ]
    },
    {
      "cell_type": "code",
      "execution_count": 7,
      "metadata": {
        "colab": {
          "base_uri": "https://localhost:8080/"
        },
        "id": "NNzhyyQ9-oV7",
        "outputId": "e159f656-569a-4253-defc-1a53c5cac969"
      },
      "outputs": [
        {
          "name": "stdout",
          "output_type": "stream",
          "text": [
            "34.67566912811088 0    32.82\n",
            "Name: money, dtype: float64 32.82\n"
          ]
        }
      ],
      "source": [
        "mode = df[\"money\"].mode()\n",
        "var = df['money'].var()\n",
        "med = df['money'].median()\n",
        "print(var,mode,med)"
      ]
    },
    {
      "cell_type": "code",
      "execution_count": 8,
      "metadata": {
        "colab": {
          "base_uri": "https://localhost:8080/"
        },
        "id": "3wBwJqRnrD5G",
        "outputId": "6dce23c9-76ed-4b97-a186-3f9ec55dcd15"
      },
      "outputs": [
        {
          "data": {
            "text/plain": [
              "(1464, 6)"
            ]
          },
          "execution_count": 8,
          "metadata": {},
          "output_type": "execute_result"
        }
      ],
      "source": [
        "df.shape"
      ]
    },
    {
      "cell_type": "markdown",
      "metadata": {
        "id": "PPbzM0cjz_ti"
      },
      "source": [
        "ลองหาค่า max ของ money"
      ]
    },
    {
      "cell_type": "code",
      "execution_count": 9,
      "metadata": {
        "colab": {
          "base_uri": "https://localhost:8080/",
          "height": 89
        },
        "id": "XSNUYfU7ldd7",
        "outputId": "052f5d4e-b135-45ef-c8f3-76503d6eb9bd"
      },
      "outputs": [
        {
          "data": {
            "text/html": [
              "<div>\n",
              "<style scoped>\n",
              "    .dataframe tbody tr th:only-of-type {\n",
              "        vertical-align: middle;\n",
              "    }\n",
              "\n",
              "    .dataframe tbody tr th {\n",
              "        vertical-align: top;\n",
              "    }\n",
              "\n",
              "    .dataframe thead th {\n",
              "        text-align: right;\n",
              "    }\n",
              "</style>\n",
              "<table border=\"1\" class=\"dataframe\">\n",
              "  <thead>\n",
              "    <tr style=\"text-align: right;\">\n",
              "      <th></th>\n",
              "      <th>date</th>\n",
              "      <th>datetime</th>\n",
              "      <th>cash_type</th>\n",
              "      <th>card</th>\n",
              "      <th>money</th>\n",
              "      <th>coffee_name</th>\n",
              "    </tr>\n",
              "  </thead>\n",
              "  <tbody>\n",
              "    <tr>\n",
              "      <th>24</th>\n",
              "      <td>2024-03-03</td>\n",
              "      <td>2024-03-03 17:08:45.895</td>\n",
              "      <td>card</td>\n",
              "      <td>ANON-0000-0000-0019</td>\n",
              "      <td>128.9</td>\n",
              "      <td>Cortado</td>\n",
              "    </tr>\n",
              "  </tbody>\n",
              "</table>\n",
              "</div>"
            ],
            "text/plain": [
              "          date                 datetime cash_type                 card  money  \\\n",
              "24  2024-03-03  2024-03-03 17:08:45.895      card  ANON-0000-0000-0019  128.9   \n",
              "\n",
              "   coffee_name  \n",
              "24     Cortado  "
            ]
          },
          "execution_count": 9,
          "metadata": {},
          "output_type": "execute_result"
        }
      ],
      "source": [
        "result = df[df['money'] == df['money'].max()]\n",
        "result"
      ]
    },
    {
      "cell_type": "code",
      "execution_count": 10,
      "metadata": {
        "colab": {
          "base_uri": "https://localhost:8080/"
        },
        "id": "G2XZbFCRnQXu",
        "outputId": "359a4911-f5f9-4164-ce64-7f2fe672e79f"
      },
      "outputs": [
        {
          "name": "stdout",
          "output_type": "stream",
          "text": [
            "27.92 37.72 9.799999999999997 32.08196721311475\n",
            "13.220000000000006 52.419999999999995\n"
          ]
        }
      ],
      "source": [
        "Q1 = df['money'].quantile(0.25)\n",
        "Q3 = df['money'].quantile(0.75)\n",
        "#หา Q1 Q3 ด้วย เปอร์เซ็นพาย\n",
        "IQR = Q3 - Q1\n",
        "\n",
        "print(Q1,Q3,IQR,df['money'].mean())\n",
        "# Define outlier range\n",
        "lower_bound = Q1 - 1.5 * IQR # ถ้าน้อยกว่าค่านี้จะเป็นค่าผิดปกติ\n",
        "upper_bound = Q3 + 1.5 * IQR # ถ้ามากกว่าจะเป็นค่าผิดปกติ\n",
        "\n",
        "print(lower_bound,upper_bound)\n",
        "df = df[(df['money'] >= lower_bound) & (df['money'] <= upper_bound)] # ลบ data ที่ผิดปกติออกทั้งแถว!\n"
      ]
    },
    {
      "cell_type": "markdown",
      "metadata": {
        "id": "cFguP-w40W03"
      },
      "source": [
        "จะเห็นได้ว่าเลข row ลดไป 1 แสดงว่ามีค่าผิดปกติ 1 ตัว"
      ]
    },
    {
      "cell_type": "code",
      "execution_count": 11,
      "metadata": {
        "colab": {
          "base_uri": "https://localhost:8080/"
        },
        "id": "8AYz2a1YlKeU",
        "outputId": "3b79faf5-fe96-49a2-cd19-b7ded1b23076"
      },
      "outputs": [
        {
          "data": {
            "text/plain": [
              "(1463, 6)"
            ]
          },
          "execution_count": 11,
          "metadata": {},
          "output_type": "execute_result"
        }
      ],
      "source": [
        "df.shape"
      ]
    },
    {
      "cell_type": "code",
      "execution_count": 12,
      "metadata": {
        "colab": {
          "base_uri": "https://localhost:8080/",
          "height": 300
        },
        "id": "aFe0pA6x1tFH",
        "outputId": "e309f620-8b2f-46ce-a460-c644605ec2f3"
      },
      "outputs": [
        {
          "data": {
            "text/html": [
              "<div>\n",
              "<style scoped>\n",
              "    .dataframe tbody tr th:only-of-type {\n",
              "        vertical-align: middle;\n",
              "    }\n",
              "\n",
              "    .dataframe tbody tr th {\n",
              "        vertical-align: top;\n",
              "    }\n",
              "\n",
              "    .dataframe thead th {\n",
              "        text-align: right;\n",
              "    }\n",
              "</style>\n",
              "<table border=\"1\" class=\"dataframe\">\n",
              "  <thead>\n",
              "    <tr style=\"text-align: right;\">\n",
              "      <th></th>\n",
              "      <th>money</th>\n",
              "    </tr>\n",
              "  </thead>\n",
              "  <tbody>\n",
              "    <tr>\n",
              "      <th>count</th>\n",
              "      <td>1463.000000</td>\n",
              "    </tr>\n",
              "    <tr>\n",
              "      <th>mean</th>\n",
              "      <td>32.015789</td>\n",
              "    </tr>\n",
              "    <tr>\n",
              "      <th>std</th>\n",
              "      <td>5.318216</td>\n",
              "    </tr>\n",
              "    <tr>\n",
              "      <th>min</th>\n",
              "      <td>18.120000</td>\n",
              "    </tr>\n",
              "    <tr>\n",
              "      <th>25%</th>\n",
              "      <td>27.920000</td>\n",
              "    </tr>\n",
              "    <tr>\n",
              "      <th>50%</th>\n",
              "      <td>32.820000</td>\n",
              "    </tr>\n",
              "    <tr>\n",
              "      <th>75%</th>\n",
              "      <td>37.720000</td>\n",
              "    </tr>\n",
              "    <tr>\n",
              "      <th>max</th>\n",
              "      <td>40.000000</td>\n",
              "    </tr>\n",
              "  </tbody>\n",
              "</table>\n",
              "</div>"
            ],
            "text/plain": [
              "             money\n",
              "count  1463.000000\n",
              "mean     32.015789\n",
              "std       5.318216\n",
              "min      18.120000\n",
              "25%      27.920000\n",
              "50%      32.820000\n",
              "75%      37.720000\n",
              "max      40.000000"
            ]
          },
          "execution_count": 12,
          "metadata": {},
          "output_type": "execute_result"
        }
      ],
      "source": [
        "df.describe()"
      ]
    },
    {
      "cell_type": "markdown",
      "metadata": {
        "id": "ju--bKtF1X97"
      },
      "source": [
        "กูทำมั่วนะ\n"
      ]
    },
    {
      "cell_type": "markdown",
      "metadata": {
        "id": "BqzkwERL2ALs"
      },
      "source": [
        "ยอดขายทั้งหมด"
      ]
    },
    {
      "cell_type": "code",
      "execution_count": 13,
      "metadata": {
        "colab": {
          "base_uri": "https://localhost:8080/"
        },
        "id": "7gXG_rMO1b3W",
        "outputId": "64a2fbde-15ec-43c1-cddc-efead495f040"
      },
      "outputs": [
        {
          "data": {
            "text/plain": [
              "np.float64(46839.1)"
            ]
          },
          "execution_count": 13,
          "metadata": {},
          "output_type": "execute_result"
        }
      ],
      "source": [
        "result = df['money'].sum()\n",
        "result"
      ]
    },
    {
      "cell_type": "markdown",
      "metadata": {
        "id": "_oJsssWb1tFH"
      },
      "source": [
        "จำนวนลูกค้าในแต่ละเดือน ตั้งแต่เดือน มีนาคม ถึง กันยายน"
      ]
    },
    {
      "cell_type": "markdown",
      "metadata": {
        "id": "NGnnRluL1UI0"
      },
      "source": [
        "แก้มบ้าไปแล้ว\n"
      ]
    },
    {
      "cell_type": "code",
      "execution_count": 14,
      "metadata": {
        "colab": {
          "base_uri": "https://localhost:8080/",
          "height": 335
        },
        "id": "R1b8Z3_S1tFH",
        "outputId": "e3512def-ad32-4676-b1d3-204262fbed47"
      },
      "outputs": [
        {
          "data": {
            "text/plain": [
              "date\n",
              "2024-08    272\n",
              "2024-05    267\n",
              "2024-07    237\n",
              "2024-06    227\n",
              "2024-03    205\n",
              "2024-04    196\n",
              "2024-09     59\n",
              "Name: count, dtype: int64"
            ]
          },
          "execution_count": 14,
          "metadata": {},
          "output_type": "execute_result"
        }
      ],
      "source": [
        "ans = coff['date'].apply(lambda x : x[:-3])\n",
        "ans.value_counts()"
      ]
    },
    {
      "cell_type": "markdown",
      "metadata": {
        "id": "KvdshbJw1tFH"
      },
      "source": [
        "ยอดขายในแต่ละเดือนที่ขายกาแฟได้ ตั้งแต่เดือน มีนาคม ถึง กันยายน"
      ]
    },
    {
      "cell_type": "code",
      "execution_count": 15,
      "metadata": {
        "colab": {
          "base_uri": "https://localhost:8080/",
          "height": 335
        },
        "id": "T4XVD2Yp1tFH",
        "outputId": "aaa187f9-4a13-4c55-bd99-6006f464735e"
      },
      "outputs": [
        {
          "data": {
            "text/plain": [
              "date\n",
              "2024-09    1745.28\n",
              "2024-04    6720.56\n",
              "2024-07    6915.94\n",
              "2024-03    7021.30\n",
              "2024-08    7613.84\n",
              "2024-06    7758.76\n",
              "2024-05    9063.42\n",
              "Name: money, dtype: float64"
            ]
          },
          "execution_count": 15,
          "metadata": {},
          "output_type": "execute_result"
        }
      ],
      "source": [
        "ans = [df['date'].apply(lambda x : x[:-3])]\n",
        "value = df.groupby(ans)['money'].sum().sort_values()\n",
        "value\n"
      ]
    },
    {
      "cell_type": "markdown",
      "metadata": {
        "id": "h6r0naZ43YKf"
      },
      "source": [
        "กราฟยอดขายแต่ละเดือน ทำไงว้า แชทพิมควยไร"
      ]
    },
    {
      "cell_type": "code",
      "execution_count": 16,
      "metadata": {
        "colab": {
          "base_uri": "https://localhost:8080/",
          "height": 1000
        },
        "id": "Gfq5ZIf646Fz",
        "outputId": "cda19802-02dd-45b3-882d-1d92da050040"
      },
      "outputs": [
        {
          "data": {
            "text/plain": [
              "Text(0.5, 1.0, 'ยอดรวมราคาแต่ละเดือน')"
            ]
          },
          "execution_count": 16,
          "metadata": {},
          "output_type": "execute_result"
        },
        {
          "name": "stderr",
          "output_type": "stream",
          "text": [
            "/home/gamgamgam/.local/lib/python3.10/site-packages/IPython/core/events.py:82: UserWarning: Glyph 3618 (\\N{THAI CHARACTER YO YAK}) missing from font(s) DejaVu Sans.\n",
            "  func(*args, **kwargs)\n",
            "/home/gamgamgam/.local/lib/python3.10/site-packages/IPython/core/events.py:82: UserWarning: Glyph 3629 (\\N{THAI CHARACTER O ANG}) missing from font(s) DejaVu Sans.\n",
            "  func(*args, **kwargs)\n",
            "/home/gamgamgam/.local/lib/python3.10/site-packages/IPython/core/events.py:82: UserWarning: Glyph 3604 (\\N{THAI CHARACTER DO DEK}) missing from font(s) DejaVu Sans.\n",
            "  func(*args, **kwargs)\n",
            "/home/gamgamgam/.local/lib/python3.10/site-packages/IPython/core/events.py:82: UserWarning: Glyph 3619 (\\N{THAI CHARACTER RO RUA}) missing from font(s) DejaVu Sans.\n",
            "  func(*args, **kwargs)\n",
            "/home/gamgamgam/.local/lib/python3.10/site-packages/IPython/core/events.py:82: UserWarning: Glyph 3623 (\\N{THAI CHARACTER WO WAEN}) missing from font(s) DejaVu Sans.\n",
            "  func(*args, **kwargs)\n",
            "/home/gamgamgam/.local/lib/python3.10/site-packages/IPython/core/events.py:82: UserWarning: Glyph 3617 (\\N{THAI CHARACTER MO MA}) missing from font(s) DejaVu Sans.\n",
            "  func(*args, **kwargs)\n",
            "/home/gamgamgam/.local/lib/python3.10/site-packages/IPython/core/events.py:82: UserWarning: Glyph 3634 (\\N{THAI CHARACTER SARA AA}) missing from font(s) DejaVu Sans.\n",
            "  func(*args, **kwargs)\n",
            "/home/gamgamgam/.local/lib/python3.10/site-packages/IPython/core/events.py:82: UserWarning: Glyph 3588 (\\N{THAI CHARACTER KHO KHWAI}) missing from font(s) DejaVu Sans.\n",
            "  func(*args, **kwargs)\n",
            "/home/gamgamgam/.local/lib/python3.10/site-packages/IPython/core/events.py:82: UserWarning: Glyph 3649 (\\N{THAI CHARACTER SARA AE}) missing from font(s) DejaVu Sans.\n",
            "  func(*args, **kwargs)\n",
            "/home/gamgamgam/.local/lib/python3.10/site-packages/IPython/core/events.py:82: UserWarning: Glyph 3605 (\\N{THAI CHARACTER TO TAO}) missing from font(s) DejaVu Sans.\n",
            "  func(*args, **kwargs)\n",
            "/home/gamgamgam/.local/lib/python3.10/site-packages/IPython/core/events.py:82: UserWarning: Glyph 3656 (\\N{THAI CHARACTER MAI EK}) missing from font(s) DejaVu Sans.\n",
            "  func(*args, **kwargs)\n",
            "/home/gamgamgam/.local/lib/python3.10/site-packages/IPython/core/events.py:82: UserWarning: Glyph 3621 (\\N{THAI CHARACTER LO LING}) missing from font(s) DejaVu Sans.\n",
            "  func(*args, **kwargs)\n",
            "/home/gamgamgam/.local/lib/python3.10/site-packages/IPython/core/events.py:82: UserWarning: Glyph 3632 (\\N{THAI CHARACTER SARA A}) missing from font(s) DejaVu Sans.\n",
            "  func(*args, **kwargs)\n",
            "/home/gamgamgam/.local/lib/python3.10/site-packages/IPython/core/events.py:82: UserWarning: Glyph 3648 (\\N{THAI CHARACTER SARA E}) missing from font(s) DejaVu Sans.\n",
            "  func(*args, **kwargs)\n",
            "/home/gamgamgam/.local/lib/python3.10/site-packages/IPython/core/events.py:82: UserWarning: Glyph 3639 (\\N{THAI CHARACTER SARA UEE}) missing from font(s) DejaVu Sans.\n",
            "  func(*args, **kwargs)\n",
            "/home/gamgamgam/.local/lib/python3.10/site-packages/IPython/core/events.py:82: UserWarning: Glyph 3609 (\\N{THAI CHARACTER NO NU}) missing from font(s) DejaVu Sans.\n",
            "  func(*args, **kwargs)\n",
            "/home/gamgamgam/.local/lib/python3.10/site-packages/IPython/core/pylabtools.py:170: UserWarning: Glyph 3618 (\\N{THAI CHARACTER YO YAK}) missing from font(s) DejaVu Sans.\n",
            "  fig.canvas.print_figure(bytes_io, **kw)\n",
            "/home/gamgamgam/.local/lib/python3.10/site-packages/IPython/core/pylabtools.py:170: UserWarning: Glyph 3629 (\\N{THAI CHARACTER O ANG}) missing from font(s) DejaVu Sans.\n",
            "  fig.canvas.print_figure(bytes_io, **kw)\n",
            "/home/gamgamgam/.local/lib/python3.10/site-packages/IPython/core/pylabtools.py:170: UserWarning: Glyph 3604 (\\N{THAI CHARACTER DO DEK}) missing from font(s) DejaVu Sans.\n",
            "  fig.canvas.print_figure(bytes_io, **kw)\n",
            "/home/gamgamgam/.local/lib/python3.10/site-packages/IPython/core/pylabtools.py:170: UserWarning: Glyph 3619 (\\N{THAI CHARACTER RO RUA}) missing from font(s) DejaVu Sans.\n",
            "  fig.canvas.print_figure(bytes_io, **kw)\n",
            "/home/gamgamgam/.local/lib/python3.10/site-packages/IPython/core/pylabtools.py:170: UserWarning: Glyph 3623 (\\N{THAI CHARACTER WO WAEN}) missing from font(s) DejaVu Sans.\n",
            "  fig.canvas.print_figure(bytes_io, **kw)\n",
            "/home/gamgamgam/.local/lib/python3.10/site-packages/IPython/core/pylabtools.py:170: UserWarning: Glyph 3617 (\\N{THAI CHARACTER MO MA}) missing from font(s) DejaVu Sans.\n",
            "  fig.canvas.print_figure(bytes_io, **kw)\n",
            "/home/gamgamgam/.local/lib/python3.10/site-packages/IPython/core/pylabtools.py:170: UserWarning: Glyph 3634 (\\N{THAI CHARACTER SARA AA}) missing from font(s) DejaVu Sans.\n",
            "  fig.canvas.print_figure(bytes_io, **kw)\n",
            "/home/gamgamgam/.local/lib/python3.10/site-packages/IPython/core/pylabtools.py:170: UserWarning: Glyph 3588 (\\N{THAI CHARACTER KHO KHWAI}) missing from font(s) DejaVu Sans.\n",
            "  fig.canvas.print_figure(bytes_io, **kw)\n",
            "/home/gamgamgam/.local/lib/python3.10/site-packages/IPython/core/pylabtools.py:170: UserWarning: Glyph 3649 (\\N{THAI CHARACTER SARA AE}) missing from font(s) DejaVu Sans.\n",
            "  fig.canvas.print_figure(bytes_io, **kw)\n",
            "/home/gamgamgam/.local/lib/python3.10/site-packages/IPython/core/pylabtools.py:170: UserWarning: Glyph 3605 (\\N{THAI CHARACTER TO TAO}) missing from font(s) DejaVu Sans.\n",
            "  fig.canvas.print_figure(bytes_io, **kw)\n",
            "/home/gamgamgam/.local/lib/python3.10/site-packages/IPython/core/pylabtools.py:170: UserWarning: Glyph 3656 (\\N{THAI CHARACTER MAI EK}) missing from font(s) DejaVu Sans.\n",
            "  fig.canvas.print_figure(bytes_io, **kw)\n",
            "/home/gamgamgam/.local/lib/python3.10/site-packages/IPython/core/pylabtools.py:170: UserWarning: Glyph 3621 (\\N{THAI CHARACTER LO LING}) missing from font(s) DejaVu Sans.\n",
            "  fig.canvas.print_figure(bytes_io, **kw)\n",
            "/home/gamgamgam/.local/lib/python3.10/site-packages/IPython/core/pylabtools.py:170: UserWarning: Glyph 3632 (\\N{THAI CHARACTER SARA A}) missing from font(s) DejaVu Sans.\n",
            "  fig.canvas.print_figure(bytes_io, **kw)\n",
            "/home/gamgamgam/.local/lib/python3.10/site-packages/IPython/core/pylabtools.py:170: UserWarning: Glyph 3648 (\\N{THAI CHARACTER SARA E}) missing from font(s) DejaVu Sans.\n",
            "  fig.canvas.print_figure(bytes_io, **kw)\n",
            "/home/gamgamgam/.local/lib/python3.10/site-packages/IPython/core/pylabtools.py:170: UserWarning: Glyph 3639 (\\N{THAI CHARACTER SARA UEE}) missing from font(s) DejaVu Sans.\n",
            "  fig.canvas.print_figure(bytes_io, **kw)\n",
            "/home/gamgamgam/.local/lib/python3.10/site-packages/IPython/core/pylabtools.py:170: UserWarning: Glyph 3609 (\\N{THAI CHARACTER NO NU}) missing from font(s) DejaVu Sans.\n",
            "  fig.canvas.print_figure(bytes_io, **kw)\n"
          ]
        },
        {
          "data": {
            "image/png": "[encoded data removed]",
            "text/plain": [
              "<Figure size 640x480 with 1 Axes>"
            ]
          },
          "metadata": {},
          "output_type": "display_data"
        }
      ],
      "source": [
        "df['date'] = pd.to_datetime(df['date'])\n",
        "\n",
        "# สร้างคอลัมน์เดือน\n",
        "df['month'] = df['date'].dt.strftime('%Y-%m')\n",
        "\n",
        "# คำนวณยอดรวมตามเดือน\n",
        "monthly_total = df.groupby('month')['money'].sum().reset_index()\n",
        "\n",
        "# สร้างกราฟแท่ง\n",
        "plt.bar(monthly_total['month'], monthly_total['money'], color='brown', edgecolor='black')\n",
        "\n",
        "# ตั้งชื่อแกนและกราฟ\n",
        "plt.xlabel('เดือน')\n",
        "plt.ylabel('ยอดรวมราคา')\n",
        "plt.title('ยอดรวมราคาแต่ละเดือน')"
      ]
    },
    {
      "cell_type": "markdown",
      "metadata": {
        "id": "TYgAZ56M1tFH"
      },
      "source": [
        "ในแต่ละเดือนกาแฟอะไรขายดีที่สุด"
      ]
    },
    {
      "cell_type": "code",
      "execution_count": 17,
      "metadata": {
        "colab": {
          "base_uri": "https://localhost:8080/",
          "height": 1000
        },
        "id": "udP91fE-1tFH",
        "outputId": "c1a73873-27d4-46ac-8b1a-cc870dfb1a21"
      },
      "outputs": [
        {
          "data": {
            "text/plain": [
              "date     coffee_name        \n",
              "2024-03  Americano              1044.80\n",
              "         Americano with Milk    1154.00\n",
              "         Cappuccino              780.50\n",
              "         Cocoa                   232.20\n",
              "         Cortado                 840.30\n",
              "         Espresso                241.00\n",
              "         Hot Chocolate           854.00\n",
              "         Latte                  1874.50\n",
              "2024-04  Americano              1001.94\n",
              "         Americano with Milk    1407.74\n",
              "         Cappuccino             1659.44\n",
              "         Cocoa                   232.82\n",
              "         Cortado                 548.48\n",
              "         Espresso                171.00\n",
              "         Hot Chocolate           506.02\n",
              "         Latte                  1193.12\n",
              "2024-05  Americano              1348.80\n",
              "         Americano with Milk    1908.28\n",
              "         Cappuccino             2078.44\n",
              "         Cocoa                   340.76\n",
              "         Cortado                 474.64\n",
              "         Espresso                185.14\n",
              "         Hot Chocolate           529.36\n",
              "         Latte                  2198.00\n",
              "2024-06  Americano               390.88\n",
              "         Americano with Milk    2268.12\n",
              "         Cappuccino             1735.12\n",
              "         Cocoa                   189.88\n",
              "         Cortado                 530.48\n",
              "         Espresso                230.20\n",
              "         Hot Chocolate           528.08\n",
              "         Latte                  1886.00\n",
              "2024-07  Americano               858.12\n",
              "         Americano with Milk    1863.80\n",
              "         Cappuccino             1079.64\n",
              "         Cocoa                   300.28\n",
              "         Cortado                 322.28\n",
              "         Espresso                273.28\n",
              "         Hot Chocolate           361.02\n",
              "         Latte                  1857.52\n",
              "2024-08  Americano               851.74\n",
              "         Americano with Milk    2010.24\n",
              "         Cappuccino             1115.88\n",
              "         Cocoa                   361.02\n",
              "         Cortado                 920.80\n",
              "         Espresso                253.68\n",
              "         Hot Chocolate           196.92\n",
              "         Latte                  1903.56\n",
              "2024-09  Americano               161.14\n",
              "         Americano with Milk     586.32\n",
              "         Cappuccino              295.38\n",
              "         Cocoa                   164.10\n",
              "         Cortado                  46.04\n",
              "         Latte                   492.30\n",
              "Name: money, dtype: float64"
            ]
          },
          "execution_count": 17,
          "metadata": {},
          "output_type": "execute_result"
        }
      ],
      "source": [
        "ans = coff['date'].apply(lambda x : x[:-3])\n",
        "value = coff.groupby([ans,'coffee_name'])['money'].sum()\n",
        "value"
      ]
    },
    {
      "cell_type": "markdown",
      "metadata": {
        "id": "AuFKOjnD1tFH"
      },
      "source": [
        "ในแต่ละเดือนผู้คนส่วนใหญ่ใช้อะไรในการจ่ายค่ากาแฟ"
      ]
    },
    {
      "cell_type": "code",
      "execution_count": 18,
      "metadata": {
        "colab": {
          "base_uri": "https://localhost:8080/",
          "height": 460
        },
        "id": "-I0VRye31tFH",
        "outputId": "93575af8-a7ab-41c6-8e1c-db6c16d318bd"
      },
      "outputs": [
        {
          "data": {
            "text/plain": [
              "date     cash_type\n",
              "2024-03  card         174\n",
              "         cash          31\n",
              "2024-04  card         168\n",
              "         cash          28\n",
              "2024-05  card         241\n",
              "         cash          26\n",
              "2024-06  card         223\n",
              "         cash           4\n",
              "2024-07  card         237\n",
              "2024-08  card         272\n",
              "2024-09  card          59\n",
              "Name: count, dtype: int64"
            ]
          },
          "execution_count": 18,
          "metadata": {},
          "output_type": "execute_result"
        }
      ],
      "source": [
        "ans = coff['date'].apply(lambda x : x[:-3])\n",
        "value = coff.groupby([ans])['cash_type'].value_counts()\n",
        "value"
      ]
    },
    {
      "cell_type": "markdown",
      "metadata": {
        "id": "nUtlKtb11tFI"
      },
      "source": [
        "ช่วงเวลาที่ขายกาแฟได้มากที่สุดในแต่ละเดือน"
      ]
    },
    {
      "cell_type": "code",
      "execution_count": 19,
      "metadata": {
        "colab": {
          "base_uri": "https://localhost:8080/",
          "height": 147
        },
        "id": "Hx2Ibprt1tFI",
        "outputId": "72c0aecd-5865-4d3b-f885-5c0fdffe95c4"
      },
      "outputs": [
        {
          "data": {
            "text/plain": [
              "datetime        22\n",
              "money       5235.0\n",
              "dtype: object"
            ]
          },
          "execution_count": 19,
          "metadata": {},
          "output_type": "execute_result"
        }
      ],
      "source": [
        "month = coff['date'].apply(lambda x : x[:-3])\n",
        "time = coff['datetime'].apply(lambda x : x.split(' ')[1][:2])\n",
        "value = coff.groupby([time])['money'].sum().reset_index()\n",
        "value.max()"
      ]
    },
    {
      "cell_type": "markdown",
      "metadata": {
        "id": "hMXQWCHn1tFI"
      },
      "source": [
        "หายอดขายกาแฟอะไรมากที่สุดในแต่ละเดือน"
      ]
    },
    {
      "cell_type": "code",
      "execution_count": 20,
      "metadata": {
        "colab": {
          "base_uri": "https://localhost:8080/",
          "height": 269
        },
        "id": "16_LEDU41tFI",
        "outputId": "4ed1d0b8-45e5-4cad-d337-fcfab115e475"
      },
      "outputs": [
        {
          "data": {
            "text/html": [
              "<div>\n",
              "<style scoped>\n",
              "    .dataframe tbody tr th:only-of-type {\n",
              "        vertical-align: middle;\n",
              "    }\n",
              "\n",
              "    .dataframe tbody tr th {\n",
              "        vertical-align: top;\n",
              "    }\n",
              "\n",
              "    .dataframe thead th {\n",
              "        text-align: right;\n",
              "    }\n",
              "</style>\n",
              "<table border=\"1\" class=\"dataframe\">\n",
              "  <thead>\n",
              "    <tr style=\"text-align: right;\">\n",
              "      <th></th>\n",
              "      <th>date</th>\n",
              "      <th>coffee_name</th>\n",
              "      <th>money</th>\n",
              "    </tr>\n",
              "  </thead>\n",
              "  <tbody>\n",
              "    <tr>\n",
              "      <th>7</th>\n",
              "      <td>2024-03</td>\n",
              "      <td>Latte</td>\n",
              "      <td>1874.50</td>\n",
              "    </tr>\n",
              "    <tr>\n",
              "      <th>10</th>\n",
              "      <td>2024-04</td>\n",
              "      <td>Cappuccino</td>\n",
              "      <td>1659.44</td>\n",
              "    </tr>\n",
              "    <tr>\n",
              "      <th>23</th>\n",
              "      <td>2024-05</td>\n",
              "      <td>Latte</td>\n",
              "      <td>2198.00</td>\n",
              "    </tr>\n",
              "    <tr>\n",
              "      <th>25</th>\n",
              "      <td>2024-06</td>\n",
              "      <td>Americano with Milk</td>\n",
              "      <td>2268.12</td>\n",
              "    </tr>\n",
              "    <tr>\n",
              "      <th>33</th>\n",
              "      <td>2024-07</td>\n",
              "      <td>Americano with Milk</td>\n",
              "      <td>1863.80</td>\n",
              "    </tr>\n",
              "    <tr>\n",
              "      <th>41</th>\n",
              "      <td>2024-08</td>\n",
              "      <td>Americano with Milk</td>\n",
              "      <td>2010.24</td>\n",
              "    </tr>\n",
              "    <tr>\n",
              "      <th>49</th>\n",
              "      <td>2024-09</td>\n",
              "      <td>Americano with Milk</td>\n",
              "      <td>586.32</td>\n",
              "    </tr>\n",
              "  </tbody>\n",
              "</table>\n",
              "</div>"
            ],
            "text/plain": [
              "       date          coffee_name    money\n",
              "7   2024-03                Latte  1874.50\n",
              "10  2024-04           Cappuccino  1659.44\n",
              "23  2024-05                Latte  2198.00\n",
              "25  2024-06  Americano with Milk  2268.12\n",
              "33  2024-07  Americano with Milk  1863.80\n",
              "41  2024-08  Americano with Milk  2010.24\n",
              "49  2024-09  Americano with Milk   586.32"
            ]
          },
          "execution_count": 20,
          "metadata": {},
          "output_type": "execute_result"
        }
      ],
      "source": [
        "month = coff['date'].apply(lambda x : x[:-3])\n",
        "value = coff.groupby([month,'coffee_name'])['money'].sum().reset_index()\n",
        "\n",
        "best_selling_per_month = value.loc[value.groupby(value['date'].str[:7])['money'].idxmax()]\n",
        "best_selling_per_month"
      ]
    },
    {
      "cell_type": "code",
      "execution_count": 21,
      "metadata": {
        "colab": {
          "base_uri": "https://localhost:8080/"
        },
        "id": "v2TC3Tj21tFI",
        "outputId": "6c186c24-cd79-47f1-dc35-e792816ea27e"
      },
      "outputs": [
        {
          "data": {
            "text/plain": [
              "Index(['date', 'datetime', 'cash_type', 'card', 'money', 'coffee_name',\n",
              "       'month'],\n",
              "      dtype='object')"
            ]
          },
          "execution_count": 21,
          "metadata": {},
          "output_type": "execute_result"
        }
      ],
      "source": [
        "df.columns"
      ]
    }
  ],
  "metadata": {
    "colab": {
      "provenance": []
    },
    "kernelspec": {
      "display_name": "Python 3",
      "language": "python",
      "name": "python3"
    },
    "language_info": {
      "codemirror_mode": {
        "name": "ipython",
        "version": 3
      },
      "file_extension": ".py",
      "mimetype": "text/x-python",
      "name": "python",
      "nbconvert_exporter": "python",
      "pygments_lexer": "ipython3",
      "version": "3.10.12"
    }
  },
  "nbformat": 4,
  "nbformat_minor": 0
}
