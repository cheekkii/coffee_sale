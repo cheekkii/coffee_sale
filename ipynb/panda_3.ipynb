{
 "cells": [
  {
   "cell_type": "markdown",
   "metadata": {},
   "source": [
    "จัดการกับข้อมูลที่สูญหาย (Missing Data)"
   ]
  },
  {
   "cell_type": "code",
   "execution_count": 51,
   "metadata": {},
   "outputs": [],
   "source": [
    "import pandas as pd"
   ]
  },
  {
   "cell_type": "code",
   "execution_count": 52,
   "metadata": {},
   "outputs": [],
   "source": [
    "#copy path ของไฟล์data index.csv แล้วเอามาวาง\n",
    "coff = pd.read_csv(\"/home/gamgamgam/Documents/Term1SecondYear/204203/coffee_sale/data/index.csv\")"
   ]
  },
  {
   "cell_type": "code",
   "execution_count": 53,
   "metadata": {},
   "outputs": [
    {
     "name": "stdout",
     "output_type": "stream",
     "text": [
      "จำนวนข้อมูลที่หายไปในแต่ละ column\n",
      "date            0\n",
      "datetime        0\n",
      "cash_type       0\n",
      "card           89\n",
      "money           0\n",
      "coffee_name     0\n",
      "dtype: int64\n"
     ]
    }
   ],
   "source": [
    "missing = coff.isnull().sum()\n",
    "print(\"จำนวนข้อมูลที่หายไปในแต่ละ column\")\n",
    "print(missing)"
   ]
  },
  {
   "cell_type": "code",
   "execution_count": 54,
   "metadata": {},
   "outputs": [
    {
     "name": "stdout",
     "output_type": "stream",
     "text": [
      "เปอร์เซ็นในการหายไปของข้อมูลในแต่ละ column\n",
      "date           0.000000\n",
      "datetime       0.000000\n",
      "cash_type      0.000000\n",
      "card           6.079235\n",
      "money          0.000000\n",
      "coffee_name    0.000000\n",
      "dtype: float64\n"
     ]
    }
   ],
   "source": [
    "missing_per = (missing / len(coff)) * 100\n",
    "print(\"เปอร์เซ็นในการหายไปของข้อมูลในแต่ละ column\")\n",
    "print(missing_per)"
   ]
  },
  {
   "cell_type": "code",
   "execution_count": 55,
   "metadata": {},
   "outputs": [
    {
     "data": {
      "text/plain": [
       "Index(['date', 'datetime', 'cash_type', 'card', 'money', 'coffee_name'], dtype='object')"
      ]
     },
     "execution_count": 55,
     "metadata": {},
     "output_type": "execute_result"
    }
   ],
   "source": [
    "coff.columns"
   ]
  },
  {
   "cell_type": "markdown",
   "metadata": {},
   "source": [
    "จัดการกับ outlier"
   ]
  },
  {
   "cell_type": "code",
   "execution_count": 56,
   "metadata": {},
   "outputs": [
    {
     "name": "stdout",
     "output_type": "stream",
     "text": [
      "128.9\n",
      "18.12\n"
     ]
    }
   ],
   "source": [
    "print(coff['money'].max())\n",
    "print(coff['money'].min())"
   ]
  },
  {
   "cell_type": "code",
   "execution_count": 57,
   "metadata": {},
   "outputs": [],
   "source": [
    "Q1 = coff['money'].quantile(0.25)\n",
    "Q3 = coff['money'].quantile(0.75)\n",
    "IQR = Q3 - Q1\n",
    "value = coff[~((coff['money'] < (Q1 - 1.5 * IQR)) | (coff['money'] > (Q3 + 1.5 * IQR)))]\n",
    "value.to_csv('/home/gamgamgam/Documents/Term1SecondYear/204203/coffee_sale/data/cleaned_data.csv', index=False)\n",
    "\n",
    "\n"
   ]
  }
 ],
 "metadata": {
  "kernelspec": {
   "display_name": "Python 3",
   "language": "python",
   "name": "python3"
  },
  "language_info": {
   "codemirror_mode": {
    "name": "ipython",
    "version": 3
   },
   "file_extension": ".py",
   "mimetype": "text/x-python",
   "name": "python",
   "nbconvert_exporter": "python",
   "pygments_lexer": "ipython3",
   "version": "3.10.12"
  }
 },
 "nbformat": 4,
 "nbformat_minor": 2
}
