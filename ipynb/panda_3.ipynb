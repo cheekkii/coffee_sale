{
 "cells": [
  {
   "cell_type": "markdown",
   "metadata": {},
   "source": [
    "จัดการกับข้อมูลที่สูญหาย (Missing Data)"
   ]
  },
  {
   "cell_type": "code",
   "execution_count": 1,
   "metadata": {},
   "outputs": [],
   "source": [
    "import pandas as pd"
   ]
  },
  {
   "cell_type": "code",
   "execution_count": 2,
   "metadata": {},
   "outputs": [],
   "source": [
    "#copy path ของไฟล์data index.csv แล้วเอามาวาง\n",
    "coff = pd.read_csv(\"/home/gamgamgam/Documents/Term1SecondYear/204203/coffee_sale/data/index.csv\")"
   ]
  },
  {
   "cell_type": "code",
   "execution_count": 3,
   "metadata": {},
   "outputs": [
    {
     "name": "stdout",
     "output_type": "stream",
     "text": [
      "จำนวนข้อมูลที่หายไปในแต่ละ column\n",
      "date            0\n",
      "datetime        0\n",
      "cash_type       0\n",
      "card           89\n",
      "money           0\n",
      "coffee_name     0\n",
      "dtype: int64\n"
     ]
    }
   ],
   "source": [
    "missing = coff.isnull().sum()\n",
    "print(\"จำนวนข้อมูลที่หายไปในแต่ละ column\")\n",
    "print(missing)"
   ]
  },
  {
   "cell_type": "code",
   "execution_count": 4,
   "metadata": {},
   "outputs": [
    {
     "name": "stdout",
     "output_type": "stream",
     "text": [
      "เปอร์เซ็นในการหายไปของข้อมูลในแต่ละ column\n",
      "date           0.000000\n",
      "datetime       0.000000\n",
      "cash_type      0.000000\n",
      "card           6.079235\n",
      "money          0.000000\n",
      "coffee_name    0.000000\n",
      "dtype: float64\n"
     ]
    }
   ],
   "source": [
    "missing_per = (missing / len(coff)) * 100\n",
    "print(\"เปอร์เซ็นในการหายไปของข้อมูลในแต่ละ column\")\n",
    "print(missing_per)"
   ]
  },
  {
   "cell_type": "code",
   "execution_count": 5,
   "metadata": {},
   "outputs": [
    {
     "data": {
      "text/plain": [
       "Index(['date', 'datetime', 'cash_type', 'card', 'money', 'coffee_name'], dtype='object')"
      ]
     },
     "execution_count": 5,
     "metadata": {},
     "output_type": "execute_result"
    }
   ],
   "source": [
    "coff.columns"
   ]
  },
  {
   "cell_type": "markdown",
   "metadata": {},
   "source": [
    "จัดการกับ outlier"
   ]
  },
  {
   "cell_type": "code",
   "execution_count": 6,
   "metadata": {},
   "outputs": [
    {
     "name": "stdout",
     "output_type": "stream",
     "text": [
      "128.9\n",
      "18.12\n"
     ]
    }
   ],
   "source": [
    "print(coff['money'].max())\n",
    "print(coff['money'].min())"
   ]
  },
  {
   "cell_type": "markdown",
   "metadata": {},
   "source": [
    "check ว่า มีตัวไหนที่จ่ายด้วยcard แล้วไม่มีเลขการ์ด"
   ]
  },
  {
   "cell_type": "code",
   "execution_count": 9,
   "metadata": {},
   "outputs": [
    {
     "data": {
      "text/html": [
       "<div>\n",
       "<style scoped>\n",
       "    .dataframe tbody tr th:only-of-type {\n",
       "        vertical-align: middle;\n",
       "    }\n",
       "\n",
       "    .dataframe tbody tr th {\n",
       "        vertical-align: top;\n",
       "    }\n",
       "\n",
       "    .dataframe thead th {\n",
       "        text-align: right;\n",
       "    }\n",
       "</style>\n",
       "<table border=\"1\" class=\"dataframe\">\n",
       "  <thead>\n",
       "    <tr style=\"text-align: right;\">\n",
       "      <th></th>\n",
       "      <th>date</th>\n",
       "      <th>datetime</th>\n",
       "      <th>cash_type</th>\n",
       "      <th>card</th>\n",
       "      <th>money</th>\n",
       "      <th>coffee_name</th>\n",
       "    </tr>\n",
       "  </thead>\n",
       "  <tbody>\n",
       "  </tbody>\n",
       "</table>\n",
       "</div>"
      ],
      "text/plain": [
       "Empty DataFrame\n",
       "Columns: [date, datetime, cash_type, card, money, coffee_name]\n",
       "Index: []"
      ]
     },
     "execution_count": 9,
     "metadata": {},
     "output_type": "execute_result"
    }
   ],
   "source": [
    "ans1 = coff[(coff['cash_type'] == \"card\") & (coff['card'].isna())]\n",
    "ans1"
   ]
  },
  {
   "cell_type": "markdown",
   "metadata": {},
   "source": [
    "check ว่า มีตัวไหนที่จ่ายด้วยcash เท่ากับ จำนวนช่วงว่างของคอลัม cashไหม"
   ]
  },
  {
   "cell_type": "code",
   "execution_count": 15,
   "metadata": {},
   "outputs": [
    {
     "data": {
      "text/plain": [
       "date           89\n",
       "datetime       89\n",
       "cash_type      89\n",
       "card            0\n",
       "money          89\n",
       "coffee_name    89\n",
       "dtype: int64"
      ]
     },
     "execution_count": 15,
     "metadata": {},
     "output_type": "execute_result"
    }
   ],
   "source": [
    "ans1 = coff[(coff['cash_type'] == \"cash\") & (coff['card'].isna())]\n",
    "ans1.count()"
   ]
  },
  {
   "cell_type": "code",
   "execution_count": 38,
   "metadata": {},
   "outputs": [
    {
     "data": {
      "text/plain": [
       "np.float64(18.12)"
      ]
     },
     "execution_count": 38,
     "metadata": {},
     "output_type": "execute_result"
    }
   ],
   "source": [
    "# ใช้ IQR เพื่อกำหนดขอบเขตของ outliers\n",
    "Q1 = coff['money'].quantile(0.25)\n",
    "Q3 = coff['money'].quantile(0.75)\n",
    "IQR = Q3 - Q1\n",
    "lower_bound = Q1 - 1.5 * IQR\n",
    "upper_bound = Q3 + 1.5 * IQR\n",
    "\n",
    "\n",
    "# ลบ outliers\n",
    "data = coff[(coff['money'] >= lower_bound) & (coff['money'] <= upper_bound)]\n",
    "data['money'].min()\n",
    "\n",
    "\n"
   ]
  }
 ],
 "metadata": {
  "kernelspec": {
   "display_name": "Python 3",
   "language": "python",
   "name": "python3"
  },
  "language_info": {
   "codemirror_mode": {
    "name": "ipython",
    "version": 3
   },
   "file_extension": ".py",
   "mimetype": "text/x-python",
   "name": "python",
   "nbconvert_exporter": "python",
   "pygments_lexer": "ipython3",
   "version": "3.10.12"
  }
 },
 "nbformat": 4,
 "nbformat_minor": 2
}
